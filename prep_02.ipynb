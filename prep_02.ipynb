{
 "cells": [
  {
   "cell_type": "code",
   "execution_count": 448,
   "id": "prerequisite-trademark",
   "metadata": {},
   "outputs": [],
   "source": [
    "import pandas as pd\n",
    "import numpy as np\n",
    "import matplotlib.pyplot as plt\n",
    "import seaborn as sns\n",
    "import pickle\n",
    "\n",
    "from sklearn.preprocessing import StandardScaler\n",
    "from sklearn.model_selection import train_test_split\n",
    "from sklearn.metrics import accuracy_score, recall_score, precision_score, f1_score\n",
    "from sklearn.metrics import confusion_matrix, fbeta_score, roc_auc_score, roc_curve\n",
    "from sklearn.metrics import plot_roc_curve, plot_precision_recall_curve\n",
    " \n",
    "from sklearn.dummy import DummyClassifier\n",
    "from sklearn.linear_model import LogisticRegression\n",
    "from sklearn.tree import DecisionTreeClassifier, plot_tree\n",
    "from sklearn.neighbors import KNeighborsClassifier\n",
    "from sklearn.ensemble import RandomForestClassifier\n",
    "from sklearn.naive_bayes import BernoulliNB, GaussianNB\n",
    "\n",
    "from xgboost import XGBClassifier\n",
    "\n",
    "np.set_printoptions(suppress=True)\n",
    "\n",
    "%matplotlib inline"
   ]
  },
  {
   "cell_type": "code",
   "execution_count": 2,
   "id": "closing-martin",
   "metadata": {},
   "outputs": [],
   "source": [
    "def vcounts(col):\n",
    "    df = (loans[col].value_counts(dropna=False)\n",
    "          .rename(\"count\")\n",
    "          .reset_index())\n",
    "    df['pct'] = df['count'] / df['count'].sum()\n",
    "    return df"
   ]
  },
  {
   "cell_type": "code",
   "execution_count": 3,
   "id": "indirect-jesus",
   "metadata": {},
   "outputs": [],
   "source": [
    "def APRF(act, pred, th = 0.5, title=''):\n",
    "    print(title)\n",
    "    plt.figure(figsize=(8,10))\n",
    "    cm = confusion_matrix(act, pred)\n",
    "    sns.heatmap(cm, cmap='Blues', square=True,\n",
    "                annot=True, fmt='d',\n",
    "               xticklabels=['No Default', 'Default'],\n",
    "               yticklabels=['No Default', 'Default'])\n",
    "    plt.title(\"Confusion Matrix - Logistic Regression \")\n",
    "    plt.ylabel(\"Defaults Actual\")\n",
    "    plt.xlabel(\"Defaults Predicted\")\n",
    "    print(\"Accuracy:  {}\".format(accuracy_score(act, pred)))\n",
    "    print(\"Precision: {}\".format(precision_score(act, pred)))\n",
    "    print(\"Recall:    {}\".format(recall_score(act, pred)))\n",
    "    print(\"F1:        {}\".format(f1_score(act, pred)))\n",
    "    plt.savefig('example.png')\n",
    "    "
   ]
  },
  {
   "cell_type": "code",
   "execution_count": 411,
   "id": "associate-venice",
   "metadata": {},
   "outputs": [],
   "source": [
    "def APRF2(act_t, pred_t, act_v, pred_v, th = 0.5, title=''):\n",
    "    print(title)\n",
    "    plt.figure(figsize=(6,6))\n",
    "    \n",
    "    plt.subplot(2,1,1)\n",
    "    cm = confusion_matrix(act_t, pred_t)\n",
    "    sns.heatmap(cm, cmap='Blues', square=True,\n",
    "                annot=True, fmt='d',\n",
    "               xticklabels=['No Default', 'Default'],\n",
    "               yticklabels=['No Default', 'Default'])\n",
    "    plt.title(\"Confusion Matrix\")\n",
    "    plt.ylabel(\"Defaults Actual\")\n",
    "    plt.xlabel(\"Defaults Predicted\")\n",
    "    \n",
    "    plt.subplot(2,1,2)\n",
    "    cm = confusion_matrix(act_v, pred_v)\n",
    "    sns.heatmap(cm, cmap='Reds', square=True,\n",
    "                annot=True, fmt='d',\n",
    "               xticklabels=['No Default', 'Default'],\n",
    "               yticklabels=['No Default', 'Default'])\n",
    "    plt.title(\"Confusion Matrix\")\n",
    "    plt.ylabel(\"Defaults Actual\")\n",
    "    plt.xlabel(\"Defaults Predicted\")\n",
    "    \n",
    "    plt.tight_layout()\n",
    "    \n",
    "    print(\"Training:\")\n",
    "    print(\"Accuracy:  {}\".format(accuracy_score(act_t, pred_t)))\n",
    "    print(\"Precision: {}\".format(precision_score(act_t, pred_t, zero_division=0)))\n",
    "    print(\"Recall:    {}\".format(recall_score(act_t, pred_t, zero_division=0)))\n",
    "    print(\"F1:        {}\".format(f1_score(act_t, pred_t)))\n",
    "    print(\"Fbeta:     {}\".format(fbeta_score(act_t, pred_t, beta =2 )))\n",
    "    print()\n",
    "    print(\"Validation:\")\n",
    "    print(\"Accuracy:  {}\".format(accuracy_score(act_v, pred_v)))\n",
    "    print(\"Precision: {}\".format(precision_score(act_v, pred_v, zero_division=0)))\n",
    "    print(\"Recall:    {}\".format(recall_score(act_v, pred_v, zero_division=0)))\n",
    "    print(\"F1:        {}\".format(f1_score(act_v, pred_v)))\n",
    "    print(\"Fbeta:     {}\".format(fbeta_score(act_v, pred_v, beta=2)))\n",
    "\n",
    "    "
   ]
  },
  {
   "cell_type": "code",
   "execution_count": 43,
   "id": "industrial-integer",
   "metadata": {},
   "outputs": [
    {
     "name": "stderr",
     "output_type": "stream",
     "text": [
      "/opt/anaconda3/envs/metis/lib/python3.8/site-packages/IPython/core/interactiveshell.py:3165: DtypeWarning: Columns (19,55) have mixed types.Specify dtype option on import or set low_memory=False.\n",
      "  has_raised = await self.run_ast_nodes(code_ast.body, cell_name,\n"
     ]
    }
   ],
   "source": [
    "loans = pd.read_csv('lc_loan.csv')\n",
    "#loans2 = pd.read_csv('lc_2016_2017.csv')"
   ]
  },
  {
   "cell_type": "markdown",
   "id": "common-monte",
   "metadata": {},
   "source": [
    "# Defining y\n",
    "\n",
    "The target variable will be binary - default or no default. \n",
    "\n",
    "Loans with `loan_status == 'Charged Off'` will be set to 1\n",
    "All other loans will be set to 0"
   ]
  },
  {
   "cell_type": "code",
   "execution_count": 44,
   "id": "imported-illness",
   "metadata": {},
   "outputs": [
    {
     "data": {
      "text/plain": [
       "Current                                                601779\n",
       "Fully Paid                                             207723\n",
       "Charged Off                                             45248\n",
       "Late (31-120 days)                                      11591\n",
       "Issued                                                   8460\n",
       "In Grace Period                                          6253\n",
       "Late (16-30 days)                                        2357\n",
       "Does not meet the credit policy. Status:Fully Paid       1988\n",
       "Default                                                  1219\n",
       "Does not meet the credit policy. Status:Charged Off       761\n",
       "Name: loan_status, dtype: int64"
      ]
     },
     "execution_count": 44,
     "metadata": {},
     "output_type": "execute_result"
    }
   ],
   "source": [
    "loans.loan_status.value_counts()"
   ]
  },
  {
   "cell_type": "code",
   "execution_count": 45,
   "id": "revolutionary-senegal",
   "metadata": {},
   "outputs": [],
   "source": [
    "#Single \n",
    "mapper = {True:1, False:0}\n",
    "loans[\"y\"] = loans.loan_status == \"Charged Off\"\n",
    "loans[\"y\"] = loans.y.map(mapper)\n",
    "y = loans['y']"
   ]
  },
  {
   "cell_type": "code",
   "execution_count": 46,
   "id": "technological-float",
   "metadata": {},
   "outputs": [
    {
     "data": {
      "text/plain": [
       "0    842131\n",
       "1     45248\n",
       "Name: y, dtype: int64"
      ]
     },
     "execution_count": 46,
     "metadata": {},
     "output_type": "execute_result"
    }
   ],
   "source": [
    "loans.y.value_counts(dropna = False)"
   ]
  },
  {
   "cell_type": "markdown",
   "id": "hispanic-tender",
   "metadata": {},
   "source": [
    "# EDA on Features / Target interaction"
   ]
  },
  {
   "cell_type": "code",
   "execution_count": 47,
   "id": "incomplete-picking",
   "metadata": {},
   "outputs": [
    {
     "data": {
      "text/plain": [
       "<AxesSubplot:xlabel='loan_amnt', ylabel='Density'>"
      ]
     },
     "execution_count": 47,
     "metadata": {},
     "output_type": "execute_result"
    },
    {
     "data": {
      "image/png": "[encoded data removed]",
      "text/plain": [
       "<Figure size 432x288 with 1 Axes>"
      ]
     },
     "metadata": {
      "needs_background": "light"
     },
     "output_type": "display_data"
    }
   ],
   "source": [
    "sns.kdeplot(data=loans, x='loan_amnt', hue='y')"
   ]
  },
  {
   "cell_type": "code",
   "execution_count": 48,
   "id": "continued-recognition",
   "metadata": {},
   "outputs": [
    {
     "data": {
      "text/plain": [
       "MORTGAGE    443557\n",
       "RENT        356117\n",
       "OWN          87470\n",
       "OTHER          182\n",
       "NONE            50\n",
       "ANY              3\n",
       "Name: home_ownership, dtype: int64"
      ]
     },
     "execution_count": 48,
     "metadata": {},
     "output_type": "execute_result"
    }
   ],
   "source": [
    "#Cols preprocessing\n",
    "loans.home_ownership.value_counts(dropna=False)\n"
   ]
  },
  {
   "cell_type": "code",
   "execution_count": 49,
   "id": "isolated-black",
   "metadata": {},
   "outputs": [],
   "source": [
    "mapper = {'MORTGAGE':'MORTGAGE',\n",
    "          'RENT':'RENT',\n",
    "          'OWN':'OWN',\n",
    "          'NONE':'OTHER',\n",
    "          'ANY':'OTHER',\n",
    "          'OTHER':'OTHER'}\n",
    "loans['home_ownership2'] = loans['home_ownership'].map(mapper)"
   ]
  },
  {
   "cell_type": "code",
   "execution_count": 50,
   "id": "hourly-disposition",
   "metadata": {},
   "outputs": [
    {
     "data": {
      "text/plain": [
       "0"
      ]
     },
     "execution_count": 50,
     "metadata": {},
     "output_type": "execute_result"
    }
   ],
   "source": [
    "loans.home_ownership2.isna().sum()"
   ]
  },
  {
   "cell_type": "markdown",
   "id": "young-blues",
   "metadata": {},
   "source": [
    "**Feature:** Term"
   ]
  },
  {
   "cell_type": "code",
   "execution_count": 51,
   "id": "small-pattern",
   "metadata": {},
   "outputs": [
    {
     "data": {
      "text/plain": [
       " 36 months    621125\n",
       " 60 months    266254\n",
       "Name: term, dtype: int64"
      ]
     },
     "execution_count": 51,
     "metadata": {},
     "output_type": "execute_result"
    }
   ],
   "source": [
    "loans.term.value_counts(dropna = False)"
   ]
  },
  {
   "cell_type": "code",
   "execution_count": 52,
   "id": "olympic-classic",
   "metadata": {},
   "outputs": [],
   "source": [
    "mapper = {'36 months' : 0,\n",
    "          '60 months' : 1}\n",
    "loans[\"term2\"] = loans.term.str.strip()\n",
    "loans[\"term2\"] = loans.term2.map(mapper)"
   ]
  },
  {
   "cell_type": "code",
   "execution_count": 53,
   "id": "japanese-yemen",
   "metadata": {},
   "outputs": [
    {
     "data": {
      "text/plain": [
       "0    621125\n",
       "1    266254\n",
       "Name: term2, dtype: int64"
      ]
     },
     "execution_count": 53,
     "metadata": {},
     "output_type": "execute_result"
    }
   ],
   "source": [
    "loans.term2.value_counts()"
   ]
  },
  {
   "cell_type": "code",
   "execution_count": null,
   "id": "voluntary-fifty",
   "metadata": {},
   "outputs": [],
   "source": []
  },
  {
   "cell_type": "markdown",
   "id": "empirical-warren",
   "metadata": {},
   "source": [
    "**Feature:** Open Accounts"
   ]
  },
  {
   "cell_type": "code",
   "execution_count": 54,
   "id": "experienced-printing",
   "metadata": {},
   "outputs": [
    {
     "data": {
      "text/plain": [
       "<AxesSubplot:xlabel='open_acc', ylabel='Density'>"
      ]
     },
     "execution_count": 54,
     "metadata": {},
     "output_type": "execute_result"
    },
    {
     "data": {
      "image/png": "[encoded data removed]",
      "text/plain": [
       "<Figure size 432x288 with 1 Axes>"
      ]
     },
     "metadata": {
      "needs_background": "light"
     },
     "output_type": "display_data"
    }
   ],
   "source": [
    "sns.kdeplot(data=loans, x='open_acc', hue='y')"
   ]
  },
  {
   "cell_type": "code",
   "execution_count": 55,
   "id": "instant-ghana",
   "metadata": {},
   "outputs": [
    {
     "data": {
      "text/plain": [
       "9.0     80285\n",
       "10.0    78321\n",
       "8.0     76578\n",
       "11.0    72265\n",
       "7.0     67896\n",
       "        ...  \n",
       "67.0        1\n",
       "64.0        1\n",
       "90.0        1\n",
       "57.0        1\n",
       "74.0        1\n",
       "Name: open_acc, Length: 78, dtype: int64"
      ]
     },
     "execution_count": 55,
     "metadata": {},
     "output_type": "execute_result"
    }
   ],
   "source": [
    "loans.open_acc.value_counts(dropna=False)"
   ]
  },
  {
   "cell_type": "markdown",
   "id": "adopted-hierarchy",
   "metadata": {},
   "source": [
    "**Feature:** Grade"
   ]
  },
  {
   "cell_type": "code",
   "execution_count": 564,
   "id": "palestinian-cylinder",
   "metadata": {},
   "outputs": [
    {
     "data": {
      "text/plain": [
       "NaN      454312\n",
       "9.0        8591\n",
       "6.0        8470\n",
       "12.0       8368\n",
       "8.0        8335\n",
       "          ...  \n",
       "180.0         1\n",
       "124.0         1\n",
       "159.0         1\n",
       "140.0         1\n",
       "136.0         1\n",
       "Name: mths_since_last_delinq, Length: 156, dtype: int64"
      ]
     },
     "execution_count": 564,
     "metadata": {},
     "output_type": "execute_result"
    }
   ],
   "source": [
    "loans.mths_since_last_delinq.value_counts(dropna=False)"
   ]
  },
  {
   "cell_type": "code",
   "execution_count": 566,
   "id": "rocky-brick",
   "metadata": {},
   "outputs": [
    {
     "data": {
      "text/plain": [
       "<AxesSubplot:xlabel='mths_since_last_delinq', ylabel='Density'>"
      ]
     },
     "execution_count": 566,
     "metadata": {},
     "output_type": "execute_result"
    },
    {
     "data": {
      "image/png": "[encoded data removed]",
      "text/plain": [
       "<Figure size 432x288 with 1 Axes>"
      ]
     },
     "metadata": {},
     "output_type": "display_data"
    }
   ],
   "source": [
    "sns.kdeplot(data=loans, x='mths_since_last_delinq', hue='y')"
   ]
  },
  {
   "cell_type": "markdown",
   "id": "continued-judges",
   "metadata": {},
   "source": [
    "**Feature:** Verification Status"
   ]
  },
  {
   "cell_type": "code",
   "execution_count": 58,
   "id": "electric-border",
   "metadata": {},
   "outputs": [
    {
     "data": {
      "text/plain": [
       "Source Verified    329558\n",
       "Verified           291071\n",
       "Not Verified       266750\n",
       "Name: verification_status, dtype: int64"
      ]
     },
     "execution_count": 58,
     "metadata": {},
     "output_type": "execute_result"
    }
   ],
   "source": [
    "loans.verification_status.value_counts(dropna=False)"
   ]
  },
  {
   "cell_type": "code",
   "execution_count": 59,
   "id": "horizontal-paper",
   "metadata": {},
   "outputs": [
    {
     "data": {
      "text/plain": [
       "<AxesSubplot:xlabel='verification_status', ylabel='count'>"
      ]
     },
     "execution_count": 59,
     "metadata": {},
     "output_type": "execute_result"
    },
    {
     "data": {
      "image/png": "[encoded data removed]",
      "text/plain": [
       "<Figure size 432x288 with 1 Axes>"
      ]
     },
     "metadata": {
      "needs_background": "light"
     },
     "output_type": "display_data"
    }
   ],
   "source": [
    "sns.countplot(data=loans, x='verification_status', hue='y')"
   ]
  },
  {
   "cell_type": "code",
   "execution_count": 500,
   "id": "brutal-leather",
   "metadata": {},
   "outputs": [
    {
     "data": {
      "text/plain": [
       "(0.0, 20000.0)"
      ]
     },
     "execution_count": 500,
     "metadata": {},
     "output_type": "execute_result"
    },
    {
     "data": {
      "image/png": "[encoded data removed]",
      "text/plain": [
       "<Figure size 432x288 with 1 Axes>"
      ]
     },
     "metadata": {
      "needs_background": "light"
     },
     "output_type": "display_data"
    }
   ],
   "source": [
    "sns.countplot(data=loans, x='addr_state', hue='y')\n",
    "plt.ylim((0,20000))\n"
   ]
  },
  {
   "cell_type": "code",
   "execution_count": 61,
   "id": "electoral-friday",
   "metadata": {},
   "outputs": [
    {
     "data": {
      "text/plain": [
       "purpose             y\n",
       "car                 0      8415\n",
       "                    1       448\n",
       "credit_card         0    198356\n",
       "                    1      7826\n",
       "debt_consolidation  0    496616\n",
       "                    1     27599\n",
       "educational         0       367\n",
       "                    1        56\n",
       "home_improvement    0     49560\n",
       "                    1      2269\n",
       "house               0      3421\n",
       "                    1       286\n",
       "major_purchase      0     16403\n",
       "                    1       874\n",
       "medical             0      7971\n",
       "                    1       569\n",
       "moving              0      4989\n",
       "                    1       425\n",
       "other               0     39958\n",
       "                    1      2936\n",
       "renewable_energy    0       521\n",
       "                    1        54\n",
       "small_business      0      9006\n",
       "                    1      1371\n",
       "vacation            0      4466\n",
       "                    1       270\n",
       "wedding             0      2082\n",
       "                    1       265\n",
       "dtype: int64"
      ]
     },
     "execution_count": 61,
     "metadata": {},
     "output_type": "execute_result"
    }
   ],
   "source": [
    "loans[['purpose','y']].value_counts().sort_index()"
   ]
  },
  {
   "cell_type": "code",
   "execution_count": 62,
   "id": "informational-leeds",
   "metadata": {},
   "outputs": [
    {
     "data": {
      "text/html": [
       "<div>\n",
       "<style scoped>\n",
       "    .dataframe tbody tr th:only-of-type {\n",
       "        vertical-align: middle;\n",
       "    }\n",
       "\n",
       "    .dataframe tbody tr th {\n",
       "        vertical-align: top;\n",
       "    }\n",
       "\n",
       "    .dataframe thead th {\n",
       "        text-align: right;\n",
       "    }\n",
       "</style>\n",
       "<table border=\"1\" class=\"dataframe\">\n",
       "  <thead>\n",
       "    <tr style=\"text-align: right;\">\n",
       "      <th></th>\n",
       "      <th>index</th>\n",
       "      <th>count</th>\n",
       "      <th>pct</th>\n",
       "    </tr>\n",
       "  </thead>\n",
       "  <tbody>\n",
       "    <tr>\n",
       "      <th>0</th>\n",
       "      <td>debt_consolidation</td>\n",
       "      <td>524215</td>\n",
       "      <td>0.590745</td>\n",
       "    </tr>\n",
       "    <tr>\n",
       "      <th>1</th>\n",
       "      <td>credit_card</td>\n",
       "      <td>206182</td>\n",
       "      <td>0.232349</td>\n",
       "    </tr>\n",
       "    <tr>\n",
       "      <th>2</th>\n",
       "      <td>home_improvement</td>\n",
       "      <td>51829</td>\n",
       "      <td>0.058407</td>\n",
       "    </tr>\n",
       "    <tr>\n",
       "      <th>3</th>\n",
       "      <td>other</td>\n",
       "      <td>42894</td>\n",
       "      <td>0.048338</td>\n",
       "    </tr>\n",
       "    <tr>\n",
       "      <th>4</th>\n",
       "      <td>major_purchase</td>\n",
       "      <td>17277</td>\n",
       "      <td>0.019470</td>\n",
       "    </tr>\n",
       "    <tr>\n",
       "      <th>5</th>\n",
       "      <td>small_business</td>\n",
       "      <td>10377</td>\n",
       "      <td>0.011694</td>\n",
       "    </tr>\n",
       "    <tr>\n",
       "      <th>6</th>\n",
       "      <td>car</td>\n",
       "      <td>8863</td>\n",
       "      <td>0.009988</td>\n",
       "    </tr>\n",
       "    <tr>\n",
       "      <th>7</th>\n",
       "      <td>medical</td>\n",
       "      <td>8540</td>\n",
       "      <td>0.009624</td>\n",
       "    </tr>\n",
       "    <tr>\n",
       "      <th>8</th>\n",
       "      <td>moving</td>\n",
       "      <td>5414</td>\n",
       "      <td>0.006101</td>\n",
       "    </tr>\n",
       "    <tr>\n",
       "      <th>9</th>\n",
       "      <td>vacation</td>\n",
       "      <td>4736</td>\n",
       "      <td>0.005337</td>\n",
       "    </tr>\n",
       "    <tr>\n",
       "      <th>10</th>\n",
       "      <td>house</td>\n",
       "      <td>3707</td>\n",
       "      <td>0.004177</td>\n",
       "    </tr>\n",
       "    <tr>\n",
       "      <th>11</th>\n",
       "      <td>wedding</td>\n",
       "      <td>2347</td>\n",
       "      <td>0.002645</td>\n",
       "    </tr>\n",
       "    <tr>\n",
       "      <th>12</th>\n",
       "      <td>renewable_energy</td>\n",
       "      <td>575</td>\n",
       "      <td>0.000648</td>\n",
       "    </tr>\n",
       "    <tr>\n",
       "      <th>13</th>\n",
       "      <td>educational</td>\n",
       "      <td>423</td>\n",
       "      <td>0.000477</td>\n",
       "    </tr>\n",
       "  </tbody>\n",
       "</table>\n",
       "</div>"
      ],
      "text/plain": [
       "                 index   count       pct\n",
       "0   debt_consolidation  524215  0.590745\n",
       "1          credit_card  206182  0.232349\n",
       "2     home_improvement   51829  0.058407\n",
       "3                other   42894  0.048338\n",
       "4       major_purchase   17277  0.019470\n",
       "5       small_business   10377  0.011694\n",
       "6                  car    8863  0.009988\n",
       "7              medical    8540  0.009624\n",
       "8               moving    5414  0.006101\n",
       "9             vacation    4736  0.005337\n",
       "10               house    3707  0.004177\n",
       "11             wedding    2347  0.002645\n",
       "12    renewable_energy     575  0.000648\n",
       "13         educational     423  0.000477"
      ]
     },
     "execution_count": 62,
     "metadata": {},
     "output_type": "execute_result"
    }
   ],
   "source": [
    "vcounts('purpose')"
   ]
  },
  {
   "cell_type": "code",
   "execution_count": 236,
   "id": "single-combine",
   "metadata": {},
   "outputs": [
    {
     "data": {
      "text/plain": [
       "(0.0, 10.0)"
      ]
     },
     "execution_count": 236,
     "metadata": {},
     "output_type": "execute_result"
    },
    {
     "data": {
      "image/png": "[encoded data removed]",
      "text/plain": [
       "<Figure size 432x288 with 1 Axes>"
      ]
     },
     "metadata": {
      "needs_background": "light"
     },
     "output_type": "display_data"
    }
   ],
   "source": [
    "sns.kdeplot(data=loans, x='pub_rec', hue='y')\n",
    "plt.xlim((0,10))"
   ]
  },
  {
   "cell_type": "code",
   "execution_count": 233,
   "id": "japanese-absorption",
   "metadata": {},
   "outputs": [
    {
     "data": {
      "text/plain": [
       "<AxesSubplot:xlabel='total_acc', ylabel='Density'>"
      ]
     },
     "execution_count": 233,
     "metadata": {},
     "output_type": "execute_result"
    },
    {
     "data": {
      "image/png": "[encoded data removed]",
      "text/plain": [
       "<Figure size 432x288 with 1 Axes>"
      ]
     },
     "metadata": {
      "needs_background": "light"
     },
     "output_type": "display_data"
    }
   ],
   "source": [
    "sns.kdeplot(data=loans, x='total_acc', hue='y')\n"
   ]
  },
  {
   "cell_type": "code",
   "execution_count": 237,
   "id": "burning-labor",
   "metadata": {},
   "outputs": [
    {
     "data": {
      "text/plain": [
       "<AxesSubplot:xlabel='inq_last_6mths', ylabel='Density'>"
      ]
     },
     "execution_count": 237,
     "metadata": {},
     "output_type": "execute_result"
    },
    {
     "data": {
      "image/png": "[encoded data removed]",
      "text/plain": [
       "<Figure size 432x288 with 1 Axes>"
      ]
     },
     "metadata": {
      "needs_background": "light"
     },
     "output_type": "display_data"
    }
   ],
   "source": [
    "sns.kdeplot(data=loans, x='inq_last_6mths', hue='y')\n"
   ]
  },
  {
   "cell_type": "code",
   "execution_count": 559,
   "id": "unsigned-dutch",
   "metadata": {},
   "outputs": [
    {
     "data": {
      "text/plain": [
       "<AxesSubplot:xlabel='all_util', ylabel='y'>"
      ]
     },
     "execution_count": 559,
     "metadata": {},
     "output_type": "execute_result"
    },
    {
     "data": {
      "image/png": "[encoded data removed]",
      "text/plain": [
       "<Figure size 432x288 with 1 Axes>"
      ]
     },
     "metadata": {},
     "output_type": "display_data"
    }
   ],
   "source": [
    "sns.boxplot(data=loans, x='all_util', y='y')"
   ]
  },
  {
   "cell_type": "code",
   "execution_count": 558,
   "id": "standing-creation",
   "metadata": {},
   "outputs": [
    {
     "data": {
      "text/plain": [
       "<AxesSubplot:xlabel='y', ylabel='dti'>"
      ]
     },
     "execution_count": 558,
     "metadata": {},
     "output_type": "execute_result"
    },
    {
     "data": {
      "image/png": "[encoded data removed]",
      "text/plain": [
       "<Figure size 432x288 with 1 Axes>"
      ]
     },
     "metadata": {},
     "output_type": "display_data"
    }
   ],
   "source": [
    "sns.boxplot(data=loans, x='y', y='dti')"
   ]
  },
  {
   "cell_type": "code",
   "execution_count": 563,
   "id": "enclosed-yemen",
   "metadata": {},
   "outputs": [
    {
     "data": {
      "text/plain": [
       "0"
      ]
     },
     "execution_count": 563,
     "metadata": {},
     "output_type": "execute_result"
    }
   ],
   "source": [
    "sum(loans.dti.isna())"
   ]
  },
  {
   "cell_type": "code",
   "execution_count": null,
   "id": "listed-alfred",
   "metadata": {},
   "outputs": [],
   "source": []
  },
  {
   "cell_type": "code",
   "execution_count": null,
   "id": "apart-person",
   "metadata": {},
   "outputs": [],
   "source": []
  },
  {
   "cell_type": "code",
   "execution_count": null,
   "id": "popular-grove",
   "metadata": {},
   "outputs": [],
   "source": []
  },
  {
   "cell_type": "markdown",
   "id": "frequent-extent",
   "metadata": {},
   "source": [
    "## Base features"
   ]
  },
  {
   "cell_type": "code",
   "execution_count": 331,
   "id": "internal-thousand",
   "metadata": {},
   "outputs": [
    {
     "data": {
      "text/plain": [
       "['loan_amnt',\n",
       " 'annual_inc',\n",
       " 'revol_util',\n",
       " 'delinq_2yrs',\n",
       " 'term2',\n",
       " 'open_acc',\n",
       " 'total_acc',\n",
       " 'pub_rec',\n",
       " 'inq_last_6mths',\n",
       " 'home_ownership2',\n",
       " 'verification_status',\n",
       " 'purpose',\n",
       " 'addr_state']"
      ]
     },
     "execution_count": 331,
     "metadata": {},
     "output_type": "execute_result"
    }
   ],
   "source": [
    "# X_NUM = ['loan_amnt', 'int_rate', 'annual_inc', 'revol_util', 'delinq_2yrs',\n",
    "#          'term2']\n",
    "\n",
    "X_NUM = ['loan_amnt', 'annual_inc', 'revol_util', 'delinq_2yrs', \n",
    "         'term2',\n",
    "         'open_acc',\n",
    "         'total_acc',\n",
    "         'pub_rec', \n",
    "         'inq_last_6mths']\n",
    "        \n",
    "X_CATEGORIES = ['home_ownership2', 'verification_status', 'purpose', 'addr_state']\n",
    "X_COLUMNS = X_NUM + X_CATEGORIES\n",
    "X_COLUMNS"
   ]
  },
  {
   "cell_type": "code",
   "execution_count": null,
   "id": "valuable-yacht",
   "metadata": {},
   "outputs": [],
   "source": []
  },
  {
   "cell_type": "code",
   "execution_count": 332,
   "id": "several-vertical",
   "metadata": {},
   "outputs": [
    {
     "data": {
      "text/plain": [
       "Index(['loan_amnt', 'annual_inc', 'revol_util', 'delinq_2yrs', 'term2',\n",
       "       'open_acc', 'total_acc', 'pub_rec', 'inq_last_6mths',\n",
       "       'home_ownership2_OTHER', 'home_ownership2_OWN', 'home_ownership2_RENT',\n",
       "       'verification_status_Source Verified', 'verification_status_Verified',\n",
       "       'purpose_credit_card', 'purpose_debt_consolidation',\n",
       "       'purpose_educational', 'purpose_home_improvement', 'purpose_house',\n",
       "       'purpose_major_purchase', 'purpose_medical', 'purpose_moving',\n",
       "       'purpose_other', 'purpose_renewable_energy', 'purpose_small_business',\n",
       "       'purpose_vacation', 'purpose_wedding', 'addr_state_AL', 'addr_state_AR',\n",
       "       'addr_state_AZ', 'addr_state_CA', 'addr_state_CO', 'addr_state_CT',\n",
       "       'addr_state_DC', 'addr_state_DE', 'addr_state_FL', 'addr_state_GA',\n",
       "       'addr_state_HI', 'addr_state_IA', 'addr_state_ID', 'addr_state_IL',\n",
       "       'addr_state_IN', 'addr_state_KS', 'addr_state_KY', 'addr_state_LA',\n",
       "       'addr_state_MA', 'addr_state_MD', 'addr_state_ME', 'addr_state_MI',\n",
       "       'addr_state_MN', 'addr_state_MO', 'addr_state_MS', 'addr_state_MT',\n",
       "       'addr_state_NC', 'addr_state_ND', 'addr_state_NE', 'addr_state_NH',\n",
       "       'addr_state_NJ', 'addr_state_NM', 'addr_state_NV', 'addr_state_NY',\n",
       "       'addr_state_OH', 'addr_state_OK', 'addr_state_OR', 'addr_state_PA',\n",
       "       'addr_state_RI', 'addr_state_SC', 'addr_state_SD', 'addr_state_TN',\n",
       "       'addr_state_TX', 'addr_state_UT', 'addr_state_VA', 'addr_state_VT',\n",
       "       'addr_state_WA', 'addr_state_WI', 'addr_state_WV', 'addr_state_WY'],\n",
       "      dtype='object')"
      ]
     },
     "execution_count": 332,
     "metadata": {},
     "output_type": "execute_result"
    }
   ],
   "source": [
    "X = loans[X_COLUMNS].copy()\n",
    "\n",
    "annual_inc_mean = X.annual_inc.mean()\n",
    "X.annual_inc.fillna(annual_inc_mean, inplace=True)\n",
    "\n",
    "annual_revol_util = X.revol_util.mean()\n",
    "X.revol_util.fillna(annual_revol_util, inplace=True)\n",
    "\n",
    "#annual_revol_util = X.revol_util.mean()\n",
    "X.delinq_2yrs.fillna(0, inplace=True)\n",
    "\n",
    "X.inq_last_6mths.fillna(0, inplace=True)\n",
    "X.total_acc.fillna(0, inplace=True)\n",
    "X.pub_rec.fillna(0, inplace=True)\n",
    "X.open_acc.fillna(0, inplace=True)\n",
    "\n",
    "\n",
    "\n",
    "\n",
    "# annual_inc_mean = X.annual_inc.mean()\n",
    "# X.annual_inc.fillna(annual_inc_mean, inplace=True)\n",
    "\n",
    "# annual_inc_mean = X.annual_inc.mean()\n",
    "# X.annual_inc.fillna(annual_inc_mean, inplace=True)\n",
    "\n",
    "# annual_inc_mean = X.annual_inc.mean()\n",
    "# X.annual_inc.fillna(annual_inc_mean, inplace=True)\n",
    "\n",
    "\n",
    "\n",
    "X = pd.get_dummies(X, columns = X_CATEGORIES, drop_first=True)\n",
    "\n",
    "X.columns"
   ]
  },
  {
   "cell_type": "code",
   "execution_count": 333,
   "id": "every-parliament",
   "metadata": {},
   "outputs": [],
   "source": [
    "def getdummycols(df, inlist):\n",
    "    newl = []\n",
    "    for s in inlist:\n",
    "        newl.extend(list(df.columns[df.columns.str.startswith(s)]))\n",
    "    return newl\n",
    "\n",
    "#getdummycols(X, ['addr_', 'purpose_',])"
   ]
  },
  {
   "cell_type": "code",
   "execution_count": 449,
   "id": "dressed-experiment",
   "metadata": {},
   "outputs": [],
   "source": [
    "with open('X_base.pkl', \"wb\") as file:\n",
    "    pickle.dump(X, file)\n",
    "with open('y_base.pkl', \"wb\") as file:\n",
    "    pickle.dump(y, file)\n"
   ]
  },
  {
   "cell_type": "markdown",
   "id": "pediatric-underground",
   "metadata": {},
   "source": [
    "# Extra Features"
   ]
  },
  {
   "cell_type": "code",
   "execution_count": 567,
   "id": "imported-conservative",
   "metadata": {},
   "outputs": [
    {
     "data": {
      "text/plain": [
       "['loan_amnt',\n",
       " 'annual_inc',\n",
       " 'revol_util',\n",
       " 'delinq_2yrs',\n",
       " 'term2',\n",
       " 'open_acc',\n",
       " 'total_acc',\n",
       " 'pub_rec',\n",
       " 'dti',\n",
       " 'mths_since_last_delinq',\n",
       " 'inq_last_6mths',\n",
       " 'home_ownership2',\n",
       " 'verification_status',\n",
       " 'purpose',\n",
       " 'addr_state',\n",
       " 'zip_code',\n",
       " 'emp_length']"
      ]
     },
     "execution_count": 567,
     "metadata": {},
     "output_type": "execute_result"
    }
   ],
   "source": [
    "# X_NUM = ['loan_amnt', 'int_rate', 'annual_inc', 'revol_util', 'delinq_2yrs',\n",
    "#          'term2']\n",
    "\n",
    "X_NUM = ['loan_amnt', 'annual_inc', 'revol_util', 'delinq_2yrs', \n",
    "         'term2',\n",
    "         'open_acc',\n",
    "         'total_acc',\n",
    "         'pub_rec', \n",
    "          'dti',\n",
    "          'mths_since_last_delinq',\n",
    "         'inq_last_6mths']\n",
    "        \n",
    "X_CATEGORIES = ['home_ownership2', 'verification_status', 'purpose',\n",
    "                'addr_state', 'zip_code', 'emp_length']\n",
    "X_COLUMNS = X_NUM + X_CATEGORIES\n",
    "X_COLUMNS"
   ]
  },
  {
   "cell_type": "code",
   "execution_count": null,
   "id": "perfect-reminder",
   "metadata": {},
   "outputs": [],
   "source": []
  },
  {
   "cell_type": "code",
   "execution_count": 568,
   "id": "prospective-transcript",
   "metadata": {},
   "outputs": [
    {
     "data": {
      "text/plain": [
       "Index(['loan_amnt', 'annual_inc', 'revol_util', 'delinq_2yrs', 'term2',\n",
       "       'open_acc', 'total_acc', 'pub_rec', 'dti', 'mths_since_last_delinq',\n",
       "       ...\n",
       "       'emp_length_10+ years', 'emp_length_2 years', 'emp_length_3 years',\n",
       "       'emp_length_4 years', 'emp_length_5 years', 'emp_length_6 years',\n",
       "       'emp_length_7 years', 'emp_length_8 years', 'emp_length_9 years',\n",
       "       'emp_length_< 1 year'],\n",
       "      dtype='object', length=1023)"
      ]
     },
     "execution_count": 568,
     "metadata": {},
     "output_type": "execute_result"
    }
   ],
   "source": [
    "X = loans[X_COLUMNS].copy()\n",
    "\n",
    "annual_inc_mean = X.annual_inc.mean()\n",
    "X.annual_inc.fillna(annual_inc_mean, inplace=True)\n",
    "\n",
    "annual_revol_util = X.revol_util.mean()\n",
    "X.revol_util.fillna(annual_revol_util, inplace=True)\n",
    "\n",
    "#annual_revol_util = X.revol_util.mean()\n",
    "X.delinq_2yrs.fillna(0, inplace=True)\n",
    "\n",
    "X.inq_last_6mths.fillna(0, inplace=True)\n",
    "X.total_acc.fillna(0, inplace=True)\n",
    "X.pub_rec.fillna(0, inplace=True)\n",
    "X.open_acc.fillna(0, inplace=True)\n",
    "\n",
    "X.mths_since_last_delinq.fillna(0, inplace=True)\n",
    "\n",
    "\n",
    "# annual_inc_mean = X.annual_inc.mean()\n",
    "# X.annual_inc.fillna(annual_inc_mean, inplace=True)\n",
    "\n",
    "# annual_inc_mean = X.annual_inc.mean()\n",
    "# X.annual_inc.fillna(annual_inc_mean, inplace=True)\n",
    "\n",
    "# annual_inc_mean = X.annual_inc.mean()\n",
    "# X.annual_inc.fillna(annual_inc_mean, inplace=True)\n",
    "\n",
    "\n",
    "\n",
    "X = pd.get_dummies(X, columns = X_CATEGORIES, drop_first=True)\n",
    "\n",
    "X.columns"
   ]
  },
  {
   "cell_type": "code",
   "execution_count": 569,
   "id": "headed-hierarchy",
   "metadata": {},
   "outputs": [],
   "source": [
    "def getdummycols(df, inlist):\n",
    "    newl = []\n",
    "    for s in inlist:\n",
    "        newl.extend(list(df.columns[df.columns.str.startswith(s)]))\n",
    "    return newl\n",
    "\n",
    "#getdummycols(X, ['addr_', 'purpose_',])"
   ]
  },
  {
   "cell_type": "code",
   "execution_count": 570,
   "id": "controversial-desperate",
   "metadata": {},
   "outputs": [],
   "source": [
    "with open('X_xtra1.pkl', \"wb\") as file:\n",
    "    pickle.dump(X, file)\n",
    "with open('y_xtra1.pkl', \"wb\") as file:\n",
    "    pickle.dump(y, file)\n"
   ]
  },
  {
   "cell_type": "markdown",
   "id": "driven-thought",
   "metadata": {},
   "source": [
    "# Files saved above are loaded in the `model_v1` and `model_extra1` notebooks where the models are executed"
   ]
  },
  {
   "cell_type": "markdown",
   "id": "duplicate-illinois",
   "metadata": {},
   "source": [
    "## Additional EDA / scratch work below\n"
   ]
  },
  {
   "cell_type": "code",
   "execution_count": null,
   "id": "accessory-sessions",
   "metadata": {},
   "outputs": [],
   "source": []
  },
  {
   "cell_type": "code",
   "execution_count": null,
   "id": "revolutionary-organic",
   "metadata": {},
   "outputs": [],
   "source": []
  },
  {
   "cell_type": "code",
   "execution_count": null,
   "id": "junior-welding",
   "metadata": {},
   "outputs": [],
   "source": []
  },
  {
   "cell_type": "code",
   "execution_count": null,
   "id": "another-terrace",
   "metadata": {},
   "outputs": [],
   "source": []
  },
  {
   "cell_type": "code",
   "execution_count": null,
   "id": "marine-technician",
   "metadata": {},
   "outputs": [],
   "source": []
  },
  {
   "cell_type": "code",
   "execution_count": null,
   "id": "upset-prospect",
   "metadata": {},
   "outputs": [],
   "source": []
  },
  {
   "cell_type": "code",
   "execution_count": null,
   "id": "complicated-electron",
   "metadata": {},
   "outputs": [],
   "source": []
  },
  {
   "cell_type": "markdown",
   "id": "global-following",
   "metadata": {},
   "source": [
    "# Create splits\n",
    "\n",
    "Use `stratify=y`"
   ]
  },
  {
   "cell_type": "code",
   "execution_count": 571,
   "id": "scenic-figure",
   "metadata": {},
   "outputs": [
    {
     "data": {
      "text/html": [
       "<div>\n",
       "<style scoped>\n",
       "    .dataframe tbody tr th:only-of-type {\n",
       "        vertical-align: middle;\n",
       "    }\n",
       "\n",
       "    .dataframe tbody tr th {\n",
       "        vertical-align: top;\n",
       "    }\n",
       "\n",
       "    .dataframe thead th {\n",
       "        text-align: right;\n",
       "    }\n",
       "</style>\n",
       "<table border=\"1\" class=\"dataframe\">\n",
       "  <thead>\n",
       "    <tr style=\"text-align: right;\">\n",
       "      <th></th>\n",
       "      <th>index</th>\n",
       "      <th>count</th>\n",
       "      <th>pct</th>\n",
       "    </tr>\n",
       "  </thead>\n",
       "  <tbody>\n",
       "    <tr>\n",
       "      <th>0</th>\n",
       "      <td>0</td>\n",
       "      <td>842131</td>\n",
       "      <td>0.949009</td>\n",
       "    </tr>\n",
       "    <tr>\n",
       "      <th>1</th>\n",
       "      <td>1</td>\n",
       "      <td>45248</td>\n",
       "      <td>0.050991</td>\n",
       "    </tr>\n",
       "  </tbody>\n",
       "</table>\n",
       "</div>"
      ],
      "text/plain": [
       "   index   count       pct\n",
       "0      0  842131  0.949009\n",
       "1      1   45248  0.050991"
      ]
     },
     "execution_count": 571,
     "metadata": {},
     "output_type": "execute_result"
    }
   ],
   "source": [
    "vcounts('y')"
   ]
  },
  {
   "cell_type": "code",
   "execution_count": 572,
   "id": "blocked-signature",
   "metadata": {},
   "outputs": [],
   "source": [
    "#Split data into 3: 60% train, 20% validation, 20% test\n",
    "X_train, X_test, y_train, y_test = train_test_split(X, y, test_size=0.2, stratify=y, random_state=2018)\n",
    "X_train, X_val, y_train, y_val = train_test_split(X_train, y_train, test_size=0.25, stratify=y_train, random_state=2019)\n"
   ]
  },
  {
   "cell_type": "code",
   "execution_count": 573,
   "id": "brown-swift",
   "metadata": {},
   "outputs": [
    {
     "data": {
      "text/plain": [
       "0    505279\n",
       "1     27148\n",
       "Name: y, dtype: int64"
      ]
     },
     "execution_count": 573,
     "metadata": {},
     "output_type": "execute_result"
    }
   ],
   "source": [
    "y_train.value_counts(dropna = False)"
   ]
  },
  {
   "cell_type": "code",
   "execution_count": 574,
   "id": "independent-dragon",
   "metadata": {},
   "outputs": [
    {
     "data": {
      "text/plain": [
       "0    168426\n",
       "1      9050\n",
       "Name: y, dtype: int64"
      ]
     },
     "execution_count": 574,
     "metadata": {},
     "output_type": "execute_result"
    }
   ],
   "source": [
    "y_test.value_counts(dropna=False)"
   ]
  },
  {
   "cell_type": "code",
   "execution_count": 575,
   "id": "binding-rendering",
   "metadata": {},
   "outputs": [
    {
     "name": "stdout",
     "output_type": "stream",
     "text": [
      "Dummy - Train\n",
      "Training:\n",
      "Accuracy:  0.949010850313752\n",
      "Precision: 0.0\n",
      "Recall:    0.0\n",
      "F1:        0.0\n",
      "Fbeta:     0.0\n",
      "\n",
      "Validation:\n",
      "Accuracy:  0.9490071897045235\n",
      "Precision: 0.0\n",
      "Recall:    0.0\n",
      "F1:        0.0\n",
      "Fbeta:     0.0\n"
     ]
    },
    {
     "data": {
      "image/png": "[encoded data removed]",
      "text/plain": [
       "<Figure size 432x432 with 4 Axes>"
      ]
     },
     "metadata": {},
     "output_type": "display_data"
    }
   ],
   "source": [
    "dum = DummyClassifier(strategy=\"most_frequent\")\n",
    "dum.fit(X_train, y_train)\n",
    "y_pred_dum = dum.predict(X_train)\n",
    "y_pred_dum2 = dum.predict(X_val)\n",
    "\n",
    "APRF2(y_train, y_pred_dum, y_val, y_pred_dum2, title = \"Dummy - Train\")\n"
   ]
  },
  {
   "cell_type": "code",
   "execution_count": 440,
   "id": "rational-astrology",
   "metadata": {},
   "outputs": [
    {
     "data": {
      "text/plain": [
       "DecisionTreeClassifier()"
      ]
     },
     "execution_count": 440,
     "metadata": {},
     "output_type": "execute_result"
    }
   ],
   "source": [
    "dt = DecisionTreeClassifier()\n",
    "dt.fit(X_train, y_train)"
   ]
  },
  {
   "cell_type": "code",
   "execution_count": 441,
   "id": "detected-arizona",
   "metadata": {
    "collapsed": true
   },
   "outputs": [
    {
     "name": "stdout",
     "output_type": "stream",
     "text": [
      "\n",
      "Training:\n",
      "Accuracy:  1.0\n",
      "Precision: 1.0\n",
      "Recall:    1.0\n",
      "F1:        1.0\n",
      "Fbeta:     1.0\n",
      "\n",
      "Validation:\n",
      "Accuracy:  0.8975467105411435\n",
      "Precision: 0.07134140617666385\n",
      "Recall:    0.08397790055248619\n",
      "F1:        0.07714561234329798\n",
      "Fbeta:     0.08110473182080122\n"
     ]
    },
    {
     "data": {
      "image/png": "[encoded data removed]",
      "text/plain": [
       "<Figure size 432x432 with 4 Axes>"
      ]
     },
     "metadata": {},
     "output_type": "display_data"
    }
   ],
   "source": [
    "y_preds_tree = dt.predict(X_train)\n",
    "y_preds_tree2 = dt.predict(X_val)\n",
    "\n",
    "APRF2(y_train, y_preds_tree, y_val, y_preds_tree2 )"
   ]
  },
  {
   "cell_type": "code",
   "execution_count": 443,
   "id": "paperback-seating",
   "metadata": {},
   "outputs": [
    {
     "data": {
      "text/plain": [
       "[Text(230.26541140985063, 215.34923076923076, 'X[8] <= 1.5\\ngini = 0.097\\nsamples = 532427\\nvalue = [505279, 27148]'),\n",
       " Text(150.58965278328563, 211.1676923076923, 'X[1] <= 61801.5\\ngini = 0.086\\nsamples = 443678\\nvalue = [423777, 19901]'),\n",
       " Text(91.1047320687008, 206.98615384615385, 'X[2] <= 61.45\\ngini = 0.106\\nsamples = 214053\\nvalue = [202013, 12040]'),\n",
       " Text(63.228226274180585, 202.80461538461537, 'X[24] <= 0.5\\ngini = 0.09\\nsamples = 127904\\nvalue = [121868, 6036]'),\n",
       " Text(47.621798445532185, 198.62307692307692, 'X[8] <= 0.5\\ngini = 0.088\\nsamples = 126562\\nvalue = [120705, 5857]'),\n",
       " Text(29.812864910084638, 194.44153846153847, 'X[13] <= 0.5\\ngini = 0.078\\nsamples = 83141\\nvalue = [79766, 3375]'),\n",
       " Text(18.832045924018615, 190.26, 'X[1] <= 45831.5\\ngini = 0.07\\nsamples = 61353\\nvalue = [59115, 2238]'),\n",
       " Text(10.294290287678812, 186.07846153846154, 'X[11] <= 0.5\\ngini = 0.082\\nsamples = 33324\\nvalue = [31895, 1429]'),\n",
       " Text(4.940852787921986, 181.8969230769231, 'X[0] <= 23437.5\\ngini = 0.068\\nsamples = 14591\\nvalue = [14073, 518]'),\n",
       " Text(4.918912654711297, 177.7153846153846, 'X[1] <= 4900.0\\ngini = 0.068\\nsamples = 14588\\nvalue = [14072, 516]'),\n",
       " Text(4.9079425881059535, 173.53384615384616, 'gini = 0.0\\nsamples = 1\\nvalue = [0, 1]'),\n",
       " Text(4.929882721316642, 173.53384615384616, 'X[1] <= 45827.881\\ngini = 0.068\\nsamples = 14587\\nvalue = [14072, 515]'),\n",
       " Text(4.918912654711297, 169.3523076923077, 'X[1] <= 34810.0\\ngini = 0.068\\nsamples = 14586\\nvalue = [14072, 514]'),\n",
       " Text(2.87512753279829, 165.17076923076922, 'X[37] <= 0.5\\ngini = 0.084\\nsamples = 5042\\nvalue = [4821, 221]'),\n",
       " Text(2.2780575777144882, 160.98923076923077, 'X[2] <= 44.45\\ngini = 0.083\\nsamples = 5028\\nvalue = [4810, 218]'),\n",
       " Text(1.3120590138856099, 156.80769230769232, 'X[51] <= 0.5\\ngini = 0.071\\nsamples = 3083\\nvalue = [2969, 114]'),\n",
       " Text(0.8436202760084995, 152.62615384615384, 'X[6] <= 8.5\\ngini = 0.069\\nsamples = 3058\\nvalue = [2948, 110]'),\n",
       " Text(0.33432992052692995, 148.4446153846154, 'X[56] <= 0.5\\ngini = 0.125\\nsamples = 239\\nvalue = [223, 16]'),\n",
       " Text(0.3233598539215859, 144.26307692307694, 'X[58] <= 0.5\\ngini = 0.118\\nsamples = 238\\nvalue = [223, 15]'),\n",
       " Text(0.3123897873162419, 140.08153846153846, 'X[16] <= 0.5\\ngini = 0.111\\nsamples = 237\\nvalue = [223, 14]'),\n",
       " Text(0.30141972071089784, 135.9, 'X[42] <= 0.5\\ngini = 0.104\\nsamples = 236\\nvalue = [223, 13]'),\n",
       " Text(0.251797310050787, 131.71846153846155, 'X[29] <= 0.5\\ngini = 0.097\\nsamples = 234\\nvalue = [222, 12]'),\n",
       " Text(0.18546268854659737, 127.53692307692307, 'X[60] <= 0.5\\ngini = 0.084\\nsamples = 227\\nvalue = [217, 10]'),\n",
       " Text(0.10764377856493822, 123.35538461538462, 'X[2] <= 0.25\\ngini = 0.066\\nsamples = 204\\nvalue = [197, 7]'),\n",
       " Text(0.06033536632939212, 119.17384615384616, 'X[0] <= 10900.0\\ngini = 0.278\\nsamples = 12\\nvalue = [10, 2]'),\n",
       " Text(0.0493652997240481, 114.99230769230769, 'X[20] <= 0.5\\ngini = 0.165\\nsamples = 11\\nvalue = [10, 1]'),\n",
       " Text(0.038395233118704075, 110.81076923076922, 'gini = 0.0\\nsamples = 10\\nvalue = [10, 0]'),\n",
       " Text(0.06033536632939212, 110.81076923076922, 'gini = 0.0\\nsamples = 1\\nvalue = [0, 1]'),\n",
       " Text(0.07130543293473614, 114.99230769230769, 'gini = 0.0\\nsamples = 1\\nvalue = [0, 1]'),\n",
       " Text(0.1549521908004843, 119.17384615384616, 'X[27] <= 0.5\\ngini = 0.051\\nsamples = 192\\nvalue = [187, 5]'),\n",
       " Text(0.11244318270477623, 114.99230769230769, 'X[53] <= 0.5\\ngini = 0.042\\nsamples = 188\\nvalue = [184, 4]'),\n",
       " Text(0.08227549954008016, 110.81076923076922, 'X[0] <= 12425.0\\ngini = 0.032\\nsamples = 182\\nvalue = [179, 3]'),\n",
       " Text(0.05485033302672011, 106.62923076923077, 'X[40] <= 0.5\\ngini = 0.023\\nsamples = 171\\nvalue = [169, 2]'),\n",
       " Text(0.03291019981603206, 102.44769230769231, 'X[0] <= 1450.0\\ngini = 0.012\\nsamples = 161\\nvalue = [160, 1]'),\n",
       " Text(0.021940133210688044, 98.26615384615384, 'X[5] <= 6.5\\ngini = 0.153\\nsamples = 12\\nvalue = [11, 1]'),\n",
       " Text(0.010970066605344022, 94.08461538461539, 'gini = 0.0\\nsamples = 11\\nvalue = [11, 0]'),\n",
       " Text(0.03291019981603206, 94.08461538461539, 'gini = 0.0\\nsamples = 1\\nvalue = [0, 1]'),\n",
       " Text(0.04388026642137609, 98.26615384615384, 'gini = 0.0\\nsamples = 149\\nvalue = [149, 0]'),\n",
       " Text(0.07679046623740815, 102.44769230769231, 'X[2] <= 16.05\\ngini = 0.18\\nsamples = 10\\nvalue = [9, 1]'),\n",
       " Text(0.06582039963206412, 98.26615384615384, 'X[6] <= 6.0\\ngini = 0.5\\nsamples = 2\\nvalue = [1, 1]'),\n",
       " Text(0.05485033302672011, 94.08461538461539, 'gini = 0.0\\nsamples = 1\\nvalue = [1, 0]'),\n",
       " Text(0.07679046623740815, 94.08461538461539, 'gini = 0.0\\nsamples = 1\\nvalue = [0, 1]'),\n",
       " Text(0.08776053284275218, 98.26615384615384, 'gini = 0.0\\nsamples = 8\\nvalue = [8, 0]'),\n",
       " Text(0.10970066605344023, 106.62923076923077, 'X[0] <= 12587.5\\ngini = 0.165\\nsamples = 11\\nvalue = [10, 1]'),\n",
       " Text(0.0987305994480962, 102.44769230769231, 'gini = 0.0\\nsamples = 1\\nvalue = [0, 1]'),\n",
       " Text(0.12067073265878424, 102.44769230769231, 'gini = 0.0\\nsamples = 10\\nvalue = [10, 0]'),\n",
       " Text(0.14261086586947228, 110.81076923076922, 'X[1] <= 16125.0\\ngini = 0.278\\nsamples = 6\\nvalue = [5, 1]'),\n",
       " Text(0.13164079926412825, 106.62923076923077, 'gini = 0.0\\nsamples = 1\\nvalue = [0, 1]'),\n",
       " Text(0.1535809324748163, 106.62923076923077, 'gini = 0.0\\nsamples = 5\\nvalue = [5, 0]'),\n",
       " Text(0.1974611988961924, 114.99230769230769, 'X[5] <= 2.5\\ngini = 0.375\\nsamples = 4\\nvalue = [3, 1]'),\n",
       " Text(0.18649113229084838, 110.81076923076922, 'X[10] <= 0.5\\ngini = 0.5\\nsamples = 2\\nvalue = [1, 1]'),\n",
       " Text(0.17552106568550435, 106.62923076923077, 'gini = 0.0\\nsamples = 1\\nvalue = [0, 1]'),\n",
       " Text(0.1974611988961924, 106.62923076923077, 'gini = 0.0\\nsamples = 1\\nvalue = [1, 0]'),\n",
       " Text(0.20843126550153643, 110.81076923076922, 'gini = 0.0\\nsamples = 2\\nvalue = [2, 0]'),\n",
       " Text(0.2632815985282565, 123.35538461538462, 'X[0] <= 4100.0\\ngini = 0.227\\nsamples = 23\\nvalue = [20, 3]'),\n",
       " Text(0.2523115319229125, 119.17384615384616, 'X[14] <= 0.5\\ngini = 0.397\\nsamples = 11\\nvalue = [8, 3]'),\n",
       " Text(0.24134146531756848, 114.99230769230769, 'X[2] <= 10.5\\ngini = 0.198\\nsamples = 9\\nvalue = [8, 1]'),\n",
       " Text(0.23037139871222445, 110.81076923076922, 'gini = 0.0\\nsamples = 1\\nvalue = [0, 1]'),\n",
       " Text(0.2523115319229125, 110.81076923076922, 'gini = 0.0\\nsamples = 8\\nvalue = [8, 0]'),\n",
       " Text(0.2632815985282565, 114.99230769230769, 'gini = 0.0\\nsamples = 2\\nvalue = [0, 2]'),\n",
       " Text(0.27425166513360055, 119.17384615384616, 'gini = 0.0\\nsamples = 12\\nvalue = [12, 0]'),\n",
       " Text(0.31813193155497665, 127.53692307692307, 'X[2] <= 27.95\\ngini = 0.408\\nsamples = 7\\nvalue = [5, 2]'),\n",
       " Text(0.3071618649496326, 123.35538461538462, 'X[5] <= 4.5\\ngini = 0.444\\nsamples = 3\\nvalue = [1, 2]'),\n",
       " Text(0.2961917983442886, 119.17384615384616, 'gini = 0.0\\nsamples = 1\\nvalue = [1, 0]'),\n",
       " Text(0.31813193155497665, 119.17384615384616, 'gini = 0.0\\nsamples = 2\\nvalue = [0, 2]'),\n",
       " Text(0.32910199816032065, 123.35538461538462, 'gini = 0.0\\nsamples = 4\\nvalue = [4, 0]'),\n",
       " Text(0.3510421313710087, 131.71846153846155, 'X[0] <= 7200.0\\ngini = 0.5\\nsamples = 2\\nvalue = [1, 1]'),\n",
       " Text(0.3400720647656647, 127.53692307692307, 'gini = 0.0\\nsamples = 1\\nvalue = [0, 1]'),\n",
       " Text(0.3620121979763527, 127.53692307692307, 'gini = 0.0\\nsamples = 1\\nvalue = [1, 0]'),\n",
       " Text(0.3233598539215859, 135.9, 'gini = 0.0\\nsamples = 1\\nvalue = [0, 1]'),\n",
       " Text(0.33432992052692995, 140.08153846153846, 'gini = 0.0\\nsamples = 1\\nvalue = [0, 1]'),\n",
       " Text(0.34529998713227394, 144.26307692307694, 'gini = 0.0\\nsamples = 1\\nvalue = [0, 1]'),\n",
       " Text(1.3529106314900692, 148.4446153846154, 'X[0] <= 8662.5\\ngini = 0.064\\nsamples = 2819\\nvalue = [2725, 94]'),\n",
       " Text(0.980173844244138, 144.26307692307694, 'X[45] <= 0.5\\ngini = 0.052\\nsamples = 1843\\nvalue = [1794, 49]'),\n",
       " Text(0.8416151538565714, 140.08153846153846, 'X[6] <= 58.5\\ngini = 0.05\\nsamples = 1828\\nvalue = [1781, 47]'),\n",
       " Text(0.7399117092102496, 135.9, 'X[1] <= 24006.0\\ngini = 0.049\\nsamples = 1823\\nvalue = [1777, 46]'),\n",
       " Text(0.5694150197336382, 131.71846153846155, 'X[29] <= 0.5\\ngini = 0.079\\nsamples = 464\\nvalue = [445, 19]'),\n",
       " Text(0.524506309568011, 127.53692307692307, 'X[6] <= 46.5\\ngini = 0.069\\nsamples = 448\\nvalue = [432, 16]'),\n",
       " Text(0.46759908905278896, 123.35538461538462, 'X[50] <= 0.5\\ngini = 0.065\\nsamples = 445\\nvalue = [430, 15]'),\n",
       " Text(0.38669484783837677, 119.17384615384616, 'X[1] <= 20900.0\\ngini = 0.058\\nsamples = 432\\nvalue = [419, 13]'),\n",
       " Text(0.30167683164696063, 114.99230769230769, 'X[44] <= 0.5\\ngini = 0.025\\nsamples = 235\\nvalue = [232, 3]'),\n",
       " Text(0.27425166513360055, 110.81076923076922, 'X[27] <= 0.5\\ngini = 0.017\\nsamples = 228\\nvalue = [226, 2]'),\n",
       " Text(0.2523115319229125, 106.62923076923077, 'X[36] <= 0.5\\ngini = 0.009\\nsamples = 221\\nvalue = [220, 1]'),\n",
       " Text(0.24134146531756848, 102.44769230769231, 'gini = 0.0\\nsamples = 212\\nvalue = [212, 0]'),\n",
       " Text(0.2632815985282565, 102.44769230769231, 'X[5] <= 9.5\\ngini = 0.198\\nsamples = 9\\nvalue = [8, 1]'),\n",
       " Text(0.2523115319229125, 98.26615384615384, 'gini = 0.0\\nsamples = 6\\nvalue = [6, 0]'),\n",
       " Text(0.27425166513360055, 98.26615384615384, 'X[1] <= 19000.0\\ngini = 0.444\\nsamples = 3\\nvalue = [2, 1]'),\n",
       " Text(0.2632815985282565, 94.08461538461539, 'gini = 0.0\\nsamples = 1\\nvalue = [0, 1]'),\n",
       " Text(0.28522173173894455, 94.08461538461539, 'gini = 0.0\\nsamples = 2\\nvalue = [2, 0]'),\n",
       " Text(0.2961917983442886, 106.62923076923077, 'X[2] <= 11.35\\ngini = 0.245\\nsamples = 7\\nvalue = [6, 1]'),\n",
       " Text(0.28522173173894455, 102.44769230769231, 'gini = 0.0\\nsamples = 1\\nvalue = [0, 1]'),\n",
       " Text(0.3071618649496326, 102.44769230769231, 'gini = 0.0\\nsamples = 6\\nvalue = [6, 0]'),\n",
       " Text(0.32910199816032065, 110.81076923076922, 'X[1] <= 13500.0\\ngini = 0.245\\nsamples = 7\\nvalue = [6, 1]'),\n",
       " Text(0.31813193155497665, 106.62923076923077, 'gini = 0.0\\nsamples = 1\\nvalue = [0, 1]'),\n",
       " Text(0.3400720647656647, 106.62923076923077, 'gini = 0.0\\nsamples = 6\\nvalue = [6, 0]'),\n",
       " Text(0.47171286402979296, 114.99230769230769, 'X[19] <= 0.5\\ngini = 0.096\\nsamples = 197\\nvalue = [187, 10]'),\n",
       " Text(0.4388026642137609, 110.81076923076922, 'X[40] <= 0.5\\ngini = 0.081\\nsamples = 189\\nvalue = [181, 8]'),\n",
       " Text(0.4058924643977288, 106.62923076923077, 'X[73] <= 0.5\\ngini = 0.065\\nsamples = 179\\nvalue = [173, 6]'),\n",
       " Text(0.37298226458169675, 102.44769230769231, 'X[4] <= 0.5\\ngini = 0.055\\nsamples = 176\\nvalue = [171, 5]'),\n",
       " Text(0.3400720647656647, 98.26615384615384, 'X[5] <= 6.5\\ngini = 0.045\\nsamples = 172\\nvalue = [168, 4]'),\n",
       " Text(0.3071618649496326, 94.08461538461539, 'X[35] <= 0.5\\ngini = 0.175\\nsamples = 31\\nvalue = [28, 3]'),\n",
       " Text(0.27425166513360055, 89.90307692307692, 'X[36] <= 0.5\\ngini = 0.074\\nsamples = 26\\nvalue = [25, 1]'),\n",
       " Text(0.2632815985282565, 85.72153846153847, 'gini = 0.0\\nsamples = 24\\nvalue = [24, 0]'),\n",
       " Text(0.28522173173894455, 85.72153846153847, 'X[1] <= 22350.0\\ngini = 0.5\\nsamples = 2\\nvalue = [1, 1]'),\n",
       " Text(0.27425166513360055, 81.53999999999999, 'gini = 0.0\\nsamples = 1\\nvalue = [0, 1]'),\n",
       " Text(0.2961917983442886, 81.53999999999999, 'gini = 0.0\\nsamples = 1\\nvalue = [1, 0]'),\n",
       " Text(0.3400720647656647, 89.90307692307692, 'X[1] <= 22500.0\\ngini = 0.48\\nsamples = 5\\nvalue = [3, 2]'),\n",
       " Text(0.32910199816032065, 85.72153846153847, 'X[5] <= 5.0\\ngini = 0.444\\nsamples = 3\\nvalue = [1, 2]'),\n",
       " Text(0.31813193155497665, 81.53999999999999, 'gini = 0.0\\nsamples = 1\\nvalue = [1, 0]'),\n",
       " Text(0.3400720647656647, 81.53999999999999, 'gini = 0.0\\nsamples = 2\\nvalue = [0, 2]'),\n",
       " Text(0.3510421313710087, 85.72153846153847, 'gini = 0.0\\nsamples = 2\\nvalue = [2, 0]'),\n",
       " Text(0.37298226458169675, 94.08461538461539, 'X[30] <= 0.5\\ngini = 0.014\\nsamples = 141\\nvalue = [140, 1]'),\n",
       " Text(0.3620121979763527, 89.90307692307692, 'gini = 0.0\\nsamples = 133\\nvalue = [133, 0]'),\n",
       " Text(0.38395233118704075, 89.90307692307692, 'X[22] <= 0.5\\ngini = 0.219\\nsamples = 8\\nvalue = [7, 1]'),\n",
       " Text(0.37298226458169675, 85.72153846153847, 'gini = 0.0\\nsamples = 7\\nvalue = [7, 0]'),\n",
       " Text(0.3949223977923848, 85.72153846153847, 'gini = 0.0\\nsamples = 1\\nvalue = [0, 1]'),\n",
       " Text(0.4058924643977288, 98.26615384615384, 'X[14] <= 0.5\\ngini = 0.375\\nsamples = 4\\nvalue = [3, 1]'),\n",
       " Text(0.3949223977923848, 94.08461538461539, 'gini = 0.0\\nsamples = 3\\nvalue = [3, 0]'),\n",
       " Text(0.41686253100307286, 94.08461538461539, 'gini = 0.0\\nsamples = 1\\nvalue = [0, 1]'),\n",
       " Text(0.4388026642137609, 102.44769230769231, 'X[15] <= 0.5\\ngini = 0.444\\nsamples = 3\\nvalue = [2, 1]'),\n",
       " Text(0.42783259760841685, 98.26615384615384, 'gini = 0.0\\nsamples = 2\\nvalue = [2, 0]'),\n",
       " Text(0.4497727308191049, 98.26615384615384, 'gini = 0.0\\nsamples = 1\\nvalue = [0, 1]'),\n",
       " Text(0.47171286402979296, 106.62923076923077, 'X[5] <= 9.5\\ngini = 0.32\\nsamples = 10\\nvalue = [8, 2]'),\n",
       " Text(0.4607427974244489, 102.44769230769231, 'gini = 0.0\\nsamples = 7\\nvalue = [7, 0]'),\n",
       " Text(0.48268293063513695, 102.44769230769231, 'X[2] <= 24.8\\ngini = 0.444\\nsamples = 3\\nvalue = [1, 2]'),\n",
       " Text(0.47171286402979296, 98.26615384615384, 'gini = 0.0\\nsamples = 1\\nvalue = [1, 0]'),\n",
       " Text(0.493652997240481, 98.26615384615384, 'gini = 0.0\\nsamples = 2\\nvalue = [0, 2]'),\n",
       " Text(0.504623063845825, 110.81076923076922, 'X[5] <= 9.5\\ngini = 0.375\\nsamples = 8\\nvalue = [6, 2]'),\n",
       " Text(0.493652997240481, 106.62923076923077, 'gini = 0.0\\nsamples = 5\\nvalue = [5, 0]'),\n",
       " Text(0.5155931304511691, 106.62923076923077, 'X[6] <= 17.5\\ngini = 0.444\\nsamples = 3\\nvalue = [1, 2]'),\n",
       " Text(0.504623063845825, 102.44769230769231, 'gini = 0.0\\nsamples = 1\\nvalue = [1, 0]'),\n",
       " Text(0.526563197056513, 102.44769230769231, 'gini = 0.0\\nsamples = 2\\nvalue = [0, 2]'),\n",
       " Text(0.5485033302672011, 119.17384615384616, 'X[1] <= 19620.0\\ngini = 0.26\\nsamples = 13\\nvalue = [11, 2]'),\n",
       " Text(0.537533263661857, 114.99230769230769, 'X[15] <= 0.5\\ngini = 0.5\\nsamples = 4\\nvalue = [2, 2]'),\n",
       " Text(0.526563197056513, 110.81076923076922, 'gini = 0.0\\nsamples = 2\\nvalue = [2, 0]'),\n",
       " Text(0.5485033302672011, 110.81076923076922, 'gini = 0.0\\nsamples = 2\\nvalue = [0, 2]'),\n",
       " Text(0.5594733968725452, 114.99230769230769, 'gini = 0.0\\nsamples = 9\\nvalue = [9, 0]'),\n",
       " Text(0.5814135300832332, 123.35538461538462, 'X[71] <= 0.5\\ngini = 0.444\\nsamples = 3\\nvalue = [2, 1]'),\n",
       " Text(0.5704434634778891, 119.17384615384616, 'gini = 0.0\\nsamples = 2\\nvalue = [2, 0]'),\n",
       " Text(0.5923835966885772, 119.17384615384616, 'gini = 0.0\\nsamples = 1\\nvalue = [0, 1]'),\n",
       " Text(0.6143237298992652, 127.53692307692307, 'X[0] <= 6025.0\\ngini = 0.305\\nsamples = 16\\nvalue = [13, 3]'),\n",
       " Text(0.6033536632939213, 123.35538461538462, 'gini = 0.0\\nsamples = 9\\nvalue = [9, 0]'),\n",
       " Text(0.6252937965046093, 123.35538461538462, 'X[2] <= 24.25\\ngini = 0.49\\nsamples = 7\\nvalue = [4, 3]'),\n",
       " Text(0.6143237298992652, 119.17384615384616, 'gini = 0.0\\nsamples = 3\\nvalue = [3, 0]'),\n",
       " Text(0.6362638631099533, 119.17384615384616, 'X[2] <= 39.45\\ngini = 0.375\\nsamples = 4\\nvalue = [1, 3]'),\n",
       " Text(0.6252937965046093, 114.99230769230769, 'gini = 0.0\\nsamples = 3\\nvalue = [0, 3]'),\n",
       " Text(0.6472339297152973, 114.99230769230769, 'gini = 0.0\\nsamples = 1\\nvalue = [1, 0]'),\n",
       " Text(0.910408398686861, 131.71846153846155, 'X[0] <= 1775.0\\ngini = 0.039\\nsamples = 1359\\nvalue = [1332, 27]'),\n",
       " Text(0.7130543293473615, 127.53692307692307, 'X[0] <= 1712.5\\ngini = 0.142\\nsamples = 52\\nvalue = [48, 4]'),\n",
       " Text(0.7020842627420174, 123.35538461538462, 'X[61] <= 0.5\\ngini = 0.111\\nsamples = 51\\nvalue = [48, 3]'),\n",
       " Text(0.6801441295313294, 119.17384615384616, 'X[5] <= 9.5\\ngini = 0.078\\nsamples = 49\\nvalue = [47, 2]'),\n",
       " Text(0.6691740629259854, 114.99230769230769, 'gini = 0.0\\nsamples = 33\\nvalue = [33, 0]'),\n",
       " Text(0.6911141961366734, 114.99230769230769, 'X[5] <= 10.5\\ngini = 0.219\\nsamples = 16\\nvalue = [14, 2]'),\n",
       " Text(0.6801441295313294, 110.81076923076922, 'gini = 0.0\\nsamples = 1\\nvalue = [0, 1]'),\n",
       " Text(0.7020842627420174, 110.81076923076922, 'X[35] <= 0.5\\ngini = 0.124\\nsamples = 15\\nvalue = [14, 1]'),\n",
       " Text(0.6911141961366734, 106.62923076923077, 'gini = 0.0\\nsamples = 13\\nvalue = [13, 0]'),\n",
       " Text(0.7130543293473615, 106.62923076923077, 'X[1] <= 29500.0\\ngini = 0.5\\nsamples = 2\\nvalue = [1, 1]'),\n",
       " Text(0.7020842627420174, 102.44769230769231, 'gini = 0.0\\nsamples = 1\\nvalue = [1, 0]'),\n",
       " Text(0.7240243959527054, 102.44769230769231, 'gini = 0.0\\nsamples = 1\\nvalue = [0, 1]'),\n",
       " Text(0.7240243959527054, 119.17384615384616, 'X[6] <= 26.0\\ngini = 0.5\\nsamples = 2\\nvalue = [1, 1]'),\n",
       " Text(0.7130543293473615, 114.99230769230769, 'gini = 0.0\\nsamples = 1\\nvalue = [1, 0]'),\n",
       " Text(0.7349944625580495, 114.99230769230769, 'gini = 0.0\\nsamples = 1\\nvalue = [0, 1]'),\n",
       " Text(0.7240243959527054, 123.35538461538462, 'gini = 0.0\\nsamples = 1\\nvalue = [0, 1]'),\n",
       " Text(1.1077624680263607, 127.53692307692307, 'X[1] <= 32478.0\\ngini = 0.035\\nsamples = 1307\\nvalue = [1284, 23]'),\n",
       " Text(0.9841349596028547, 123.35538461538462, 'X[28] <= 0.5\\ngini = 0.024\\nsamples = 1070\\nvalue = [1057, 13]'),\n",
       " Text(0.9315986250006993, 119.17384615384616, 'X[56] <= 0.5\\ngini = 0.021\\nsamples = 1049\\nvalue = [1038, 11]'),\n",
       " Text(0.8923463554284528, 114.99230769230769, 'X[25] <= 0.5\\ngini = 0.019\\nsamples = 1043\\nvalue = [1033, 10]'),\n",
       " Text(0.8467520160999917, 110.81076923076922, 'X[73] <= 0.5\\ngini = 0.017\\nsamples = 1031\\nvalue = [1022, 9]'),\n",
       " Text(0.7884735372591016, 106.62923076923077, 'X[2] <= 31.55\\ngini = 0.016\\nsamples = 1015\\nvalue = [1007, 8]'),\n",
       " Text(0.7459645291633935, 102.44769230769231, 'X[27] <= 0.5\\ngini = 0.003\\nsamples = 572\\nvalue = [571, 1]'),\n",
       " Text(0.7349944625580495, 98.26615384615384, 'gini = 0.0\\nsamples = 559\\nvalue = [559, 0]'),\n",
       " Text(0.7569345957687376, 98.26615384615384, 'X[3] <= 0.5\\ngini = 0.142\\nsamples = 13\\nvalue = [12, 1]'),\n",
       " Text(0.7459645291633935, 94.08461538461539, 'gini = 0.0\\nsamples = 12\\nvalue = [12, 0]'),\n",
       " Text(0.7679046623740815, 94.08461538461539, 'gini = 0.0\\nsamples = 1\\nvalue = [0, 1]'),\n",
       " Text(0.8309825453548096, 102.44769230769231, 'X[2] <= 31.65\\ngini = 0.031\\nsamples = 443\\nvalue = [436, 7]'),\n",
       " Text(0.8008148621901136, 98.26615384615384, 'X[0] <= 5250.0\\ngini = 0.375\\nsamples = 4\\nvalue = [3, 1]'),\n",
       " Text(0.7898447955847696, 94.08461538461539, 'gini = 0.0\\nsamples = 3\\nvalue = [3, 0]'),\n",
       " Text(0.8117849287954576, 94.08461538461539, 'gini = 0.0\\nsamples = 1\\nvalue = [0, 1]'),\n",
       " Text(0.8611502285195057, 98.26615384615384, 'X[20] <= 0.5\\ngini = 0.027\\nsamples = 439\\nvalue = [433, 6]'),\n",
       " Text(0.8337250620061457, 94.08461538461539, 'X[42] <= 0.5\\ngini = 0.023\\nsamples = 434\\nvalue = [429, 5]'),\n",
       " Text(0.8117849287954576, 89.90307692307692, 'X[2] <= 36.05\\ngini = 0.019\\nsamples = 425\\nvalue = [421, 4]'),\n",
       " Text(0.8008148621901136, 85.72153846153847, 'X[7] <= 1.5\\ngini = 0.05\\nsamples = 155\\nvalue = [151, 4]'),\n",
       " Text(0.7706471790254176, 81.53999999999999, 'X[2] <= 35.95\\ngini = 0.039\\nsamples = 150\\nvalue = [147, 3]'),\n",
       " Text(0.7432220125120574, 77.35846153846154, 'X[3] <= 1.5\\ngini = 0.028\\nsamples = 143\\nvalue = [141, 2]'),\n",
       " Text(0.7212818793013694, 73.17692307692309, 'X[69] <= 0.5\\ngini = 0.015\\nsamples = 133\\nvalue = [132, 1]'),\n",
       " Text(0.7103118126960254, 68.99538461538461, 'gini = 0.0\\nsamples = 121\\nvalue = [121, 0]'),\n",
       " Text(0.7322519459067135, 68.99538461538461, 'X[2] <= 34.9\\ngini = 0.153\\nsamples = 12\\nvalue = [11, 1]'),\n",
       " Text(0.7212818793013694, 64.81384615384616, 'gini = 0.0\\nsamples = 8\\nvalue = [8, 0]'),\n",
       " Text(0.7432220125120574, 64.81384615384616, 'X[0] <= 6250.0\\ngini = 0.375\\nsamples = 4\\nvalue = [3, 1]'),\n",
       " Text(0.7322519459067135, 60.632307692307705, 'gini = 0.0\\nsamples = 1\\nvalue = [0, 1]'),\n",
       " Text(0.7541920791174015, 60.632307692307705, 'gini = 0.0\\nsamples = 3\\nvalue = [3, 0]'),\n",
       " Text(0.7651621457227455, 73.17692307692309, 'X[35] <= 0.5\\ngini = 0.18\\nsamples = 10\\nvalue = [9, 1]'),\n",
       " Text(0.7541920791174015, 68.99538461538461, 'gini = 0.0\\nsamples = 9\\nvalue = [9, 0]'),\n",
       " Text(0.7761322123280896, 68.99538461538461, 'gini = 0.0\\nsamples = 1\\nvalue = [0, 1]'),\n",
       " Text(0.7980723455387776, 77.35846153846154, 'X[60] <= 0.5\\ngini = 0.245\\nsamples = 7\\nvalue = [6, 1]'),\n",
       " Text(0.7871022789334335, 73.17692307692309, 'gini = 0.0\\nsamples = 6\\nvalue = [6, 0]'),\n",
       " Text(0.8090424121441216, 73.17692307692309, 'gini = 0.0\\nsamples = 1\\nvalue = [0, 1]'),\n",
       " Text(0.8309825453548096, 81.53999999999999, 'X[64] <= 0.5\\ngini = 0.32\\nsamples = 5\\nvalue = [4, 1]'),\n",
       " Text(0.8200124787494656, 77.35846153846154, 'gini = 0.0\\nsamples = 4\\nvalue = [4, 0]'),\n",
       " Text(0.8419526119601537, 77.35846153846154, 'gini = 0.0\\nsamples = 1\\nvalue = [0, 1]'),\n",
       " Text(0.8227549954008017, 85.72153846153847, 'gini = 0.0\\nsamples = 270\\nvalue = [270, 0]'),\n",
       " Text(0.8556651952168337, 89.90307692307692, 'X[1] <= 31631.0\\ngini = 0.198\\nsamples = 9\\nvalue = [8, 1]'),\n",
       " Text(0.8446951286114897, 85.72153846153847, 'gini = 0.0\\nsamples = 8\\nvalue = [8, 0]'),\n",
       " Text(0.8666352618221778, 85.72153846153847, 'gini = 0.0\\nsamples = 1\\nvalue = [0, 1]'),\n",
       " Text(0.8885753950328658, 94.08461538461539, 'X[63] <= 0.5\\ngini = 0.32\\nsamples = 5\\nvalue = [4, 1]'),\n",
       " Text(0.8776053284275218, 89.90307692307692, 'gini = 0.0\\nsamples = 4\\nvalue = [4, 0]'),\n",
       " Text(0.8995454616382098, 89.90307692307692, 'gini = 0.0\\nsamples = 1\\nvalue = [0, 1]'),\n",
       " Text(0.9050304949408818, 106.62923076923077, 'X[6] <= 14.5\\ngini = 0.117\\nsamples = 16\\nvalue = [15, 1]'),\n",
       " Text(0.8940604283355378, 102.44769230769231, 'X[6] <= 13.5\\ngini = 0.278\\nsamples = 6\\nvalue = [5, 1]'),\n",
       " Text(0.8830903617301937, 98.26615384615384, 'gini = 0.0\\nsamples = 5\\nvalue = [5, 0]'),\n",
       " Text(0.9050304949408818, 98.26615384615384, 'gini = 0.0\\nsamples = 1\\nvalue = [0, 1]'),\n",
       " Text(0.9160005615462259, 102.44769230769231, 'gini = 0.0\\nsamples = 10\\nvalue = [10, 0]'),\n",
       " Text(0.9379406947569139, 110.81076923076922, 'X[68] <= 0.5\\ngini = 0.153\\nsamples = 12\\nvalue = [11, 1]'),\n",
       " Text(0.9269706281515698, 106.62923076923077, 'gini = 0.0\\nsamples = 11\\nvalue = [11, 0]'),\n",
       " Text(0.9489107613622579, 106.62923076923077, 'gini = 0.0\\nsamples = 1\\nvalue = [0, 1]'),\n",
       " Text(0.9708508945729459, 114.99230769230769, 'X[14] <= 0.5\\ngini = 0.278\\nsamples = 6\\nvalue = [5, 1]'),\n",
       " Text(0.9598808279676019, 110.81076923076922, 'gini = 0.0\\nsamples = 5\\nvalue = [5, 0]'),\n",
       " Text(0.98182096117829, 110.81076923076922, 'gini = 0.0\\nsamples = 1\\nvalue = [0, 1]'),\n",
       " Text(1.03667129420501, 119.17384615384616, 'X[2] <= 4.35\\ngini = 0.172\\nsamples = 21\\nvalue = [19, 2]'),\n",
       " Text(1.014731160994322, 114.99230769230769, 'X[2] <= 0.1\\ngini = 0.5\\nsamples = 2\\nvalue = [1, 1]'),\n",
       " Text(1.003761094388978, 110.81076923076922, 'gini = 0.0\\nsamples = 1\\nvalue = [1, 0]'),\n",
       " Text(1.025701227599666, 110.81076923076922, 'gini = 0.0\\nsamples = 1\\nvalue = [0, 1]'),\n",
       " Text(1.0586114274156981, 114.99230769230769, 'X[0] <= 7750.0\\ngini = 0.1\\nsamples = 19\\nvalue = [18, 1]'),\n",
       " Text(1.047641360810354, 110.81076923076922, 'gini = 0.0\\nsamples = 15\\nvalue = [15, 0]'),\n",
       " Text(1.0695814940210422, 110.81076923076922, 'X[6] <= 18.5\\ngini = 0.375\\nsamples = 4\\nvalue = [3, 1]'),\n",
       " Text(1.0586114274156981, 106.62923076923077, 'gini = 0.0\\nsamples = 2\\nvalue = [2, 0]'),\n",
       " Text(1.0805515606263862, 106.62923076923077, 'X[1] <= 29000.0\\ngini = 0.5\\nsamples = 2\\nvalue = [1, 1]'),\n",
       " Text(1.0695814940210422, 102.44769230769231, 'gini = 0.0\\nsamples = 1\\nvalue = [1, 0]'),\n",
       " Text(1.0915216272317303, 102.44769230769231, 'gini = 0.0\\nsamples = 1\\nvalue = [0, 1]'),\n",
       " Text(1.2313899764498664, 123.35538461538462, 'X[3] <= 2.5\\ngini = 0.081\\nsamples = 237\\nvalue = [227, 10]'),\n",
       " Text(1.2204199098445225, 119.17384615384616, 'X[35] <= 0.5\\ngini = 0.073\\nsamples = 236\\nvalue = [227, 9]'),\n",
       " Text(1.1737971267718104, 114.99230769230769, 'X[62] <= 0.5\\ngini = 0.046\\nsamples = 210\\nvalue = [205, 5]'),\n",
       " Text(1.1463719602584503, 110.81076923076922, 'X[1] <= 32828.5\\ngini = 0.038\\nsamples = 206\\nvalue = [202, 4]'),\n",
       " Text(1.1244318270477622, 106.62923076923077, 'X[71] <= 0.5\\ngini = 0.208\\nsamples = 17\\nvalue = [15, 2]'),\n",
       " Text(1.1134617604424182, 102.44769230769231, 'X[30] <= 0.5\\ngini = 0.117\\nsamples = 16\\nvalue = [15, 1]'),\n",
       " Text(1.1024916938370741, 98.26615384615384, 'gini = 0.0\\nsamples = 14\\nvalue = [14, 0]'),\n",
       " Text(1.1244318270477622, 98.26615384615384, 'X[6] <= 34.0\\ngini = 0.5\\nsamples = 2\\nvalue = [1, 1]'),\n",
       " Text(1.1134617604424182, 94.08461538461539, 'gini = 0.0\\nsamples = 1\\nvalue = [1, 0]'),\n",
       " Text(1.1354018936531063, 94.08461538461539, 'gini = 0.0\\nsamples = 1\\nvalue = [0, 1]'),\n",
       " Text(1.1354018936531063, 102.44769230769231, 'gini = 0.0\\nsamples = 1\\nvalue = [0, 1]'),\n",
       " Text(1.1683120934691384, 106.62923076923077, 'X[5] <= 16.5\\ngini = 0.021\\nsamples = 189\\nvalue = [187, 2]'),\n",
       " Text(1.1573420268637944, 102.44769230769231, 'gini = 0.0\\nsamples = 169\\nvalue = [169, 0]'),\n",
       " Text(1.1792821600744823, 102.44769230769231, 'X[2] <= 8.7\\ngini = 0.18\\nsamples = 20\\nvalue = [18, 2]'),\n",
       " Text(1.1683120934691384, 98.26615384615384, 'gini = 0.0\\nsamples = 1\\nvalue = [0, 1]'),\n",
       " Text(1.1902522266798263, 98.26615384615384, 'X[17] <= 0.5\\ngini = 0.1\\nsamples = 19\\nvalue = [18, 1]'),\n",
       " Text(1.1792821600744823, 94.08461538461539, 'gini = 0.0\\nsamples = 18\\nvalue = [18, 0]'),\n",
       " Text(1.2012222932851704, 94.08461538461539, 'gini = 0.0\\nsamples = 1\\nvalue = [0, 1]'),\n",
       " Text(1.2012222932851704, 110.81076923076922, 'X[5] <= 11.5\\ngini = 0.375\\nsamples = 4\\nvalue = [3, 1]'),\n",
       " Text(1.1902522266798263, 106.62923076923077, 'gini = 0.0\\nsamples = 3\\nvalue = [3, 0]'),\n",
       " Text(1.2121923598905144, 106.62923076923077, 'gini = 0.0\\nsamples = 1\\nvalue = [0, 1]'),\n",
       " Text(1.2670426929172345, 114.99230769230769, 'X[2] <= 13.7\\ngini = 0.26\\nsamples = 26\\nvalue = [22, 4]'),\n",
       " Text(1.2451025597065466, 110.81076923076922, 'X[6] <= 19.0\\ngini = 0.48\\nsamples = 5\\nvalue = [2, 3]'),\n",
       " Text(1.2341324931012025, 106.62923076923077, 'gini = 0.0\\nsamples = 2\\nvalue = [0, 2]'),\n",
       " Text(1.2560726263118904, 106.62923076923077, 'X[0] <= 8112.5\\ngini = 0.444\\nsamples = 3\\nvalue = [2, 1]'),\n",
       " Text(1.2451025597065466, 102.44769230769231, 'gini = 0.0\\nsamples = 2\\nvalue = [2, 0]'),\n",
       " Text(1.2670426929172345, 102.44769230769231, 'gini = 0.0\\nsamples = 1\\nvalue = [0, 1]'),\n",
       " Text(1.2889828261279226, 110.81076923076922, 'X[6] <= 9.5\\ngini = 0.091\\nsamples = 21\\nvalue = [20, 1]'),\n",
       " Text(1.2780127595225785, 106.62923076923077, 'gini = 0.0\\nsamples = 1\\nvalue = [0, 1]'),\n",
       " Text(1.2999528927332666, 106.62923076923077, 'gini = 0.0\\nsamples = 20\\nvalue = [20, 0]'),\n",
       " Text(1.2423600430552104, 119.17384615384616, 'gini = 0.0\\nsamples = 1\\nvalue = [0, 1]'),\n",
       " Text(0.9433185985028931, 135.9, 'X[0] <= 5587.5\\ngini = 0.32\\nsamples = 5\\nvalue = [4, 1]'),\n",
       " Text(0.9323485318975491, 131.71846153846155, 'gini = 0.0\\nsamples = 4\\nvalue = [4, 0]'),\n",
       " Text(0.9542886651082371, 131.71846153846155, 'gini = 0.0\\nsamples = 1\\nvalue = [0, 1]'),\n",
       " Text(1.1187325346317045, 140.08153846153846, 'X[6] <= 20.5\\ngini = 0.231\\nsamples = 15\\nvalue = [13, 2]'),\n",
       " Text(1.1077624680263607, 135.9, 'gini = 0.0\\nsamples = 10\\nvalue = [10, 0]'),\n",
       " Text(1.1297026012370486, 135.9, 'X[2] <= 29.85\\ngini = 0.48\\nsamples = 5\\nvalue = [3, 2]'),\n",
       " Text(1.1187325346317045, 131.71846153846155, 'gini = 0.0\\nsamples = 2\\nvalue = [2, 0]'),\n",
       " Text(1.1406726678423926, 131.71846153846155, 'X[15] <= 0.5\\ngini = 0.444\\nsamples = 3\\nvalue = [1, 2]'),\n",
       " Text(1.1297026012370486, 127.53692307692307, 'gini = 0.0\\nsamples = 1\\nvalue = [1, 0]'),\n",
       " Text(1.1516427344477367, 127.53692307692307, 'gini = 0.0\\nsamples = 2\\nvalue = [0, 2]'),\n",
       " Text(1.7256474187360002, 144.26307692307694, 'X[0] <= 8687.5\\ngini = 0.088\\nsamples = 976\\nvalue = [931, 45]'),\n",
       " Text(1.683600574243462, 140.08153846153846, 'X[2] <= 33.15\\ngini = 0.5\\nsamples = 2\\nvalue = [1, 1]'),\n",
       " Text(1.6726305076381183, 135.9, 'gini = 0.0\\nsamples = 1\\nvalue = [1, 0]'),\n",
       " Text(1.6945706408488062, 135.9, 'gini = 0.0\\nsamples = 1\\nvalue = [0, 1]'),\n",
       " Text(1.7676942632285382, 140.08153846153846, 'X[18] <= 0.5\\ngini = 0.086\\nsamples = 974\\nvalue = [930, 44]'),\n",
       " Text(1.7165107740594943, 135.9, 'X[9] <= 0.5\\ngini = 0.083\\nsamples = 967\\nvalue = [925, 42]'),\n",
       " Text(1.6689941287481265, 131.71846153846155, 'X[67] <= 0.5\\ngini = 0.081\\nsamples = 964\\nvalue = [923, 41]'),\n",
       " Text(1.606871037941423, 127.53692307692307, 'X[34] <= 0.5\\ngini = 0.08\\nsamples = 961\\nvalue = [921, 40]'),\n",
       " Text(1.5155350561440484, 123.35538461538462, 'X[0] <= 9137.5\\ngini = 0.078\\nsamples = 958\\nvalue = [919, 39]'),\n",
       " Text(1.3657732923653307, 119.17384615384616, 'X[27] <= 0.5\\ngini = 0.173\\nsamples = 73\\nvalue = [66, 7]'),\n",
       " Text(1.3548032257599867, 114.99230769230769, 'X[1] <= 33606.0\\ngini = 0.153\\nsamples = 72\\nvalue = [66, 6]'),\n",
       " Text(1.3328630925492986, 110.81076923076922, 'X[6] <= 23.5\\ngini = 0.114\\nsamples = 66\\nvalue = [62, 4]'),\n",
       " Text(1.3218930259439547, 106.62923076923077, 'gini = 0.0\\nsamples = 45\\nvalue = [45, 0]'),\n",
       " Text(1.3438331591546426, 106.62923076923077, 'X[22] <= 0.5\\ngini = 0.308\\nsamples = 21\\nvalue = [17, 4]'),\n",
       " Text(1.3328630925492986, 102.44769230769231, 'X[29] <= 0.5\\ngini = 0.255\\nsamples = 20\\nvalue = [17, 3]'),\n",
       " Text(1.3218930259439547, 98.26615384615384, 'X[2] <= 37.05\\ngini = 0.188\\nsamples = 19\\nvalue = [17, 2]'),\n",
       " Text(1.3109229593386107, 94.08461538461539, 'gini = 0.0\\nsamples = 13\\nvalue = [13, 0]'),\n",
       " Text(1.3328630925492986, 94.08461538461539, 'X[0] <= 8987.5\\ngini = 0.444\\nsamples = 6\\nvalue = [4, 2]'),\n",
       " Text(1.3218930259439547, 89.90307692307692, 'gini = 0.0\\nsamples = 2\\nvalue = [0, 2]'),\n",
       " Text(1.3438331591546426, 89.90307692307692, 'gini = 0.0\\nsamples = 4\\nvalue = [4, 0]'),\n",
       " Text(1.3438331591546426, 98.26615384615384, 'gini = 0.0\\nsamples = 1\\nvalue = [0, 1]'),\n",
       " Text(1.3548032257599867, 102.44769230769231, 'gini = 0.0\\nsamples = 1\\nvalue = [0, 1]'),\n",
       " Text(1.3767433589706748, 110.81076923076922, 'X[1] <= 33900.0\\ngini = 0.444\\nsamples = 6\\nvalue = [4, 2]'),\n",
       " Text(1.3657732923653307, 106.62923076923077, 'gini = 0.0\\nsamples = 2\\nvalue = [0, 2]'),\n",
       " Text(1.3877134255760188, 106.62923076923077, 'gini = 0.0\\nsamples = 4\\nvalue = [4, 0]'),\n",
       " Text(1.3767433589706748, 114.99230769230769, 'gini = 0.0\\nsamples = 1\\nvalue = [0, 1]'),\n",
       " Text(1.6652968199227658, 119.17384615384616, 'X[6] <= 13.5\\ngini = 0.07\\nsamples = 885\\nvalue = [853, 32]'),\n",
       " Text(1.502899124932131, 114.99230769230769, 'X[49] <= 0.5\\ngini = 0.128\\nsamples = 145\\nvalue = [135, 10]'),\n",
       " Text(1.475473958418771, 110.81076923076922, 'X[36] <= 0.5\\ngini = 0.118\\nsamples = 143\\nvalue = [134, 9]'),\n",
       " Text(1.453533825208083, 106.62923076923077, 'X[2] <= 36.55\\ngini = 0.098\\nsamples = 136\\nvalue = [129, 7]'),\n",
       " Text(1.4425637586027389, 102.44769230769231, 'X[2] <= 36.45\\ngini = 0.148\\nsamples = 87\\nvalue = [80, 7]'),\n",
       " Text(1.4315936919973948, 98.26615384615384, 'X[40] <= 0.5\\ngini = 0.13\\nsamples = 86\\nvalue = [80, 6]'),\n",
       " Text(1.398683492181363, 94.08461538461539, 'X[60] <= 0.5\\ngini = 0.112\\nsamples = 84\\nvalue = [79, 5]'),\n",
       " Text(1.3657732923653307, 89.90307692307692, 'X[57] <= 0.5\\ngini = 0.094\\nsamples = 81\\nvalue = [77, 4]'),\n",
       " Text(1.3328630925492986, 85.72153846153847, 'X[2] <= 33.85\\ngini = 0.074\\nsamples = 78\\nvalue = [75, 3]'),\n",
       " Text(1.2999528927332666, 81.53999999999999, 'X[53] <= 0.5\\ngini = 0.03\\nsamples = 65\\nvalue = [64, 1]'),\n",
       " Text(1.2889828261279226, 77.35846153846154, 'gini = 0.0\\nsamples = 61\\nvalue = [61, 0]'),\n",
       " Text(1.3109229593386107, 77.35846153846154, 'X[0] <= 9750.0\\ngini = 0.375\\nsamples = 4\\nvalue = [3, 1]'),\n",
       " Text(1.2999528927332666, 73.17692307692309, 'gini = 0.0\\nsamples = 1\\nvalue = [0, 1]'),\n",
       " Text(1.3218930259439547, 73.17692307692309, 'gini = 0.0\\nsamples = 3\\nvalue = [3, 0]'),\n",
       " Text(1.3657732923653307, 81.53999999999999, 'X[35] <= 0.5\\ngini = 0.26\\nsamples = 13\\nvalue = [11, 2]'),\n",
       " Text(1.3548032257599867, 77.35846153846154, 'X[2] <= 34.2\\ngini = 0.153\\nsamples = 12\\nvalue = [11, 1]'),\n",
       " Text(1.3438331591546426, 73.17692307692309, 'X[10] <= 0.5\\ngini = 0.5\\nsamples = 2\\nvalue = [1, 1]'),\n",
       " Text(1.3328630925492986, 68.99538461538461, 'gini = 0.0\\nsamples = 1\\nvalue = [1, 0]'),\n",
       " Text(1.3548032257599867, 68.99538461538461, 'gini = 0.0\\nsamples = 1\\nvalue = [0, 1]'),\n",
       " Text(1.3657732923653307, 73.17692307692309, 'gini = 0.0\\nsamples = 10\\nvalue = [10, 0]'),\n",
       " Text(1.3767433589706748, 77.35846153846154, 'gini = 0.0\\nsamples = 1\\nvalue = [0, 1]'),\n",
       " Text(1.398683492181363, 85.72153846153847, 'X[1] <= 30500.0\\ngini = 0.444\\nsamples = 3\\nvalue = [2, 1]'),\n",
       " Text(1.3877134255760188, 81.53999999999999, 'gini = 0.0\\nsamples = 2\\nvalue = [2, 0]'),\n",
       " Text(1.4096535587867067, 81.53999999999999, 'gini = 0.0\\nsamples = 1\\nvalue = [0, 1]'),\n",
       " Text(1.4315936919973948, 89.90307692307692, 'X[3] <= 0.5\\ngini = 0.444\\nsamples = 3\\nvalue = [2, 1]'),\n",
       " Text(1.4206236253920508, 85.72153846153847, 'gini = 0.0\\nsamples = 2\\nvalue = [2, 0]'),\n",
       " Text(1.4425637586027389, 85.72153846153847, 'gini = 0.0\\nsamples = 1\\nvalue = [0, 1]'),\n",
       " Text(1.464503891813427, 94.08461538461539, 'X[7] <= 0.5\\ngini = 0.5\\nsamples = 2\\nvalue = [1, 1]'),\n",
       " Text(1.453533825208083, 89.90307692307692, 'gini = 0.0\\nsamples = 1\\nvalue = [0, 1]'),\n",
       " Text(1.475473958418771, 89.90307692307692, 'gini = 0.0\\nsamples = 1\\nvalue = [1, 0]'),\n",
       " Text(1.453533825208083, 98.26615384615384, 'gini = 0.0\\nsamples = 1\\nvalue = [0, 1]'),\n",
       " Text(1.464503891813427, 102.44769230769231, 'gini = 0.0\\nsamples = 49\\nvalue = [49, 0]'),\n",
       " Text(1.497414091629459, 106.62923076923077, 'X[3] <= 1.5\\ngini = 0.408\\nsamples = 7\\nvalue = [5, 2]'),\n",
       " Text(1.4864440250241149, 102.44769230769231, 'X[5] <= 9.5\\ngini = 0.278\\nsamples = 6\\nvalue = [5, 1]'),\n",
       " Text(1.475473958418771, 98.26615384615384, 'gini = 0.0\\nsamples = 5\\nvalue = [5, 0]'),\n",
       " Text(1.497414091629459, 98.26615384615384, 'gini = 0.0\\nsamples = 1\\nvalue = [0, 1]'),\n",
       " Text(1.508384158234803, 102.44769230769231, 'gini = 0.0\\nsamples = 1\\nvalue = [0, 1]'),\n",
       " Text(1.530324291445491, 110.81076923076922, 'X[2] <= 31.8\\ngini = 0.5\\nsamples = 2\\nvalue = [1, 1]'),\n",
       " Text(1.519354224840147, 106.62923076923077, 'gini = 0.0\\nsamples = 1\\nvalue = [1, 0]'),\n",
       " Text(1.5412943580508351, 106.62923076923077, 'gini = 0.0\\nsamples = 1\\nvalue = [0, 1]'),\n",
       " Text(1.8276945149134005, 114.99230769230769, 'X[75] <= 0.5\\ngini = 0.058\\nsamples = 740\\nvalue = [718, 22]'),\n",
       " Text(1.7301423405889254, 110.81076923076922, 'X[5] <= 10.5\\ngini = 0.053\\nsamples = 730\\nvalue = [710, 20]'),\n",
       " Text(1.5988872077288911, 106.62923076923077, 'X[52] <= 0.5\\ngini = 0.026\\nsamples = 298\\nvalue = [294, 4]'),\n",
       " Text(1.5577494579588511, 102.44769230769231, 'X[71] <= 0.5\\ngini = 0.02\\nsamples = 293\\nvalue = [290, 3]'),\n",
       " Text(1.530324291445491, 98.26615384615384, 'X[66] <= 0.5\\ngini = 0.014\\nsamples = 287\\nvalue = [285, 2]'),\n",
       " Text(1.508384158234803, 94.08461538461539, 'X[68] <= 0.5\\ngini = 0.007\\nsamples = 280\\nvalue = [279, 1]'),\n",
       " Text(1.497414091629459, 89.90307692307692, 'gini = 0.0\\nsamples = 263\\nvalue = [263, 0]'),\n",
       " Text(1.519354224840147, 89.90307692307692, 'X[6] <= 26.0\\ngini = 0.111\\nsamples = 17\\nvalue = [16, 1]'),\n",
       " Text(1.508384158234803, 85.72153846153847, 'gini = 0.0\\nsamples = 13\\nvalue = [13, 0]'),\n",
       " Text(1.530324291445491, 85.72153846153847, 'X[2] <= 34.25\\ngini = 0.375\\nsamples = 4\\nvalue = [3, 1]'),\n",
       " Text(1.519354224840147, 81.53999999999999, 'X[0] <= 11350.0\\ngini = 0.5\\nsamples = 2\\nvalue = [1, 1]'),\n",
       " Text(1.508384158234803, 77.35846153846154, 'gini = 0.0\\nsamples = 1\\nvalue = [1, 0]'),\n",
       " Text(1.530324291445491, 77.35846153846154, 'gini = 0.0\\nsamples = 1\\nvalue = [0, 1]'),\n",
       " Text(1.5412943580508351, 81.53999999999999, 'gini = 0.0\\nsamples = 2\\nvalue = [2, 0]'),\n",
       " Text(1.5522644246561792, 94.08461538461539, 'X[1] <= 32000.0\\ngini = 0.245\\nsamples = 7\\nvalue = [6, 1]'),\n",
       " Text(1.5412943580508351, 89.90307692307692, 'gini = 0.0\\nsamples = 6\\nvalue = [6, 0]'),\n",
       " Text(1.563234491261523, 89.90307692307692, 'gini = 0.0\\nsamples = 1\\nvalue = [0, 1]'),\n",
       " Text(1.5851746244722111, 98.26615384615384, 'X[6] <= 14.5\\ngini = 0.278\\nsamples = 6\\nvalue = [5, 1]'),\n",
       " Text(1.574204557866867, 94.08461538461539, 'gini = 0.0\\nsamples = 1\\nvalue = [0, 1]'),\n",
       " Text(1.5961446910775552, 94.08461538461539, 'gini = 0.0\\nsamples = 5\\nvalue = [5, 0]'),\n",
       " Text(1.6400249574989312, 102.44769230769231, 'X[0] <= 14125.0\\ngini = 0.32\\nsamples = 5\\nvalue = [4, 1]'),\n",
       " Text(1.6290548908935873, 98.26615384615384, 'X[1] <= 32390.0\\ngini = 0.5\\nsamples = 2\\nvalue = [1, 1]'),\n",
       " Text(1.6180848242882433, 94.08461538461539, 'gini = 0.0\\nsamples = 1\\nvalue = [0, 1]'),\n",
       " Text(1.6400249574989312, 94.08461538461539, 'gini = 0.0\\nsamples = 1\\nvalue = [1, 0]'),\n",
       " Text(1.6509950241042752, 98.26615384615384, 'gini = 0.0\\nsamples = 3\\nvalue = [3, 0]'),\n",
       " Text(1.8613974734489596, 106.62923076923077, 'X[19] <= 0.5\\ngini = 0.071\\nsamples = 432\\nvalue = [416, 16]'),\n",
       " Text(1.819488390870731, 102.44769230769231, 'X[6] <= 25.5\\ngini = 0.067\\nsamples = 430\\nvalue = [415, 15]'),\n",
       " Text(1.7685804255303066, 98.26615384615384, 'X[5] <= 22.5\\ngini = 0.112\\nsamples = 201\\nvalue = [189, 12]'),\n",
       " Text(1.7576103589249625, 94.08461538461539, 'X[2] <= 42.55\\ngini = 0.104\\nsamples = 200\\nvalue = [189, 11]'),\n",
       " Text(1.7051597279681614, 89.90307692307692, 'X[3] <= 1.5\\ngini = 0.083\\nsamples = 184\\nvalue = [176, 8]'),\n",
       " Text(1.6551087990812794, 85.72153846153847, 'X[29] <= 0.5\\ngini = 0.067\\nsamples = 173\\nvalue = [167, 6]'),\n",
       " Text(1.6098572743342352, 81.53999999999999, 'X[4] <= 0.5\\ngini = 0.058\\nsamples = 168\\nvalue = [163, 5]'),\n",
       " Text(1.5522644246561792, 77.35846153846154, 'X[30] <= 0.5\\ngini = 0.018\\nsamples = 108\\nvalue = [107, 1]'),\n",
       " Text(1.5412943580508351, 73.17692307692309, 'gini = 0.0\\nsamples = 97\\nvalue = [97, 0]'),\n",
       " Text(1.563234491261523, 73.17692307692309, 'X[12] <= 0.5\\ngini = 0.165\\nsamples = 11\\nvalue = [10, 1]'),\n",
       " Text(1.5522644246561792, 68.99538461538461, 'gini = 0.0\\nsamples = 8\\nvalue = [8, 0]'),\n",
       " Text(1.574204557866867, 68.99538461538461, 'X[5] <= 11.5\\ngini = 0.444\\nsamples = 3\\nvalue = [2, 1]'),\n",
       " Text(1.563234491261523, 64.81384615384616, 'gini = 0.0\\nsamples = 1\\nvalue = [0, 1]'),\n",
       " Text(1.5851746244722111, 64.81384615384616, 'gini = 0.0\\nsamples = 2\\nvalue = [2, 0]'),\n",
       " Text(1.6674501240122914, 77.35846153846154, 'X[61] <= 0.5\\ngini = 0.124\\nsamples = 60\\nvalue = [56, 4]'),\n",
       " Text(1.6400249574989312, 73.17692307692309, 'X[2] <= 40.3\\ngini = 0.098\\nsamples = 58\\nvalue = [55, 3]'),\n",
       " Text(1.6180848242882433, 68.99538461538461, 'X[22] <= 0.5\\ngini = 0.038\\nsamples = 51\\nvalue = [50, 1]'),\n",
       " Text(1.6071147576828992, 64.81384615384616, 'gini = 0.0\\nsamples = 48\\nvalue = [48, 0]'),\n",
       " Text(1.6290548908935873, 64.81384615384616, 'X[2] <= 29.05\\ngini = 0.444\\nsamples = 3\\nvalue = [2, 1]'),\n",
       " Text(1.6180848242882433, 60.632307692307705, 'gini = 0.0\\nsamples = 2\\nvalue = [2, 0]'),\n",
       " Text(1.6400249574989312, 60.632307692307705, 'gini = 0.0\\nsamples = 1\\nvalue = [0, 1]'),\n",
       " Text(1.6619650907096193, 68.99538461538461, 'X[0] <= 10450.0\\ngini = 0.408\\nsamples = 7\\nvalue = [5, 2]'),\n",
       " Text(1.6509950241042752, 64.81384615384616, 'gini = 0.0\\nsamples = 2\\nvalue = [0, 2]'),\n",
       " Text(1.6729351573149633, 64.81384615384616, 'gini = 0.0\\nsamples = 5\\nvalue = [5, 0]'),\n",
       " Text(1.6948752905256514, 73.17692307692309, 'X[1] <= 31250.0\\ngini = 0.5\\nsamples = 2\\nvalue = [1, 1]'),\n",
       " Text(1.6839052239203074, 68.99538461538461, 'gini = 0.0\\nsamples = 1\\nvalue = [1, 0]'),\n",
       " Text(1.7058453571309955, 68.99538461538461, 'gini = 0.0\\nsamples = 1\\nvalue = [0, 1]'),\n",
       " Text(1.7003603238283234, 81.53999999999999, 'X[6] <= 24.5\\ngini = 0.32\\nsamples = 5\\nvalue = [4, 1]'),\n",
       " Text(1.6893902572229793, 77.35846153846154, 'gini = 0.0\\nsamples = 4\\nvalue = [4, 0]'),\n",
       " Text(1.7113303904336674, 77.35846153846154, 'gini = 0.0\\nsamples = 1\\nvalue = [0, 1]'),\n",
       " Text(1.7552106568550436, 85.72153846153847, 'X[7] <= 0.5\\ngini = 0.298\\nsamples = 11\\nvalue = [9, 2]'),\n",
       " Text(1.7442405902496996, 81.53999999999999, 'X[12] <= 0.5\\ngini = 0.18\\nsamples = 10\\nvalue = [9, 1]'),\n",
       " Text(1.7332705236443555, 77.35846153846154, 'X[60] <= 0.5\\ngini = 0.5\\nsamples = 2\\nvalue = [1, 1]'),\n",
       " Text(1.7223004570390115, 73.17692307692309, 'gini = 0.0\\nsamples = 1\\nvalue = [1, 0]'),\n",
       " Text(1.7442405902496996, 73.17692307692309, 'gini = 0.0\\nsamples = 1\\nvalue = [0, 1]'),\n",
       " Text(1.7552106568550436, 77.35846153846154, 'gini = 0.0\\nsamples = 8\\nvalue = [8, 0]'),\n",
       " Text(1.7661807234603875, 81.53999999999999, 'gini = 0.0\\nsamples = 1\\nvalue = [0, 1]'),\n",
       " Text(1.8100609898817637, 89.90307692307692, 'X[50] <= 0.5\\ngini = 0.305\\nsamples = 16\\nvalue = [13, 3]'),\n",
       " Text(1.7990909232764196, 85.72153846153847, 'X[61] <= 0.5\\ngini = 0.231\\nsamples = 15\\nvalue = [13, 2]'),\n",
       " Text(1.7881208566710756, 81.53999999999999, 'X[7] <= 1.5\\ngini = 0.133\\nsamples = 14\\nvalue = [13, 1]'),\n",
       " Text(1.7771507900657315, 77.35846153846154, 'gini = 0.0\\nsamples = 13\\nvalue = [13, 0]'),\n",
       " Text(1.7990909232764196, 77.35846153846154, 'gini = 0.0\\nsamples = 1\\nvalue = [0, 1]'),\n",
       " Text(1.8100609898817637, 81.53999999999999, 'gini = 0.0\\nsamples = 1\\nvalue = [0, 1]'),\n",
       " Text(1.8210310564871077, 85.72153846153847, 'gini = 0.0\\nsamples = 1\\nvalue = [0, 1]'),\n",
       " Text(1.7795504921356506, 94.08461538461539, 'gini = 0.0\\nsamples = 1\\nvalue = [0, 1]'),\n",
       " Text(1.8703963562111559, 98.26615384615384, 'X[2] <= 1.95\\ngini = 0.026\\nsamples = 229\\nvalue = [226, 3]'),\n",
       " Text(1.8429711896977956, 94.08461538461539, 'X[15] <= 0.5\\ngini = 0.375\\nsamples = 4\\nvalue = [3, 1]'),\n",
       " Text(1.8320011230924518, 89.90307692307692, 'gini = 0.0\\nsamples = 1\\nvalue = [0, 1]'),\n",
       " Text(1.8539412563031397, 89.90307692307692, 'gini = 0.0\\nsamples = 3\\nvalue = [3, 0]'),\n",
       " Text(1.8978215227245159, 94.08461538461539, 'X[68] <= 0.5\\ngini = 0.018\\nsamples = 225\\nvalue = [223, 2]'),\n",
       " Text(1.8758813895138278, 89.90307692307692, 'X[69] <= 0.5\\ngini = 0.009\\nsamples = 215\\nvalue = [214, 1]'),\n",
       " Text(1.8649113229084837, 85.72153846153847, 'gini = 0.0\\nsamples = 193\\nvalue = [193, 0]'),\n",
       " Text(1.8868514561191718, 85.72153846153847, 'X[2] <= 38.3\\ngini = 0.087\\nsamples = 22\\nvalue = [21, 1]'),\n",
       " Text(1.8758813895138278, 81.53999999999999, 'gini = 0.0\\nsamples = 18\\nvalue = [18, 0]'),\n",
       " Text(1.8978215227245159, 81.53999999999999, 'X[4] <= 0.5\\ngini = 0.375\\nsamples = 4\\nvalue = [3, 1]'),\n",
       " Text(1.8868514561191718, 77.35846153846154, 'gini = 0.0\\nsamples = 3\\nvalue = [3, 0]'),\n",
       " Text(1.90879158932986, 77.35846153846154, 'gini = 0.0\\nsamples = 1\\nvalue = [0, 1]'),\n",
       " Text(1.9197616559352038, 89.90307692307692, 'X[0] <= 11262.5\\ngini = 0.18\\nsamples = 10\\nvalue = [9, 1]'),\n",
       " Text(1.90879158932986, 85.72153846153847, 'gini = 0.0\\nsamples = 1\\nvalue = [0, 1]'),\n",
       " Text(1.9307317225405478, 85.72153846153847, 'gini = 0.0\\nsamples = 9\\nvalue = [9, 0]'),\n",
       " Text(1.9033065560271878, 102.44769230769231, 'X[10] <= 0.5\\ngini = 0.5\\nsamples = 2\\nvalue = [1, 1]'),\n",
       " Text(1.8923364894218437, 98.26615384615384, 'gini = 0.0\\nsamples = 1\\nvalue = [1, 0]'),\n",
       " Text(1.9142766226325318, 98.26615384615384, 'gini = 0.0\\nsamples = 1\\nvalue = [0, 1]'),\n",
       " Text(1.925246689237876, 110.81076923076922, 'X[2] <= 39.2\\ngini = 0.32\\nsamples = 10\\nvalue = [8, 2]'),\n",
       " Text(1.9142766226325318, 106.62923076923077, 'gini = 0.0\\nsamples = 7\\nvalue = [7, 0]'),\n",
       " Text(1.93621675584322, 106.62923076923077, 'X[6] <= 22.5\\ngini = 0.444\\nsamples = 3\\nvalue = [1, 2]'),\n",
       " Text(1.925246689237876, 102.44769230769231, 'gini = 0.0\\nsamples = 2\\nvalue = [0, 2]'),\n",
       " Text(1.947186822448564, 102.44769230769231, 'gini = 0.0\\nsamples = 1\\nvalue = [1, 0]'),\n",
       " Text(1.698207019738798, 123.35538461538462, 'X[2] <= 30.2\\ngini = 0.444\\nsamples = 3\\nvalue = [2, 1]'),\n",
       " Text(1.687236953133454, 119.17384615384616, 'gini = 0.0\\nsamples = 2\\nvalue = [2, 0]'),\n",
       " Text(1.7091770863441418, 119.17384615384616, 'gini = 0.0\\nsamples = 1\\nvalue = [0, 1]'),\n",
       " Text(1.73111721955483, 127.53692307692307, 'X[3] <= 0.5\\ngini = 0.444\\nsamples = 3\\nvalue = [2, 1]'),\n",
       " Text(1.7201471529494858, 123.35538461538462, 'gini = 0.0\\nsamples = 2\\nvalue = [2, 0]'),\n",
       " Text(1.742087286160174, 123.35538461538462, 'gini = 0.0\\nsamples = 1\\nvalue = [0, 1]'),\n",
       " Text(1.764027419370862, 131.71846153846155, 'X[36] <= 0.5\\ngini = 0.444\\nsamples = 3\\nvalue = [2, 1]'),\n",
       " Text(1.753057352765518, 127.53692307692307, 'gini = 0.0\\nsamples = 2\\nvalue = [2, 0]'),\n",
       " Text(1.774997485976206, 127.53692307692307, 'gini = 0.0\\nsamples = 1\\nvalue = [0, 1]'),\n",
       " Text(1.818877752397582, 135.9, 'X[4] <= 0.5\\ngini = 0.408\\nsamples = 7\\nvalue = [5, 2]'),\n",
       " Text(1.807907685792238, 131.71846153846155, 'X[35] <= 0.5\\ngini = 0.278\\nsamples = 6\\nvalue = [5, 1]'),\n",
       " Text(1.796937619186894, 127.53692307692307, 'gini = 0.0\\nsamples = 5\\nvalue = [5, 0]'),\n",
       " Text(1.818877752397582, 127.53692307692307, 'gini = 0.0\\nsamples = 1\\nvalue = [0, 1]'),\n",
       " Text(1.8298478190029261, 131.71846153846155, 'gini = 0.0\\nsamples = 1\\nvalue = [0, 1]'),\n",
       " Text(1.7804977517627203, 152.62615384615384, 'X[2] <= 17.2\\ngini = 0.269\\nsamples = 25\\nvalue = [21, 4]'),\n",
       " Text(1.7585576185520322, 148.4446153846154, 'X[5] <= 14.0\\ngini = 0.48\\nsamples = 5\\nvalue = [2, 3]'),\n",
       " Text(1.7475875519466881, 144.26307692307694, 'gini = 0.0\\nsamples = 3\\nvalue = [0, 3]'),\n",
       " Text(1.7695276851573762, 144.26307692307694, 'gini = 0.0\\nsamples = 2\\nvalue = [2, 0]'),\n",
       " Text(1.8024378849734084, 148.4446153846154, 'X[7] <= 1.5\\ngini = 0.095\\nsamples = 20\\nvalue = [19, 1]'),\n",
       " Text(1.7914678183680643, 144.26307692307694, 'gini = 0.0\\nsamples = 18\\nvalue = [18, 0]'),\n",
       " Text(1.8134079515787525, 144.26307692307694, 'X[2] <= 38.0\\ngini = 0.5\\nsamples = 2\\nvalue = [1, 1]'),\n",
       " Text(1.8024378849734084, 140.08153846153846, 'gini = 0.0\\nsamples = 1\\nvalue = [1, 0]'),\n",
       " Text(1.8243780181840963, 140.08153846153846, 'gini = 0.0\\nsamples = 1\\nvalue = [0, 1]'),\n",
       " Text(3.244056141543367, 156.80769230769232, 'X[22] <= 0.5\\ngini = 0.101\\nsamples = 1945\\nvalue = [1841, 104]'),\n",
       " Text(3.1228729446067467, 152.62615384615384, 'X[1] <= 34656.1\\ngini = 0.092\\nsamples = 1844\\nvalue = [1755, 89]'),\n",
       " Text(3.0423150331623305, 148.4446153846154, 'X[53] <= 0.5\\ngini = 0.09\\nsamples = 1839\\nvalue = [1752, 87]'),\n",
       " Text(2.9360495433002183, 144.26307692307694, 'X[23] <= 0.5\\ngini = 0.085\\nsamples = 1759\\nvalue = [1681, 78]'),\n",
       " Text(2.783853929905386, 140.08153846153846, 'X[2] <= 61.15\\ngini = 0.084\\nsamples = 1756\\nvalue = [1679, 77]'),\n",
       " Text(2.5123729029317534, 135.9, 'X[2] <= 45.75\\ngini = 0.081\\nsamples = 1726\\nvalue = [1653, 73]'),\n",
       " Text(2.1559609025315174, 131.71846153846155, 'X[52] <= 0.5\\ngini = 0.156\\nsamples = 129\\nvalue = [118, 11]'),\n",
       " Text(2.144990835926173, 127.53692307692307, 'X[25] <= 0.5\\ngini = 0.144\\nsamples = 128\\nvalue = [118, 10]'),\n",
       " Text(2.1340207693208293, 123.35538461538462, 'X[27] <= 0.5\\ngini = 0.132\\nsamples = 127\\nvalue = [118, 9]'),\n",
       " Text(2.0904833174808704, 119.17384615384616, 'X[75] <= 0.5\\ngini = 0.108\\nsamples = 122\\nvalue = [115, 7]'),\n",
       " Text(2.058258746827672, 114.99230769230769, 'X[45] <= 0.5\\ngini = 0.095\\nsamples = 120\\nvalue = [114, 6]'),\n",
       " Text(2.026719805337308, 110.81076923076922, 'X[46] <= 0.5\\ngini = 0.081\\nsamples = 118\\nvalue = [113, 5]'),\n",
       " Text(1.996552122172612, 106.62923076923077, 'X[40] <= 0.5\\ngini = 0.067\\nsamples = 116\\nvalue = [112, 4]'),\n",
       " Text(1.9691269556592519, 102.44769230769231, 'X[6] <= 32.5\\ngini = 0.052\\nsamples = 112\\nvalue = [109, 3]'),\n",
       " Text(1.947186822448564, 98.26615384615384, 'X[30] <= 0.5\\ngini = 0.02\\nsamples = 98\\nvalue = [97, 1]'),\n",
       " Text(1.93621675584322, 94.08461538461539, 'gini = 0.0\\nsamples = 90\\nvalue = [90, 0]'),\n",
       " Text(1.9581568890539078, 94.08461538461539, 'X[1] <= 25250.0\\ngini = 0.219\\nsamples = 8\\nvalue = [7, 1]'),\n",
       " Text(1.947186822448564, 89.90307692307692, 'gini = 0.0\\nsamples = 1\\nvalue = [0, 1]'),\n",
       " Text(1.9691269556592519, 89.90307692307692, 'gini = 0.0\\nsamples = 7\\nvalue = [7, 0]'),\n",
       " Text(1.99106708886994, 98.26615384615384, 'X[6] <= 35.0\\ngini = 0.245\\nsamples = 14\\nvalue = [12, 2]'),\n",
       " Text(1.980097022264596, 94.08461538461539, 'gini = 0.0\\nsamples = 1\\nvalue = [0, 1]'),\n",
       " Text(2.002037155475284, 94.08461538461539, 'X[50] <= 0.5\\ngini = 0.142\\nsamples = 13\\nvalue = [12, 1]'),\n",
       " Text(1.99106708886994, 89.90307692307692, 'gini = 0.0\\nsamples = 12\\nvalue = [12, 0]'),\n",
       " Text(2.013007222080628, 89.90307692307692, 'gini = 0.0\\nsamples = 1\\nvalue = [0, 1]'),\n",
       " Text(2.023977288685972, 102.44769230769231, 'X[0] <= 7662.5\\ngini = 0.375\\nsamples = 4\\nvalue = [3, 1]'),\n",
       " Text(2.013007222080628, 98.26615384615384, 'gini = 0.0\\nsamples = 3\\nvalue = [3, 0]'),\n",
       " Text(2.034947355291316, 98.26615384615384, 'gini = 0.0\\nsamples = 1\\nvalue = [0, 1]'),\n",
       " Text(2.0568874885020043, 106.62923076923077, 'X[3] <= 0.5\\ngini = 0.5\\nsamples = 2\\nvalue = [1, 1]'),\n",
       " Text(2.04591742189666, 102.44769230769231, 'gini = 0.0\\nsamples = 1\\nvalue = [1, 0]'),\n",
       " Text(2.067857555107348, 102.44769230769231, 'gini = 0.0\\nsamples = 1\\nvalue = [0, 1]'),\n",
       " Text(2.0897976883180363, 110.81076923076922, 'X[1] <= 28500.0\\ngini = 0.5\\nsamples = 2\\nvalue = [1, 1]'),\n",
       " Text(2.078827621712692, 106.62923076923077, 'gini = 0.0\\nsamples = 1\\nvalue = [1, 0]'),\n",
       " Text(2.10076775492338, 106.62923076923077, 'gini = 0.0\\nsamples = 1\\nvalue = [0, 1]'),\n",
       " Text(2.122707888134068, 114.99230769230769, 'X[7] <= 0.5\\ngini = 0.5\\nsamples = 2\\nvalue = [1, 1]'),\n",
       " Text(2.1117378215287244, 110.81076923076922, 'gini = 0.0\\nsamples = 1\\nvalue = [0, 1]'),\n",
       " Text(2.1336779547394125, 110.81076923076922, 'gini = 0.0\\nsamples = 1\\nvalue = [1, 0]'),\n",
       " Text(2.1775582211607882, 119.17384615384616, 'X[7] <= 0.5\\ngini = 0.48\\nsamples = 5\\nvalue = [3, 2]'),\n",
       " Text(2.1665881545554444, 114.99230769230769, 'X[0] <= 6500.0\\ngini = 0.444\\nsamples = 3\\nvalue = [1, 2]'),\n",
       " Text(2.1556180879501, 110.81076923076922, 'gini = 0.0\\nsamples = 1\\nvalue = [1, 0]'),\n",
       " Text(2.1775582211607882, 110.81076923076922, 'gini = 0.0\\nsamples = 2\\nvalue = [0, 2]'),\n",
       " Text(2.1885282877661325, 114.99230769230769, 'gini = 0.0\\nsamples = 2\\nvalue = [2, 0]'),\n",
       " Text(2.1559609025315174, 123.35538461538462, 'gini = 0.0\\nsamples = 1\\nvalue = [0, 1]'),\n",
       " Text(2.1669309691368612, 127.53692307692307, 'gini = 0.0\\nsamples = 1\\nvalue = [0, 1]'),\n",
       " Text(2.868784903331989, 131.71846153846155, 'X[21] <= 0.5\\ngini = 0.075\\nsamples = 1597\\nvalue = [1535, 62]'),\n",
       " Text(2.748055249417024, 127.53692307692307, 'X[19] <= 0.5\\ngini = 0.074\\nsamples = 1594\\nvalue = [1533, 61]'),\n",
       " Text(2.5395061414031255, 123.35538461538462, 'X[2] <= 54.85\\ngini = 0.07\\nsamples = 1559\\nvalue = [1502, 57]'),\n",
       " Text(2.3400523327524465, 119.17384615384616, 'X[1] <= 32225.0\\ngini = 0.053\\nsamples = 914\\nvalue = [889, 25]'),\n",
       " Text(2.2382364020715975, 114.99230769230769, 'X[0] <= 9387.5\\ngini = 0.036\\nsamples = 753\\nvalue = [739, 14]'),\n",
       " Text(2.1994983543714763, 110.81076923076922, 'X[0] <= 9287.5\\ngini = 0.056\\nsamples = 451\\nvalue = [438, 13]'),\n",
       " Text(2.1885282877661325, 106.62923076923077, 'X[35] <= 0.5\\ngini = 0.052\\nsamples = 450\\nvalue = [438, 12]'),\n",
       " Text(2.143962392181922, 102.44769230769231, 'X[62] <= 0.5\\ngini = 0.038\\nsamples = 411\\nvalue = [403, 8]'),\n",
       " Text(2.109680934040222, 98.26615384615384, 'X[4] <= 0.5\\ngini = 0.034\\nsamples = 406\\nvalue = [399, 7]'),\n",
       " Text(2.074028217572854, 94.08461538461539, 'X[45] <= 0.5\\ngini = 0.029\\nsamples = 401\\nvalue = [395, 6]'),\n",
       " Text(2.03563298445415, 89.90307692307692, 'X[60] <= 0.5\\ngini = 0.025\\nsamples = 395\\nvalue = [390, 5]'),\n",
       " Text(1.991752718032774, 85.72153846153847, 'X[30] <= 0.5\\ngini = 0.016\\nsamples = 364\\nvalue = [361, 3]'),\n",
       " Text(1.958842518216742, 81.53999999999999, 'X[41] <= 0.5\\ngini = 0.006\\nsamples = 329\\nvalue = [328, 1]'),\n",
       " Text(1.9478724516113979, 77.35846153846154, 'gini = 0.0\\nsamples = 312\\nvalue = [312, 0]'),\n",
       " Text(1.969812584822086, 77.35846153846154, 'X[0] <= 4400.0\\ngini = 0.111\\nsamples = 17\\nvalue = [16, 1]'),\n",
       " Text(1.958842518216742, 73.17692307692309, 'X[0] <= 3500.0\\ngini = 0.32\\nsamples = 5\\nvalue = [4, 1]'),\n",
       " Text(1.9478724516113979, 68.99538461538461, 'gini = 0.0\\nsamples = 4\\nvalue = [4, 0]'),\n",
       " Text(1.969812584822086, 68.99538461538461, 'gini = 0.0\\nsamples = 1\\nvalue = [0, 1]'),\n",
       " Text(1.98078265142743, 73.17692307692309, 'gini = 0.0\\nsamples = 12\\nvalue = [12, 0]'),\n",
       " Text(2.024662917848806, 81.53999999999999, 'X[2] <= 48.45\\ngini = 0.108\\nsamples = 35\\nvalue = [33, 2]'),\n",
       " Text(2.013692851243462, 77.35846153846154, 'X[0] <= 4700.0\\ngini = 0.298\\nsamples = 11\\nvalue = [9, 2]'),\n",
       " Text(2.002722784638118, 73.17692307692309, 'gini = 0.0\\nsamples = 1\\nvalue = [0, 1]'),\n",
       " Text(2.024662917848806, 73.17692307692309, 'X[0] <= 8250.0\\ngini = 0.18\\nsamples = 10\\nvalue = [9, 1]'),\n",
       " Text(2.013692851243462, 68.99538461538461, 'gini = 0.0\\nsamples = 8\\nvalue = [8, 0]'),\n",
       " Text(2.03563298445415, 68.99538461538461, 'X[2] <= 47.3\\ngini = 0.5\\nsamples = 2\\nvalue = [1, 1]'),\n",
       " Text(2.024662917848806, 64.81384615384616, 'gini = 0.0\\nsamples = 1\\nvalue = [1, 0]'),\n",
       " Text(2.046603051059494, 64.81384615384616, 'gini = 0.0\\nsamples = 1\\nvalue = [0, 1]'),\n",
       " Text(2.03563298445415, 77.35846153846154, 'gini = 0.0\\nsamples = 24\\nvalue = [24, 0]'),\n",
       " Text(2.079513250875526, 85.72153846153847, 'X[2] <= 47.35\\ngini = 0.121\\nsamples = 31\\nvalue = [29, 2]'),\n",
       " Text(2.0685431842701822, 81.53999999999999, 'X[10] <= 0.5\\ngini = 0.408\\nsamples = 7\\nvalue = [5, 2]'),\n",
       " Text(2.057573117664838, 77.35846153846154, 'X[5] <= 7.0\\ngini = 0.444\\nsamples = 3\\nvalue = [1, 2]'),\n",
       " Text(2.046603051059494, 73.17692307692309, 'gini = 0.0\\nsamples = 1\\nvalue = [1, 0]'),\n",
       " Text(2.0685431842701822, 73.17692307692309, 'gini = 0.0\\nsamples = 2\\nvalue = [0, 2]'),\n",
       " Text(2.079513250875526, 77.35846153846154, 'gini = 0.0\\nsamples = 4\\nvalue = [4, 0]'),\n",
       " Text(2.0904833174808704, 81.53999999999999, 'gini = 0.0\\nsamples = 24\\nvalue = [24, 0]'),\n",
       " Text(2.112423450691558, 89.90307692307692, 'X[1] <= 27500.0\\ngini = 0.278\\nsamples = 6\\nvalue = [5, 1]'),\n",
       " Text(2.101453384086214, 85.72153846153847, 'gini = 0.0\\nsamples = 4\\nvalue = [4, 0]'),\n",
       " Text(2.1233935172969023, 85.72153846153847, 'X[6] <= 15.0\\ngini = 0.5\\nsamples = 2\\nvalue = [1, 1]'),\n",
       " Text(2.112423450691558, 81.53999999999999, 'gini = 0.0\\nsamples = 1\\nvalue = [0, 1]'),\n",
       " Text(2.134363583902246, 81.53999999999999, 'gini = 0.0\\nsamples = 1\\nvalue = [1, 0]'),\n",
       " Text(2.1453336505075904, 94.08461538461539, 'X[6] <= 27.5\\ngini = 0.32\\nsamples = 5\\nvalue = [4, 1]'),\n",
       " Text(2.134363583902246, 89.90307692307692, 'gini = 0.0\\nsamples = 4\\nvalue = [4, 0]'),\n",
       " Text(2.1563037171129342, 89.90307692307692, 'gini = 0.0\\nsamples = 1\\nvalue = [0, 1]'),\n",
       " Text(2.1782438503236223, 98.26615384615384, 'X[5] <= 6.0\\ngini = 0.32\\nsamples = 5\\nvalue = [4, 1]'),\n",
       " Text(2.1672737837182785, 94.08461538461539, 'gini = 0.0\\nsamples = 1\\nvalue = [0, 1]'),\n",
       " Text(2.189213916928966, 94.08461538461539, 'gini = 0.0\\nsamples = 4\\nvalue = [4, 0]'),\n",
       " Text(2.2330941833503424, 102.44769230769231, 'X[1] <= 26750.0\\ngini = 0.184\\nsamples = 39\\nvalue = [35, 4]'),\n",
       " Text(2.2221241167449985, 98.26615384615384, 'X[15] <= 0.5\\ngini = 0.32\\nsamples = 20\\nvalue = [16, 4]'),\n",
       " Text(2.2111540501396543, 94.08461538461539, 'gini = 0.0\\nsamples = 11\\nvalue = [11, 0]'),\n",
       " Text(2.2330941833503424, 94.08461538461539, 'X[6] <= 15.5\\ngini = 0.494\\nsamples = 9\\nvalue = [5, 4]'),\n",
       " Text(2.2221241167449985, 89.90307692307692, 'gini = 0.0\\nsamples = 3\\nvalue = [0, 3]'),\n",
       " Text(2.2440642499556867, 89.90307692307692, 'X[1] <= 25016.0\\ngini = 0.278\\nsamples = 6\\nvalue = [5, 1]'),\n",
       " Text(2.2330941833503424, 85.72153846153847, 'gini = 0.0\\nsamples = 5\\nvalue = [5, 0]'),\n",
       " Text(2.2550343165610305, 85.72153846153847, 'gini = 0.0\\nsamples = 1\\nvalue = [0, 1]'),\n",
       " Text(2.2440642499556867, 98.26615384615384, 'gini = 0.0\\nsamples = 19\\nvalue = [19, 0]'),\n",
       " Text(2.2104684209768206, 106.62923076923077, 'gini = 0.0\\nsamples = 1\\nvalue = [0, 1]'),\n",
       " Text(2.2769744497717186, 110.81076923076922, 'X[30] <= 0.5\\ngini = 0.007\\nsamples = 302\\nvalue = [301, 1]'),\n",
       " Text(2.2660043831663748, 106.62923076923077, 'gini = 0.0\\nsamples = 281\\nvalue = [281, 0]'),\n",
       " Text(2.2879445163770624, 106.62923076923077, 'X[6] <= 12.5\\ngini = 0.091\\nsamples = 21\\nvalue = [20, 1]'),\n",
       " Text(2.2769744497717186, 102.44769230769231, 'X[6] <= 11.0\\ngini = 0.245\\nsamples = 7\\nvalue = [6, 1]'),\n",
       " Text(2.2660043831663748, 98.26615384615384, 'gini = 0.0\\nsamples = 6\\nvalue = [6, 0]'),\n",
       " Text(2.2879445163770624, 98.26615384615384, 'gini = 0.0\\nsamples = 1\\nvalue = [0, 1]'),\n",
       " Text(2.2989145829824067, 102.44769230769231, 'gini = 0.0\\nsamples = 14\\nvalue = [14, 0]'),\n",
       " Text(2.441868263433296, 114.99230769230769, 'X[1] <= 32361.5\\ngini = 0.127\\nsamples = 161\\nvalue = [150, 11]'),\n",
       " Text(2.4308981968279517, 110.81076923076922, 'gini = 0.0\\nsamples = 1\\nvalue = [0, 1]'),\n",
       " Text(2.45283833003864, 110.81076923076922, 'X[63] <= 0.5\\ngini = 0.117\\nsamples = 160\\nvalue = [150, 10]'),\n",
       " Text(2.4202709448040247, 106.62923076923077, 'X[43] <= 0.5\\ngini = 0.107\\nsamples = 158\\nvalue = [149, 9]'),\n",
       " Text(2.388046374150827, 102.44769230769231, 'X[61] <= 0.5\\ngini = 0.097\\nsamples = 156\\nvalue = [148, 8]'),\n",
       " Text(2.3565074326604627, 98.26615384615384, 'X[7] <= 0.5\\ngini = 0.079\\nsamples = 146\\nvalue = [140, 6]'),\n",
       " Text(2.3263397494957667, 94.08461538461539, 'X[60] <= 0.5\\ngini = 0.048\\nsamples = 123\\nvalue = [120, 3]'),\n",
       " Text(2.2989145829824067, 89.90307692307692, 'X[48] <= 0.5\\ngini = 0.033\\nsamples = 118\\nvalue = [116, 2]'),\n",
       " Text(2.2769744497717186, 85.72153846153847, 'X[0] <= 2775.0\\ngini = 0.018\\nsamples = 111\\nvalue = [110, 1]'),\n",
       " Text(2.2660043831663748, 81.53999999999999, 'X[0] <= 2662.5\\ngini = 0.219\\nsamples = 8\\nvalue = [7, 1]'),\n",
       " Text(2.2550343165610305, 77.35846153846154, 'gini = 0.0\\nsamples = 7\\nvalue = [7, 0]'),\n",
       " Text(2.2769744497717186, 77.35846153846154, 'gini = 0.0\\nsamples = 1\\nvalue = [0, 1]'),\n",
       " Text(2.2879445163770624, 81.53999999999999, 'gini = 0.0\\nsamples = 103\\nvalue = [103, 0]'),\n",
       " Text(2.320854716193095, 85.72153846153847, 'X[5] <= 7.5\\ngini = 0.245\\nsamples = 7\\nvalue = [6, 1]'),\n",
       " Text(2.3098846495877505, 81.53999999999999, 'gini = 0.0\\nsamples = 1\\nvalue = [0, 1]'),\n",
       " Text(2.3318247827984386, 81.53999999999999, 'gini = 0.0\\nsamples = 6\\nvalue = [6, 0]'),\n",
       " Text(2.3537649160091267, 89.90307692307692, 'X[6] <= 15.5\\ngini = 0.32\\nsamples = 5\\nvalue = [4, 1]'),\n",
       " Text(2.342794849403783, 85.72153846153847, 'gini = 0.0\\nsamples = 1\\nvalue = [0, 1]'),\n",
       " Text(2.3647349826144706, 85.72153846153847, 'gini = 0.0\\nsamples = 4\\nvalue = [4, 0]'),\n",
       " Text(2.3866751158251587, 94.08461538461539, 'X[5] <= 10.0\\ngini = 0.227\\nsamples = 23\\nvalue = [20, 3]'),\n",
       " Text(2.375705049219815, 89.90307692307692, 'gini = 0.0\\nsamples = 17\\nvalue = [17, 0]'),\n",
       " Text(2.397645182430503, 89.90307692307692, 'X[5] <= 11.5\\ngini = 0.5\\nsamples = 6\\nvalue = [3, 3]'),\n",
       " Text(2.3866751158251587, 85.72153846153847, 'gini = 0.0\\nsamples = 3\\nvalue = [0, 3]'),\n",
       " Text(2.408615249035847, 85.72153846153847, 'gini = 0.0\\nsamples = 3\\nvalue = [3, 0]'),\n",
       " Text(2.419585315641191, 98.26615384615384, 'X[0] <= 4962.5\\ngini = 0.32\\nsamples = 10\\nvalue = [8, 2]'),\n",
       " Text(2.408615249035847, 94.08461538461539, 'gini = 0.0\\nsamples = 1\\nvalue = [0, 1]'),\n",
       " Text(2.430555382246535, 94.08461538461539, 'X[10] <= 0.5\\ngini = 0.198\\nsamples = 9\\nvalue = [8, 1]'),\n",
       " Text(2.419585315641191, 89.90307692307692, 'gini = 0.0\\nsamples = 7\\nvalue = [7, 0]'),\n",
       " Text(2.4415254488518787, 89.90307692307692, 'X[1] <= 33500.0\\ngini = 0.5\\nsamples = 2\\nvalue = [1, 1]'),\n",
       " Text(2.430555382246535, 85.72153846153847, 'gini = 0.0\\nsamples = 1\\nvalue = [1, 0]'),\n",
       " Text(2.452495515457223, 85.72153846153847, 'gini = 0.0\\nsamples = 1\\nvalue = [0, 1]'),\n",
       " Text(2.452495515457223, 102.44769230769231, 'X[2] <= 48.05\\ngini = 0.5\\nsamples = 2\\nvalue = [1, 1]'),\n",
       " Text(2.4415254488518787, 98.26615384615384, 'gini = 0.0\\nsamples = 1\\nvalue = [0, 1]'),\n",
       " Text(2.463465582062567, 98.26615384615384, 'gini = 0.0\\nsamples = 1\\nvalue = [1, 0]'),\n",
       " Text(2.485405715273255, 106.62923076923077, 'X[1] <= 33250.0\\ngini = 0.5\\nsamples = 2\\nvalue = [1, 1]'),\n",
       " Text(2.474435648667911, 102.44769230769231, 'gini = 0.0\\nsamples = 1\\nvalue = [0, 1]'),\n",
       " Text(2.496375781878599, 102.44769230769231, 'gini = 0.0\\nsamples = 1\\nvalue = [1, 0]'),\n",
       " Text(2.738959950053804, 119.17384615384616, 'X[6] <= 24.5\\ngini = 0.094\\nsamples = 645\\nvalue = [613, 32]'),\n",
       " Text(2.631016208730126, 114.99230769230769, 'X[41] <= 0.5\\ngini = 0.071\\nsamples = 514\\nvalue = [495, 19]'),\n",
       " Text(2.589878458960086, 110.81076923076922, 'X[57] <= 0.5\\ngini = 0.065\\nsamples = 502\\nvalue = [485, 17]'),\n",
       " Text(2.562453292446726, 106.62923076923077, 'X[5] <= 2.5\\ngini = 0.059\\nsamples = 489\\nvalue = [474, 15]'),\n",
       " Text(2.540513159236038, 102.44769230769231, 'X[12] <= 0.5\\ngini = 0.375\\nsamples = 4\\nvalue = [3, 1]'),\n",
       " Text(2.5295430926306937, 98.26615384615384, 'gini = 0.0\\nsamples = 1\\nvalue = [0, 1]'),\n",
       " Text(2.5514832258413818, 98.26615384615384, 'gini = 0.0\\nsamples = 3\\nvalue = [3, 0]'),\n",
       " Text(2.584393425657414, 102.44769230769231, 'X[0] <= 5962.5\\ngini = 0.056\\nsamples = 485\\nvalue = [471, 14]'),\n",
       " Text(2.57342335905207, 98.26615384615384, 'gini = 0.0\\nsamples = 133\\nvalue = [133, 0]'),\n",
       " Text(2.595363492262758, 98.26615384615384, 'X[75] <= 0.5\\ngini = 0.076\\nsamples = 352\\nvalue = [338, 14]'),\n",
       " Text(2.5592822575686185, 94.08461538461539, 'X[46] <= 0.5\\ngini = 0.072\\nsamples = 350\\nvalue = [337, 13]'),\n",
       " Text(2.520029987996372, 89.90307692307692, 'X[73] <= 0.5\\ngini = 0.067\\nsamples = 347\\nvalue = [335, 12]'),\n",
       " Text(2.474435648667911, 85.72153846153847, 'X[0] <= 8050.0\\ngini = 0.062\\nsamples = 343\\nvalue = [332, 11]'),\n",
       " Text(2.416157169827021, 81.53999999999999, 'X[28] <= 0.5\\ngini = 0.118\\nsamples = 111\\nvalue = [104, 7]'),\n",
       " Text(2.381875711685321, 77.35846153846154, 'X[49] <= 0.5\\ngini = 0.104\\nsamples = 109\\nvalue = [103, 6]'),\n",
       " Text(2.3462229952179525, 73.17692307692309, 'X[5] <= 9.5\\ngini = 0.09\\nsamples = 106\\nvalue = [101, 5]'),\n",
       " Text(2.3078277620992487, 68.99538461538461, 'X[69] <= 0.5\\ngini = 0.048\\nsamples = 82\\nvalue = [80, 2]'),\n",
       " Text(2.2968576954939044, 64.81384615384616, 'gini = 0.0\\nsamples = 73\\nvalue = [73, 0]'),\n",
       " Text(2.3187978287045925, 64.81384615384616, 'X[5] <= 5.5\\ngini = 0.346\\nsamples = 9\\nvalue = [7, 2]'),\n",
       " Text(2.3078277620992487, 60.632307692307705, 'X[2] <= 58.65\\ngini = 0.444\\nsamples = 3\\nvalue = [1, 2]'),\n",
       " Text(2.2968576954939044, 56.450769230769225, 'gini = 0.0\\nsamples = 2\\nvalue = [0, 2]'),\n",
       " Text(2.3187978287045925, 56.450769230769225, 'gini = 0.0\\nsamples = 1\\nvalue = [1, 0]'),\n",
       " Text(2.3297678953099368, 60.632307692307705, 'gini = 0.0\\nsamples = 6\\nvalue = [6, 0]'),\n",
       " Text(2.384618228336657, 68.99538461538461, 'X[1] <= 22000.0\\ngini = 0.219\\nsamples = 24\\nvalue = [21, 3]'),\n",
       " Text(2.3626780951259687, 64.81384615384616, 'X[0] <= 6612.5\\ngini = 0.444\\nsamples = 3\\nvalue = [1, 2]'),\n",
       " Text(2.351708028520625, 60.632307692307705, 'gini = 0.0\\nsamples = 1\\nvalue = [1, 0]'),\n",
       " Text(2.3736481617313125, 60.632307692307705, 'gini = 0.0\\nsamples = 2\\nvalue = [0, 2]'),\n",
       " Text(2.406558361547345, 64.81384615384616, 'X[2] <= 59.85\\ngini = 0.091\\nsamples = 21\\nvalue = [20, 1]'),\n",
       " Text(2.3955882949420007, 60.632307692307705, 'gini = 0.0\\nsamples = 18\\nvalue = [18, 0]'),\n",
       " Text(2.4175284281526888, 60.632307692307705, 'X[6] <= 17.5\\ngini = 0.444\\nsamples = 3\\nvalue = [2, 1]'),\n",
       " Text(2.406558361547345, 56.450769230769225, 'gini = 0.0\\nsamples = 1\\nvalue = [0, 1]'),\n",
       " Text(2.428498494758033, 56.450769230769225, 'gini = 0.0\\nsamples = 2\\nvalue = [2, 0]'),\n",
       " Text(2.4175284281526888, 73.17692307692309, 'X[10] <= 0.5\\ngini = 0.444\\nsamples = 3\\nvalue = [2, 1]'),\n",
       " Text(2.406558361547345, 68.99538461538461, 'gini = 0.0\\nsamples = 1\\nvalue = [0, 1]'),\n",
       " Text(2.428498494758033, 68.99538461538461, 'gini = 0.0\\nsamples = 2\\nvalue = [2, 0]'),\n",
       " Text(2.4504386279687207, 77.35846153846154, 'X[1] <= 25132.0\\ngini = 0.5\\nsamples = 2\\nvalue = [1, 1]'),\n",
       " Text(2.439468561363377, 73.17692307692309, 'gini = 0.0\\nsamples = 1\\nvalue = [1, 0]'),\n",
       " Text(2.461408694574065, 73.17692307692309, 'gini = 0.0\\nsamples = 1\\nvalue = [0, 1]'),\n",
       " Text(2.532714127508801, 81.53999999999999, 'X[1] <= 34325.795\\ngini = 0.034\\nsamples = 232\\nvalue = [228, 4]'),\n",
       " Text(2.505288960995441, 77.35846153846154, 'X[0] <= 12712.5\\ngini = 0.026\\nsamples = 226\\nvalue = [223, 3]'),\n",
       " Text(2.483348827784753, 73.17692307692309, 'X[69] <= 0.5\\ngini = 0.01\\nsamples = 192\\nvalue = [191, 1]'),\n",
       " Text(2.472378761179409, 68.99538461538461, 'gini = 0.0\\nsamples = 178\\nvalue = [178, 0]'),\n",
       " Text(2.494318894390097, 68.99538461538461, 'X[6] <= 19.5\\ngini = 0.133\\nsamples = 14\\nvalue = [13, 1]'),\n",
       " Text(2.483348827784753, 64.81384615384616, 'gini = 0.0\\nsamples = 11\\nvalue = [11, 0]'),\n",
       " Text(2.505288960995441, 64.81384615384616, 'X[14] <= 0.5\\ngini = 0.444\\nsamples = 3\\nvalue = [2, 1]'),\n",
       " Text(2.494318894390097, 60.632307692307705, 'gini = 0.0\\nsamples = 1\\nvalue = [0, 1]'),\n",
       " Text(2.516259027600785, 60.632307692307705, 'gini = 0.0\\nsamples = 2\\nvalue = [2, 0]'),\n",
       " Text(2.527229094206129, 73.17692307692309, 'X[0] <= 12762.5\\ngini = 0.111\\nsamples = 34\\nvalue = [32, 2]'),\n",
       " Text(2.516259027600785, 68.99538461538461, 'gini = 0.0\\nsamples = 1\\nvalue = [0, 1]'),\n",
       " Text(2.538199160811473, 68.99538461538461, 'X[40] <= 0.5\\ngini = 0.059\\nsamples = 33\\nvalue = [32, 1]'),\n",
       " Text(2.527229094206129, 64.81384615384616, 'gini = 0.0\\nsamples = 30\\nvalue = [30, 0]'),\n",
       " Text(2.549169227416817, 64.81384615384616, 'X[2] <= 60.1\\ngini = 0.444\\nsamples = 3\\nvalue = [2, 1]'),\n",
       " Text(2.538199160811473, 60.632307692307705, 'gini = 0.0\\nsamples = 2\\nvalue = [2, 0]'),\n",
       " Text(2.5601392940221612, 60.632307692307705, 'gini = 0.0\\nsamples = 1\\nvalue = [0, 1]'),\n",
       " Text(2.5601392940221612, 77.35846153846154, 'X[35] <= 0.5\\ngini = 0.278\\nsamples = 6\\nvalue = [5, 1]'),\n",
       " Text(2.549169227416817, 73.17692307692309, 'gini = 0.0\\nsamples = 5\\nvalue = [5, 0]'),\n",
       " Text(2.571109360627505, 73.17692307692309, 'gini = 0.0\\nsamples = 1\\nvalue = [0, 1]'),\n",
       " Text(2.565624327324833, 85.72153846153847, 'X[14] <= 0.5\\ngini = 0.375\\nsamples = 4\\nvalue = [3, 1]'),\n",
       " Text(2.5546542607194893, 81.53999999999999, 'gini = 0.0\\nsamples = 3\\nvalue = [3, 0]'),\n",
       " Text(2.576594393930177, 81.53999999999999, 'gini = 0.0\\nsamples = 1\\nvalue = [0, 1]'),\n",
       " Text(2.598534527140865, 89.90307692307692, 'X[12] <= 0.5\\ngini = 0.444\\nsamples = 3\\nvalue = [2, 1]'),\n",
       " Text(2.5875644605355212, 85.72153846153847, 'gini = 0.0\\nsamples = 1\\nvalue = [0, 1]'),\n",
       " Text(2.6095045937462094, 85.72153846153847, 'gini = 0.0\\nsamples = 2\\nvalue = [2, 0]'),\n",
       " Text(2.6314447269568975, 94.08461538461539, 'X[2] <= 55.55\\ngini = 0.5\\nsamples = 2\\nvalue = [1, 1]'),\n",
       " Text(2.620474660351553, 89.90307692307692, 'gini = 0.0\\nsamples = 1\\nvalue = [1, 0]'),\n",
       " Text(2.6424147935622413, 89.90307692307692, 'gini = 0.0\\nsamples = 1\\nvalue = [0, 1]'),\n",
       " Text(2.617303625473446, 106.62923076923077, 'X[1] <= 22500.0\\ngini = 0.26\\nsamples = 13\\nvalue = [11, 2]'),\n",
       " Text(2.606333558868102, 102.44769230769231, 'gini = 0.0\\nsamples = 2\\nvalue = [0, 2]'),\n",
       " Text(2.62827369207879, 102.44769230769231, 'gini = 0.0\\nsamples = 11\\nvalue = [11, 0]'),\n",
       " Text(2.672153958500166, 110.81076923076922, 'X[2] <= 56.85\\ngini = 0.278\\nsamples = 12\\nvalue = [10, 2]'),\n",
       " Text(2.6611838918948223, 106.62923076923077, 'X[12] <= 0.5\\ngini = 0.444\\nsamples = 3\\nvalue = [1, 2]'),\n",
       " Text(2.650213825289478, 102.44769230769231, 'gini = 0.0\\nsamples = 1\\nvalue = [1, 0]'),\n",
       " Text(2.672153958500166, 102.44769230769231, 'gini = 0.0\\nsamples = 2\\nvalue = [0, 2]'),\n",
       " Text(2.68312402510551, 106.62923076923077, 'gini = 0.0\\nsamples = 9\\nvalue = [9, 0]'),\n",
       " Text(2.846903691377482, 114.99230769230769, 'X[48] <= 0.5\\ngini = 0.179\\nsamples = 131\\nvalue = [118, 13]'),\n",
       " Text(2.824963558166794, 110.81076923076922, 'X[1] <= 34369.5\\ngini = 0.157\\nsamples = 128\\nvalue = [117, 11]'),\n",
       " Text(2.81399349156145, 106.62923076923077, 'X[49] <= 0.5\\ngini = 0.145\\nsamples = 127\\nvalue = [117, 10]'),\n",
       " Text(2.7798834407104587, 102.44769230769231, 'X[58] <= 0.5\\ngini = 0.134\\nsamples = 125\\nvalue = [116, 9]'),\n",
       " Text(2.7445735388245076, 98.26615384615384, 'X[28] <= 0.5\\ngini = 0.122\\nsamples = 123\\nvalue = [115, 8]'),\n",
       " Text(2.7068639348686374, 94.08461538461539, 'X[6] <= 38.5\\ngini = 0.109\\nsamples = 121\\nvalue = [114, 7]'),\n",
       " Text(2.6643549267729294, 89.90307692307692, 'X[61] <= 0.5\\ngini = 0.072\\nsamples = 107\\nvalue = [103, 4]'),\n",
       " Text(2.6341872436082334, 85.72153846153847, 'X[5] <= 5.5\\ngini = 0.057\\nsamples = 103\\nvalue = [100, 3]'),\n",
       " Text(2.6067620770948734, 81.53999999999999, 'X[36] <= 0.5\\ngini = 0.375\\nsamples = 4\\nvalue = [3, 1]'),\n",
       " Text(2.595792010489529, 77.35846153846154, 'gini = 0.0\\nsamples = 3\\nvalue = [3, 0]'),\n",
       " Text(2.6177321437002172, 77.35846153846154, 'gini = 0.0\\nsamples = 1\\nvalue = [0, 1]'),\n",
       " Text(2.6616124101215934, 81.53999999999999, 'X[35] <= 0.5\\ngini = 0.04\\nsamples = 99\\nvalue = [97, 2]'),\n",
       " Text(2.6396722769109053, 77.35846153846154, 'X[5] <= 17.5\\ngini = 0.021\\nsamples = 93\\nvalue = [92, 1]'),\n",
       " Text(2.628702210305561, 73.17692307692309, 'gini = 0.0\\nsamples = 84\\nvalue = [84, 0]'),\n",
       " Text(2.650642343516249, 73.17692307692309, 'X[1] <= 32900.0\\ngini = 0.198\\nsamples = 9\\nvalue = [8, 1]'),\n",
       " Text(2.6396722769109053, 68.99538461538461, 'gini = 0.0\\nsamples = 8\\nvalue = [8, 0]'),\n",
       " Text(2.6616124101215934, 68.99538461538461, 'gini = 0.0\\nsamples = 1\\nvalue = [0, 1]'),\n",
       " Text(2.6835525433322815, 77.35846153846154, 'X[12] <= 0.5\\ngini = 0.278\\nsamples = 6\\nvalue = [5, 1]'),\n",
       " Text(2.6725824767269373, 73.17692307692309, 'gini = 0.0\\nsamples = 4\\nvalue = [4, 0]'),\n",
       " Text(2.6945226099376254, 73.17692307692309, 'X[6] <= 29.0\\ngini = 0.5\\nsamples = 2\\nvalue = [1, 1]'),\n",
       " Text(2.6835525433322815, 68.99538461538461, 'gini = 0.0\\nsamples = 1\\nvalue = [0, 1]'),\n",
       " Text(2.705492676542969, 68.99538461538461, 'gini = 0.0\\nsamples = 1\\nvalue = [1, 0]'),\n",
       " Text(2.6945226099376254, 85.72153846153847, 'X[6] <= 25.5\\ngini = 0.375\\nsamples = 4\\nvalue = [3, 1]'),\n",
       " Text(2.6835525433322815, 81.53999999999999, 'gini = 0.0\\nsamples = 1\\nvalue = [0, 1]'),\n",
       " Text(2.705492676542969, 81.53999999999999, 'gini = 0.0\\nsamples = 3\\nvalue = [3, 0]'),\n",
       " Text(2.7493729429643454, 89.90307692307692, 'X[0] <= 14750.0\\ngini = 0.337\\nsamples = 14\\nvalue = [11, 3]'),\n",
       " Text(2.7384028763590016, 85.72153846153847, 'X[1] <= 31500.0\\ngini = 0.26\\nsamples = 13\\nvalue = [11, 2]'),\n",
       " Text(2.7274328097536573, 81.53999999999999, 'X[0] <= 12125.0\\ngini = 0.153\\nsamples = 12\\nvalue = [11, 1]'),\n",
       " Text(2.7164627431483135, 77.35846153846154, 'gini = 0.0\\nsamples = 9\\nvalue = [9, 0]'),\n",
       " Text(2.7384028763590016, 77.35846153846154, 'X[0] <= 12937.5\\ngini = 0.444\\nsamples = 3\\nvalue = [2, 1]'),\n",
       " Text(2.7274328097536573, 73.17692307692309, 'gini = 0.0\\nsamples = 1\\nvalue = [0, 1]'),\n",
       " Text(2.7493729429643454, 73.17692307692309, 'gini = 0.0\\nsamples = 2\\nvalue = [2, 0]'),\n",
       " Text(2.7493729429643454, 81.53999999999999, 'gini = 0.0\\nsamples = 1\\nvalue = [0, 1]'),\n",
       " Text(2.7603430095696897, 85.72153846153847, 'gini = 0.0\\nsamples = 1\\nvalue = [0, 1]'),\n",
       " Text(2.7822831427803774, 94.08461538461539, 'X[3] <= 0.5\\ngini = 0.5\\nsamples = 2\\nvalue = [1, 1]'),\n",
       " Text(2.7713130761750335, 89.90307692307692, 'gini = 0.0\\nsamples = 1\\nvalue = [1, 0]'),\n",
       " Text(2.7932532093857216, 89.90307692307692, 'gini = 0.0\\nsamples = 1\\nvalue = [0, 1]'),\n",
       " Text(2.8151933425964097, 98.26615384615384, 'X[10] <= 0.5\\ngini = 0.5\\nsamples = 2\\nvalue = [1, 1]'),\n",
       " Text(2.8042232759910655, 94.08461538461539, 'gini = 0.0\\nsamples = 1\\nvalue = [1, 0]'),\n",
       " Text(2.8261634092017536, 94.08461538461539, 'gini = 0.0\\nsamples = 1\\nvalue = [0, 1]'),\n",
       " Text(2.8481035424124417, 102.44769230769231, 'X[0] <= 10000.0\\ngini = 0.5\\nsamples = 2\\nvalue = [1, 1]'),\n",
       " Text(2.837133475807098, 98.26615384615384, 'gini = 0.0\\nsamples = 1\\nvalue = [0, 1]'),\n",
       " Text(2.8590736090177855, 98.26615384615384, 'gini = 0.0\\nsamples = 1\\nvalue = [1, 0]'),\n",
       " Text(2.8359336247721383, 106.62923076923077, 'gini = 0.0\\nsamples = 1\\nvalue = [0, 1]'),\n",
       " Text(2.86884382458817, 110.81076923076922, 'X[0] <= 8875.0\\ngini = 0.444\\nsamples = 3\\nvalue = [1, 2]'),\n",
       " Text(2.8578737579828264, 106.62923076923077, 'gini = 0.0\\nsamples = 1\\nvalue = [1, 0]'),\n",
       " Text(2.879813891193514, 106.62923076923077, 'gini = 0.0\\nsamples = 2\\nvalue = [0, 2]'),\n",
       " Text(2.956604357430922, 123.35538461538462, 'X[46] <= 0.5\\ngini = 0.202\\nsamples = 35\\nvalue = [31, 4]'),\n",
       " Text(2.9456342908255784, 119.17384615384616, 'X[52] <= 0.5\\ngini = 0.161\\nsamples = 34\\nvalue = [31, 3]'),\n",
       " Text(2.9346642242202345, 114.99230769230769, 'X[74] <= 0.5\\ngini = 0.114\\nsamples = 33\\nvalue = [31, 2]'),\n",
       " Text(2.9127240910095464, 110.81076923076922, 'X[64] <= 0.5\\ngini = 0.062\\nsamples = 31\\nvalue = [30, 1]'),\n",
       " Text(2.901754024404202, 106.62923076923077, 'gini = 0.0\\nsamples = 29\\nvalue = [29, 0]'),\n",
       " Text(2.9236941576148903, 106.62923076923077, 'X[2] <= 53.4\\ngini = 0.5\\nsamples = 2\\nvalue = [1, 1]'),\n",
       " Text(2.9127240910095464, 102.44769230769231, 'gini = 0.0\\nsamples = 1\\nvalue = [0, 1]'),\n",
       " Text(2.9346642242202345, 102.44769230769231, 'gini = 0.0\\nsamples = 1\\nvalue = [1, 0]'),\n",
       " Text(2.956604357430922, 110.81076923076922, 'X[5] <= 11.5\\ngini = 0.5\\nsamples = 2\\nvalue = [1, 1]'),\n",
       " Text(2.9456342908255784, 106.62923076923077, 'gini = 0.0\\nsamples = 1\\nvalue = [1, 0]'),\n",
       " Text(2.9675744240362665, 106.62923076923077, 'gini = 0.0\\nsamples = 1\\nvalue = [0, 1]'),\n",
       " Text(2.956604357430922, 114.99230769230769, 'gini = 0.0\\nsamples = 1\\nvalue = [0, 1]'),\n",
       " Text(2.9675744240362665, 119.17384615384616, 'gini = 0.0\\nsamples = 1\\nvalue = [0, 1]'),\n",
       " Text(2.9895145572469546, 127.53692307692307, 'X[10] <= 0.5\\ngini = 0.444\\nsamples = 3\\nvalue = [2, 1]'),\n",
       " Text(2.9785444906416103, 123.35538461538462, 'gini = 0.0\\nsamples = 2\\nvalue = [2, 0]'),\n",
       " Text(3.0004846238522984, 123.35538461538462, 'gini = 0.0\\nsamples = 1\\nvalue = [0, 1]'),\n",
       " Text(3.0553349568790185, 135.9, 'X[4] <= 0.5\\ngini = 0.231\\nsamples = 30\\nvalue = [26, 4]'),\n",
       " Text(3.0224247570629865, 131.71846153846155, 'X[30] <= 0.5\\ngini = 0.08\\nsamples = 24\\nvalue = [23, 1]'),\n",
       " Text(3.0114546904576427, 127.53692307692307, 'gini = 0.0\\nsamples = 22\\nvalue = [22, 0]'),\n",
       " Text(3.033394823668331, 127.53692307692307, 'X[12] <= 0.5\\ngini = 0.5\\nsamples = 2\\nvalue = [1, 1]'),\n",
       " Text(3.0224247570629865, 123.35538461538462, 'gini = 0.0\\nsamples = 1\\nvalue = [0, 1]'),\n",
       " Text(3.0443648902736746, 123.35538461538462, 'gini = 0.0\\nsamples = 1\\nvalue = [1, 0]'),\n",
       " Text(3.088245156695051, 131.71846153846155, 'X[5] <= 9.5\\ngini = 0.5\\nsamples = 6\\nvalue = [3, 3]'),\n",
       " Text(3.0772750900897066, 127.53692307692307, 'X[17] <= 0.5\\ngini = 0.375\\nsamples = 4\\nvalue = [3, 1]'),\n",
       " Text(3.0663050234843627, 123.35538461538462, 'gini = 0.0\\nsamples = 3\\nvalue = [3, 0]'),\n",
       " Text(3.088245156695051, 123.35538461538462, 'gini = 0.0\\nsamples = 1\\nvalue = [0, 1]'),\n",
       " Text(3.0992152233003947, 127.53692307692307, 'gini = 0.0\\nsamples = 2\\nvalue = [0, 2]'),\n",
       " Text(3.088245156695051, 140.08153846153846, 'X[5] <= 7.5\\ngini = 0.444\\nsamples = 3\\nvalue = [2, 1]'),\n",
       " Text(3.0772750900897066, 135.9, 'gini = 0.0\\nsamples = 1\\nvalue = [0, 1]'),\n",
       " Text(3.0992152233003947, 135.9, 'gini = 0.0\\nsamples = 2\\nvalue = [2, 0]'),\n",
       " Text(3.148580523024443, 144.26307692307694, 'X[6] <= 5.0\\ngini = 0.2\\nsamples = 80\\nvalue = [71, 9]'),\n",
       " Text(3.137610456419099, 140.08153846153846, 'gini = 0.0\\nsamples = 1\\nvalue = [0, 1]'),\n",
       " Text(3.1595505896297866, 140.08153846153846, 'X[0] <= 1650.0\\ngini = 0.182\\nsamples = 79\\nvalue = [71, 8]'),\n",
       " Text(3.148580523024443, 135.9, 'gini = 0.0\\nsamples = 1\\nvalue = [0, 1]'),\n",
       " Text(3.170520656235131, 135.9, 'X[17] <= 0.5\\ngini = 0.163\\nsamples = 78\\nvalue = [71, 7]'),\n",
       " Text(3.143095489721771, 131.71846153846155, 'X[1] <= 34389.0\\ngini = 0.128\\nsamples = 73\\nvalue = [68, 5]'),\n",
       " Text(3.121155356511083, 127.53692307692307, 'X[6] <= 22.5\\ngini = 0.106\\nsamples = 71\\nvalue = [67, 4]'),\n",
       " Text(3.110185289905739, 123.35538461538462, 'X[6] <= 19.5\\ngini = 0.153\\nsamples = 48\\nvalue = [44, 4]'),\n",
       " Text(3.088245156695051, 119.17384615384616, 'X[2] <= 51.2\\ngini = 0.091\\nsamples = 42\\nvalue = [40, 2]'),\n",
       " Text(3.0772750900897066, 114.99230769230769, 'X[2] <= 49.75\\ngini = 0.298\\nsamples = 11\\nvalue = [9, 2]'),\n",
       " Text(3.0663050234843627, 110.81076923076922, 'gini = 0.0\\nsamples = 8\\nvalue = [8, 0]'),\n",
       " Text(3.088245156695051, 110.81076923076922, 'X[6] <= 17.0\\ngini = 0.444\\nsamples = 3\\nvalue = [1, 2]'),\n",
       " Text(3.0772750900897066, 106.62923076923077, 'gini = 0.0\\nsamples = 2\\nvalue = [0, 2]'),\n",
       " Text(3.0992152233003947, 106.62923076923077, 'gini = 0.0\\nsamples = 1\\nvalue = [1, 0]'),\n",
       " Text(3.0992152233003947, 114.99230769230769, 'gini = 0.0\\nsamples = 31\\nvalue = [31, 0]'),\n",
       " Text(3.1321254231164266, 119.17384615384616, 'X[1] <= 27500.0\\ngini = 0.444\\nsamples = 6\\nvalue = [4, 2]'),\n",
       " Text(3.121155356511083, 114.99230769230769, 'gini = 0.0\\nsamples = 3\\nvalue = [3, 0]'),\n",
       " Text(3.143095489721771, 114.99230769230769, 'X[5] <= 9.5\\ngini = 0.444\\nsamples = 3\\nvalue = [1, 2]'),\n",
       " Text(3.1321254231164266, 110.81076923076922, 'gini = 0.0\\nsamples = 1\\nvalue = [1, 0]'),\n",
       " Text(3.1540655563271147, 110.81076923076922, 'gini = 0.0\\nsamples = 2\\nvalue = [0, 2]'),\n",
       " Text(3.1321254231164266, 123.35538461538462, 'gini = 0.0\\nsamples = 23\\nvalue = [23, 0]'),\n",
       " Text(3.165035622932459, 127.53692307692307, 'X[0] <= 9625.0\\ngini = 0.5\\nsamples = 2\\nvalue = [1, 1]'),\n",
       " Text(3.1540655563271147, 123.35538461538462, 'gini = 0.0\\nsamples = 1\\nvalue = [0, 1]'),\n",
       " Text(3.176005689537803, 123.35538461538462, 'gini = 0.0\\nsamples = 1\\nvalue = [1, 0]'),\n",
       " Text(3.197945822748491, 131.71846153846155, 'X[0] <= 7662.5\\ngini = 0.48\\nsamples = 5\\nvalue = [3, 2]'),\n",
       " Text(3.186975756143147, 127.53692307692307, 'gini = 0.0\\nsamples = 3\\nvalue = [3, 0]'),\n",
       " Text(3.2089158893538348, 127.53692307692307, 'gini = 0.0\\nsamples = 2\\nvalue = [0, 2]'),\n",
       " Text(3.203430856051163, 148.4446153846154, 'X[0] <= 5687.5\\ngini = 0.48\\nsamples = 5\\nvalue = [3, 2]'),\n",
       " Text(3.192460789445819, 144.26307692307694, 'X[10] <= 0.5\\ngini = 0.444\\nsamples = 3\\nvalue = [1, 2]'),\n",
       " Text(3.1814907228404747, 140.08153846153846, 'gini = 0.0\\nsamples = 2\\nvalue = [0, 2]'),\n",
       " Text(3.203430856051163, 140.08153846153846, 'gini = 0.0\\nsamples = 1\\nvalue = [1, 0]'),\n",
       " Text(3.214400922656507, 144.26307692307694, 'gini = 0.0\\nsamples = 2\\nvalue = [2, 0]'),\n",
       " Text(3.3652393384799875, 152.62615384615384, 'X[1] <= 27498.0\\ngini = 0.253\\nsamples = 101\\nvalue = [86, 15]'),\n",
       " Text(3.307646488801931, 148.4446153846154, 'X[1] <= 23773.0\\ngini = 0.42\\nsamples = 40\\nvalue = [28, 12]'),\n",
       " Text(3.274736288985899, 144.26307692307694, 'X[5] <= 17.0\\ngini = 0.302\\nsamples = 27\\nvalue = [22, 5]'),\n",
       " Text(3.2637662223805552, 140.08153846153846, 'X[29] <= 0.5\\ngini = 0.26\\nsamples = 26\\nvalue = [22, 4]'),\n",
       " Text(3.252796155775211, 135.9, 'X[36] <= 0.5\\ngini = 0.211\\nsamples = 25\\nvalue = [22, 3]'),\n",
       " Text(3.241826089169867, 131.71846153846155, 'X[12] <= 0.5\\ngini = 0.153\\nsamples = 24\\nvalue = [22, 2]'),\n",
       " Text(3.230856022564523, 127.53692307692307, 'gini = 0.0\\nsamples = 17\\nvalue = [17, 0]'),\n",
       " Text(3.252796155775211, 127.53692307692307, 'X[0] <= 3500.0\\ngini = 0.408\\nsamples = 7\\nvalue = [5, 2]'),\n",
       " Text(3.241826089169867, 123.35538461538462, 'X[0] <= 1750.0\\ngini = 0.444\\nsamples = 3\\nvalue = [1, 2]'),\n",
       " Text(3.230856022564523, 119.17384615384616, 'gini = 0.0\\nsamples = 1\\nvalue = [1, 0]'),\n",
       " Text(3.252796155775211, 119.17384615384616, 'gini = 0.0\\nsamples = 2\\nvalue = [0, 2]'),\n",
       " Text(3.2637662223805552, 123.35538461538462, 'gini = 0.0\\nsamples = 4\\nvalue = [4, 0]'),\n",
       " Text(3.2637662223805552, 131.71846153846155, 'gini = 0.0\\nsamples = 1\\nvalue = [0, 1]'),\n",
       " Text(3.274736288985899, 135.9, 'gini = 0.0\\nsamples = 1\\nvalue = [0, 1]'),\n",
       " Text(3.285706355591243, 140.08153846153846, 'gini = 0.0\\nsamples = 1\\nvalue = [0, 1]'),\n",
       " Text(3.3405566886179634, 144.26307692307694, 'X[6] <= 16.0\\ngini = 0.497\\nsamples = 13\\nvalue = [6, 7]'),\n",
       " Text(3.329586622012619, 140.08153846153846, 'X[5] <= 7.5\\ngini = 0.42\\nsamples = 10\\nvalue = [3, 7]'),\n",
       " Text(3.3186165554072753, 135.9, 'X[12] <= 0.5\\ngini = 0.5\\nsamples = 6\\nvalue = [3, 3]'),\n",
       " Text(3.307646488801931, 131.71846153846155, 'X[0] <= 6662.5\\ngini = 0.375\\nsamples = 4\\nvalue = [1, 3]'),\n",
       " Text(3.296676422196587, 127.53692307692307, 'X[35] <= 0.5\\ngini = 0.5\\nsamples = 2\\nvalue = [1, 1]'),\n",
       " Text(3.285706355591243, 123.35538461538462, 'gini = 0.0\\nsamples = 1\\nvalue = [0, 1]'),\n",
       " Text(3.307646488801931, 123.35538461538462, 'gini = 0.0\\nsamples = 1\\nvalue = [1, 0]'),\n",
       " Text(3.3186165554072753, 127.53692307692307, 'gini = 0.0\\nsamples = 2\\nvalue = [0, 2]'),\n",
       " Text(3.329586622012619, 131.71846153846155, 'gini = 0.0\\nsamples = 2\\nvalue = [2, 0]'),\n",
       " Text(3.3405566886179634, 135.9, 'gini = 0.0\\nsamples = 4\\nvalue = [0, 4]'),\n",
       " Text(3.3515267552233072, 140.08153846153846, 'gini = 0.0\\nsamples = 3\\nvalue = [3, 0]'),\n",
       " Text(3.4228321881580435, 148.4446153846154, 'X[49] <= 0.5\\ngini = 0.094\\nsamples = 61\\nvalue = [58, 3]'),\n",
       " Text(3.3954070216446834, 144.26307692307694, 'X[41] <= 0.5\\ngini = 0.065\\nsamples = 59\\nvalue = [57, 2]'),\n",
       " Text(3.3734668884339953, 140.08153846153846, 'X[66] <= 0.5\\ngini = 0.035\\nsamples = 56\\nvalue = [55, 1]'),\n",
       " Text(3.362496821828651, 135.9, 'gini = 0.0\\nsamples = 52\\nvalue = [52, 0]'),\n",
       " Text(3.384436955039339, 135.9, 'X[1] <= 33498.0\\ngini = 0.375\\nsamples = 4\\nvalue = [3, 1]'),\n",
       " Text(3.3734668884339953, 131.71846153846155, 'gini = 0.0\\nsamples = 3\\nvalue = [3, 0]'),\n",
       " Text(3.3954070216446834, 131.71846153846155, 'gini = 0.0\\nsamples = 1\\nvalue = [0, 1]'),\n",
       " Text(3.4173471548553715, 140.08153846153846, 'X[0] <= 5500.0\\ngini = 0.444\\nsamples = 3\\nvalue = [2, 1]'),\n",
       " Text(3.4063770882500273, 135.9, 'gini = 0.0\\nsamples = 1\\nvalue = [0, 1]'),\n",
       " Text(3.4283172214607154, 135.9, 'gini = 0.0\\nsamples = 2\\nvalue = [2, 0]'),\n",
       " Text(3.4502573546714035, 144.26307692307694, 'X[0] <= 5762.5\\ngini = 0.5\\nsamples = 2\\nvalue = [1, 1]'),\n",
       " Text(3.439287288066059, 140.08153846153846, 'gini = 0.0\\nsamples = 1\\nvalue = [0, 1]'),\n",
       " Text(3.4612274212767473, 140.08153846153846, 'gini = 0.0\\nsamples = 1\\nvalue = [1, 0]'),\n",
       " Text(3.4721974878820916, 160.98923076923077, 'X[0] <= 2687.5\\ngini = 0.337\\nsamples = 14\\nvalue = [11, 3]'),\n",
       " Text(3.4612274212767473, 156.80769230769232, 'gini = 0.0\\nsamples = 1\\nvalue = [0, 1]'),\n",
       " Text(3.4831675544874354, 156.80769230769232, 'X[6] <= 34.5\\ngini = 0.26\\nsamples = 13\\nvalue = [11, 2]'),\n",
       " Text(3.4721974878820916, 152.62615384615384, 'X[5] <= 11.5\\ngini = 0.153\\nsamples = 12\\nvalue = [11, 1]'),\n",
       " Text(3.4612274212767473, 148.4446153846154, 'gini = 0.0\\nsamples = 9\\nvalue = [9, 0]'),\n",
       " Text(3.4831675544874354, 148.4446153846154, 'X[12] <= 0.5\\ngini = 0.444\\nsamples = 3\\nvalue = [2, 1]'),\n",
       " Text(3.4721974878820916, 144.26307692307694, 'gini = 0.0\\nsamples = 2\\nvalue = [2, 0]'),\n",
       " Text(3.4941376210927797, 144.26307692307694, 'gini = 0.0\\nsamples = 1\\nvalue = [0, 1]'),\n",
       " Text(3.4941376210927797, 152.62615384615384, 'gini = 0.0\\nsamples = 1\\nvalue = [0, 1]'),\n",
       " Text(6.962697776624306, 165.17076923076922, 'X[2] <= 55.15\\ngini = 0.06\\nsamples = 9544\\nvalue = [9251, 293]'),\n",
       " Text(6.519688068425285, 160.98923076923077, 'X[16] <= 0.5\\ngini = 0.055\\nsamples = 8054\\nvalue = [7826, 228]'),\n",
       " Text(6.3538490218789, 156.80769230769232, 'X[1] <= 45499.0\\ngini = 0.055\\nsamples = 8051\\nvalue = [7824, 227]'),\n",
       " Text(6.055081128602161, 152.62615384615384, 'X[65] <= 0.5\\ngini = 0.054\\nsamples = 7986\\nvalue = [7765, 221]'),\n",
       " Text(5.601527466243824, 148.4446153846154, 'X[71] <= 0.5\\ngini = 0.053\\nsamples = 7949\\nvalue = [7732, 217]'),\n",
       " Text(4.850743590653303, 144.26307692307694, 'X[2] <= 3.55\\ngini = 0.052\\nsamples = 7738\\nvalue = [7533, 205]'),\n",
       " Text(3.746550256534821, 140.08153846153846, 'X[53] <= 0.5\\ngini = 0.109\\nsamples = 173\\nvalue = [163, 10]'),\n",
       " Text(3.7054125067647807, 135.9, 'X[60] <= 0.5\\ngini = 0.082\\nsamples = 163\\nvalue = [156, 7]'),\n",
       " Text(3.6560472070407326, 131.71846153846155, 'X[1] <= 36588.0\\ngini = 0.064\\nsamples = 152\\nvalue = [147, 5]'),\n",
       " Text(3.6341070738300445, 127.53692307692307, 'X[1] <= 36538.0\\ngini = 0.202\\nsamples = 35\\nvalue = [31, 4]'),\n",
       " Text(3.6231370072247007, 123.35538461538462, 'X[36] <= 0.5\\ngini = 0.161\\nsamples = 34\\nvalue = [31, 3]'),\n",
       " Text(3.5957118407113406, 119.17384615384616, 'X[30] <= 0.5\\ngini = 0.117\\nsamples = 32\\nvalue = [30, 2]'),\n",
       " Text(3.5737717075006525, 114.99230769230769, 'X[35] <= 0.5\\ngini = 0.069\\nsamples = 28\\nvalue = [27, 1]'),\n",
       " Text(3.5628016408953083, 110.81076923076922, 'gini = 0.0\\nsamples = 22\\nvalue = [22, 0]'),\n",
       " Text(3.5847417741059964, 110.81076923076922, 'X[6] <= 24.0\\ngini = 0.278\\nsamples = 6\\nvalue = [5, 1]'),\n",
       " Text(3.5737717075006525, 106.62923076923077, 'gini = 0.0\\nsamples = 5\\nvalue = [5, 0]'),\n",
       " Text(3.5957118407113406, 106.62923076923077, 'gini = 0.0\\nsamples = 1\\nvalue = [0, 1]'),\n",
       " Text(3.6176519739220288, 114.99230769230769, 'X[6] <= 17.5\\ngini = 0.375\\nsamples = 4\\nvalue = [3, 1]'),\n",
       " Text(3.6066819073166845, 110.81076923076922, 'gini = 0.0\\nsamples = 3\\nvalue = [3, 0]'),\n",
       " Text(3.6286220405273726, 110.81076923076922, 'gini = 0.0\\nsamples = 1\\nvalue = [0, 1]'),\n",
       " Text(3.6505621737380607, 119.17384615384616, 'X[6] <= 15.5\\ngini = 0.5\\nsamples = 2\\nvalue = [1, 1]'),\n",
       " Text(3.6395921071327164, 114.99230769230769, 'gini = 0.0\\nsamples = 1\\nvalue = [0, 1]'),\n",
       " Text(3.6615322403434045, 114.99230769230769, 'gini = 0.0\\nsamples = 1\\nvalue = [1, 0]'),\n",
       " Text(3.6450771404353888, 123.35538461538462, 'gini = 0.0\\nsamples = 1\\nvalue = [0, 1]'),\n",
       " Text(3.6779873402514207, 127.53692307692307, 'X[0] <= 17400.0\\ngini = 0.017\\nsamples = 117\\nvalue = [116, 1]'),\n",
       " Text(3.667017273646077, 123.35538461538462, 'gini = 0.0\\nsamples = 108\\nvalue = [108, 0]'),\n",
       " Text(3.6889574068567645, 123.35538461538462, 'X[10] <= 0.5\\ngini = 0.198\\nsamples = 9\\nvalue = [8, 1]'),\n",
       " Text(3.6779873402514207, 119.17384615384616, 'gini = 0.0\\nsamples = 8\\nvalue = [8, 0]'),\n",
       " Text(3.699927473462109, 119.17384615384616, 'gini = 0.0\\nsamples = 1\\nvalue = [0, 1]'),\n",
       " Text(3.754777806488829, 131.71846153846155, 'X[7] <= 0.5\\ngini = 0.298\\nsamples = 11\\nvalue = [9, 2]'),\n",
       " Text(3.743807739883485, 127.53692307692307, 'X[5] <= 4.5\\ngini = 0.18\\nsamples = 10\\nvalue = [9, 1]'),\n",
       " Text(3.7328376732781408, 123.35538461538462, 'X[10] <= 0.5\\ngini = 0.5\\nsamples = 2\\nvalue = [1, 1]'),\n",
       " Text(3.721867606672797, 119.17384615384616, 'gini = 0.0\\nsamples = 1\\nvalue = [1, 0]'),\n",
       " Text(3.743807739883485, 119.17384615384616, 'gini = 0.0\\nsamples = 1\\nvalue = [0, 1]'),\n",
       " Text(3.754777806488829, 123.35538461538462, 'gini = 0.0\\nsamples = 8\\nvalue = [8, 0]'),\n",
       " Text(3.7657478730941727, 127.53692307692307, 'gini = 0.0\\nsamples = 1\\nvalue = [0, 1]'),\n",
       " Text(3.787688006304861, 135.9, 'X[0] <= 7175.0\\ngini = 0.42\\nsamples = 10\\nvalue = [7, 3]'),\n",
       " Text(3.776717939699517, 131.71846153846155, 'gini = 0.0\\nsamples = 6\\nvalue = [6, 0]'),\n",
       " Text(3.798658072910205, 131.71846153846155, 'X[1] <= 39800.0\\ngini = 0.375\\nsamples = 4\\nvalue = [1, 3]'),\n",
       " Text(3.787688006304861, 127.53692307692307, 'gini = 0.0\\nsamples = 1\\nvalue = [1, 0]'),\n",
       " Text(3.809628139515549, 127.53692307692307, 'gini = 0.0\\nsamples = 3\\nvalue = [0, 3]'),\n",
       " Text(5.9549369247717845, 140.08153846153846, 'X[7] <= 0.5\\ngini = 0.05\\nsamples = 7565\\nvalue = [7370, 195]'),\n",
       " Text(5.666111531028217, 135.9, 'X[49] <= 0.5\\ngini = 0.054\\nsamples = 6228\\nvalue = [6055, 173]'),\n",
       " Text(5.531157567140625, 131.71846153846155, 'X[23] <= 0.5\\ngini = 0.052\\nsamples = 6091\\nvalue = [5927, 164]'),\n",
       " Text(5.406603021886249, 127.53692307692307, 'X[28] <= 0.5\\ngini = 0.052\\nsamples = 6087\\nvalue = [5924, 163]'),\n",
       " Text(5.19040413119353, 123.35538461538462, 'X[40] <= 0.5\\ngini = 0.051\\nsamples = 6003\\nvalue = [5846, 157]'),\n",
       " Text(4.812856682834811, 119.17384615384616, 'X[35] <= 0.5\\ngini = 0.049\\nsamples = 5796\\nvalue = [5650, 146]'),\n",
       " Text(4.405847141723661, 114.99230769230769, 'X[6] <= 76.5\\ngini = 0.046\\nsamples = 5203\\nvalue = [5081, 122]'),\n",
       " Text(4.132145352517773, 110.81076923076922, 'X[2] <= 46.05\\ngini = 0.045\\nsamples = 5199\\nvalue = [5078, 121]'),\n",
       " Text(3.6176519739220288, 106.62923076923077, 'X[6] <= 14.5\\ngini = 0.039\\nsamples = 3793\\nvalue = [3718, 75]'),\n",
       " Text(3.1213267638017914, 102.44769230769231, 'X[68] <= 0.5\\ngini = 0.063\\nsamples = 701\\nvalue = [678, 23]'),\n",
       " Text(2.988657520793412, 98.26615384615384, 'X[5] <= 3.5\\ngini = 0.055\\nsamples = 677\\nvalue = [658, 19]'),\n",
       " Text(2.8481035424124417, 94.08461538461539, 'X[6] <= 13.5\\ngini = 0.204\\nsamples = 26\\nvalue = [23, 3]'),\n",
       " Text(2.837133475807098, 89.90307692307692, 'X[20] <= 0.5\\ngini = 0.147\\nsamples = 25\\nvalue = [23, 2]'),\n",
       " Text(2.8261634092017536, 85.72153846153847, 'X[19] <= 0.5\\ngini = 0.08\\nsamples = 24\\nvalue = [23, 1]'),\n",
       " Text(2.8151933425964097, 81.53999999999999, 'gini = 0.0\\nsamples = 21\\nvalue = [21, 0]'),\n",
       " Text(2.837133475807098, 81.53999999999999, 'X[1] <= 37502.0\\ngini = 0.444\\nsamples = 3\\nvalue = [2, 1]'),\n",
       " Text(2.8261634092017536, 77.35846153846154, 'gini = 0.0\\nsamples = 2\\nvalue = [2, 0]'),\n",
       " Text(2.8481035424124417, 77.35846153846154, 'gini = 0.0\\nsamples = 1\\nvalue = [0, 1]'),\n",
       " Text(2.8481035424124417, 85.72153846153847, 'gini = 0.0\\nsamples = 1\\nvalue = [0, 1]'),\n",
       " Text(2.8590736090177855, 89.90307692307692, 'gini = 0.0\\nsamples = 1\\nvalue = [0, 1]'),\n",
       " Text(3.1292114991743825, 94.08461538461539, 'X[2] <= 45.65\\ngini = 0.048\\nsamples = 651\\nvalue = [635, 16]'),\n",
       " Text(3.059277324565314, 89.90307692307692, 'X[53] <= 0.5\\ngini = 0.043\\nsamples = 636\\nvalue = [622, 14]'),\n",
       " Text(2.974259308373898, 85.72153846153847, 'X[5] <= 8.5\\ngini = 0.034\\nsamples = 585\\nvalue = [575, 10]'),\n",
       " Text(2.913923942044506, 81.53999999999999, 'X[61] <= 0.5\\ngini = 0.014\\nsamples = 435\\nvalue = [432, 3]'),\n",
       " Text(2.87004367562313, 77.35846153846154, 'X[2] <= 42.65\\ngini = 0.01\\nsamples = 417\\nvalue = [415, 2]'),\n",
       " Text(2.837133475807098, 73.17692307692309, 'X[69] <= 0.5\\ngini = 0.005\\nsamples = 374\\nvalue = [373, 1]'),\n",
       " Text(2.8261634092017536, 68.99538461538461, 'gini = 0.0\\nsamples = 337\\nvalue = [337, 0]'),\n",
       " Text(2.8481035424124417, 68.99538461538461, 'X[14] <= 0.5\\ngini = 0.053\\nsamples = 37\\nvalue = [36, 1]'),\n",
       " Text(2.837133475807098, 64.81384615384616, 'gini = 0.0\\nsamples = 34\\nvalue = [34, 0]'),\n",
       " Text(2.8590736090177855, 64.81384615384616, 'X[5] <= 6.0\\ngini = 0.444\\nsamples = 3\\nvalue = [2, 1]'),\n",
       " Text(2.8481035424124417, 60.632307692307705, 'gini = 0.0\\nsamples = 2\\nvalue = [2, 0]'),\n",
       " Text(2.87004367562313, 60.632307692307705, 'gini = 0.0\\nsamples = 1\\nvalue = [0, 1]'),\n",
       " Text(2.9029538754391617, 73.17692307692309, 'X[2] <= 42.75\\ngini = 0.045\\nsamples = 43\\nvalue = [42, 1]'),\n",
       " Text(2.891983808833818, 68.99538461538461, 'X[4] <= 0.5\\ngini = 0.444\\nsamples = 3\\nvalue = [2, 1]'),\n",
       " Text(2.8810137422284736, 64.81384615384616, 'gini = 0.0\\nsamples = 2\\nvalue = [2, 0]'),\n",
       " Text(2.9029538754391617, 64.81384615384616, 'gini = 0.0\\nsamples = 1\\nvalue = [0, 1]'),\n",
       " Text(2.913923942044506, 68.99538461538461, 'gini = 0.0\\nsamples = 40\\nvalue = [40, 0]'),\n",
       " Text(2.9578042084658818, 77.35846153846154, 'X[0] <= 6500.0\\ngini = 0.105\\nsamples = 18\\nvalue = [17, 1]'),\n",
       " Text(2.946834141860538, 73.17692307692309, 'X[10] <= 0.5\\ngini = 0.375\\nsamples = 4\\nvalue = [3, 1]'),\n",
       " Text(2.9358640752551937, 68.99538461538461, 'gini = 0.0\\nsamples = 3\\nvalue = [3, 0]'),\n",
       " Text(2.9578042084658818, 68.99538461538461, 'gini = 0.0\\nsamples = 1\\nvalue = [0, 1]'),\n",
       " Text(2.968774275071226, 73.17692307692309, 'gini = 0.0\\nsamples = 14\\nvalue = [14, 0]'),\n",
       " Text(3.03459467470329, 81.53999999999999, 'X[0] <= 1600.0\\ngini = 0.089\\nsamples = 150\\nvalue = [143, 7]'),\n",
       " Text(3.023624608097946, 77.35846153846154, 'gini = 0.0\\nsamples = 1\\nvalue = [0, 1]'),\n",
       " Text(3.045564741308634, 77.35846153846154, 'X[0] <= 17300.0\\ngini = 0.077\\nsamples = 149\\nvalue = [143, 6]'),\n",
       " Text(3.0126545414926023, 73.17692307692309, 'X[45] <= 0.5\\ngini = 0.056\\nsamples = 139\\nvalue = [135, 4]'),\n",
       " Text(2.97974434167657, 68.99538461538461, 'X[57] <= 0.5\\ngini = 0.043\\nsamples = 135\\nvalue = [132, 3]'),\n",
       " Text(2.946834141860538, 64.81384615384616, 'X[2] <= 42.95\\ngini = 0.03\\nsamples = 130\\nvalue = [128, 2]'),\n",
       " Text(2.913923942044506, 60.632307692307705, 'X[3] <= 0.5\\ngini = 0.017\\nsamples = 117\\nvalue = [116, 1]'),\n",
       " Text(2.9029538754391617, 56.450769230769225, 'gini = 0.0\\nsamples = 103\\nvalue = [103, 0]'),\n",
       " Text(2.92489400864985, 56.450769230769225, 'X[69] <= 0.5\\ngini = 0.133\\nsamples = 14\\nvalue = [13, 1]'),\n",
       " Text(2.913923942044506, 52.269230769230774, 'gini = 0.0\\nsamples = 12\\nvalue = [12, 0]'),\n",
       " Text(2.9358640752551937, 52.269230769230774, 'X[2] <= 32.1\\ngini = 0.5\\nsamples = 2\\nvalue = [1, 1]'),\n",
       " Text(2.92489400864985, 48.08769230769232, 'gini = 0.0\\nsamples = 1\\nvalue = [0, 1]'),\n",
       " Text(2.946834141860538, 48.08769230769232, 'gini = 0.0\\nsamples = 1\\nvalue = [1, 0]'),\n",
       " Text(2.97974434167657, 60.632307692307705, 'X[2] <= 43.35\\ngini = 0.142\\nsamples = 13\\nvalue = [12, 1]'),\n",
       " Text(2.968774275071226, 56.450769230769225, 'X[6] <= 12.5\\ngini = 0.5\\nsamples = 2\\nvalue = [1, 1]'),\n",
       " Text(2.9578042084658818, 52.269230769230774, 'gini = 0.0\\nsamples = 1\\nvalue = [1, 0]'),\n",
       " Text(2.97974434167657, 52.269230769230774, 'gini = 0.0\\nsamples = 1\\nvalue = [0, 1]'),\n",
       " Text(2.990714408281914, 56.450769230769225, 'gini = 0.0\\nsamples = 11\\nvalue = [11, 0]'),\n",
       " Text(3.0126545414926023, 64.81384615384616, 'X[0] <= 11375.0\\ngini = 0.32\\nsamples = 5\\nvalue = [4, 1]'),\n",
       " Text(3.001684474887258, 60.632307692307705, 'gini = 0.0\\nsamples = 4\\nvalue = [4, 0]'),\n",
       " Text(3.023624608097946, 60.632307692307705, 'gini = 0.0\\nsamples = 1\\nvalue = [0, 1]'),\n",
       " Text(3.045564741308634, 68.99538461538461, 'X[6] <= 13.5\\ngini = 0.375\\nsamples = 4\\nvalue = [3, 1]'),\n",
       " Text(3.03459467470329, 64.81384615384616, 'gini = 0.0\\nsamples = 3\\nvalue = [3, 0]'),\n",
       " Text(3.056534807913978, 64.81384615384616, 'gini = 0.0\\nsamples = 1\\nvalue = [0, 1]'),\n",
       " Text(3.078474941124666, 73.17692307692309, 'X[0] <= 17700.0\\ngini = 0.32\\nsamples = 10\\nvalue = [8, 2]'),\n",
       " Text(3.0675048745193223, 68.99538461538461, 'gini = 0.0\\nsamples = 2\\nvalue = [0, 2]'),\n",
       " Text(3.0894450077300104, 68.99538461538461, 'gini = 0.0\\nsamples = 8\\nvalue = [8, 0]'),\n",
       " Text(3.1442953407567305, 85.72153846153847, 'X[0] <= 19225.0\\ngini = 0.145\\nsamples = 51\\nvalue = [47, 4]'),\n",
       " Text(3.133325274151386, 81.53999999999999, 'X[5] <= 6.5\\ngini = 0.113\\nsamples = 50\\nvalue = [47, 3]'),\n",
       " Text(3.1223552075460423, 77.35846153846154, 'X[0] <= 3300.0\\ngini = 0.266\\nsamples = 19\\nvalue = [16, 3]'),\n",
       " Text(3.111385140940698, 73.17692307692309, 'gini = 0.0\\nsamples = 1\\nvalue = [0, 1]'),\n",
       " Text(3.133325274151386, 73.17692307692309, 'X[14] <= 0.5\\ngini = 0.198\\nsamples = 18\\nvalue = [16, 2]'),\n",
       " Text(3.111385140940698, 68.99538461538461, 'X[1] <= 36900.0\\ngini = 0.117\\nsamples = 16\\nvalue = [15, 1]'),\n",
       " Text(3.1004150743353542, 64.81384615384616, 'X[3] <= 0.5\\ngini = 0.375\\nsamples = 4\\nvalue = [3, 1]'),\n",
       " Text(3.0894450077300104, 60.632307692307705, 'gini = 0.0\\nsamples = 3\\nvalue = [3, 0]'),\n",
       " Text(3.111385140940698, 60.632307692307705, 'gini = 0.0\\nsamples = 1\\nvalue = [0, 1]'),\n",
       " Text(3.1223552075460423, 64.81384615384616, 'gini = 0.0\\nsamples = 12\\nvalue = [12, 0]'),\n",
       " Text(3.1552654073620743, 68.99538461538461, 'X[5] <= 5.0\\ngini = 0.5\\nsamples = 2\\nvalue = [1, 1]'),\n",
       " Text(3.1442953407567305, 64.81384615384616, 'gini = 0.0\\nsamples = 1\\nvalue = [1, 0]'),\n",
       " Text(3.1662354739674186, 64.81384615384616, 'gini = 0.0\\nsamples = 1\\nvalue = [0, 1]'),\n",
       " Text(3.1442953407567305, 77.35846153846154, 'gini = 0.0\\nsamples = 31\\nvalue = [31, 0]'),\n",
       " Text(3.1552654073620743, 81.53999999999999, 'gini = 0.0\\nsamples = 1\\nvalue = [0, 1]'),\n",
       " Text(3.1991456737834505, 89.90307692307692, 'X[36] <= 0.5\\ngini = 0.231\\nsamples = 15\\nvalue = [13, 2]'),\n",
       " Text(3.188175607178106, 85.72153846153847, 'X[32] <= 0.5\\ngini = 0.133\\nsamples = 14\\nvalue = [13, 1]'),\n",
       " Text(3.1772055405727624, 81.53999999999999, 'gini = 0.0\\nsamples = 13\\nvalue = [13, 0]'),\n",
       " Text(3.1991456737834505, 81.53999999999999, 'gini = 0.0\\nsamples = 1\\nvalue = [0, 1]'),\n",
       " Text(3.2101157403887943, 85.72153846153847, 'gini = 0.0\\nsamples = 1\\nvalue = [0, 1]'),\n",
       " Text(3.2539960068101705, 98.26615384615384, 'X[0] <= 5750.0\\ngini = 0.278\\nsamples = 24\\nvalue = [20, 4]'),\n",
       " Text(3.2320558735994824, 94.08461538461539, 'X[2] <= 18.0\\ngini = 0.375\\nsamples = 4\\nvalue = [1, 3]'),\n",
       " Text(3.2210858069941386, 89.90307692307692, 'gini = 0.0\\nsamples = 1\\nvalue = [1, 0]'),\n",
       " Text(3.2430259402048267, 89.90307692307692, 'gini = 0.0\\nsamples = 3\\nvalue = [0, 3]'),\n",
       " Text(3.2759361400208586, 94.08461538461539, 'X[0] <= 15900.0\\ngini = 0.095\\nsamples = 20\\nvalue = [19, 1]'),\n",
       " Text(3.2649660734155144, 89.90307692307692, 'gini = 0.0\\nsamples = 17\\nvalue = [17, 0]'),\n",
       " Text(3.2869062066262025, 89.90307692307692, 'X[0] <= 17400.0\\ngini = 0.444\\nsamples = 3\\nvalue = [2, 1]'),\n",
       " Text(3.2759361400208586, 85.72153846153847, 'gini = 0.0\\nsamples = 1\\nvalue = [0, 1]'),\n",
       " Text(3.2978762732315468, 85.72153846153847, 'gini = 0.0\\nsamples = 2\\nvalue = [2, 0]'),\n",
       " Text(4.113977184042266, 102.44769230769231, 'X[67] <= 0.5\\ngini = 0.033\\nsamples = 3092\\nvalue = [3040, 52]'),\n",
       " Text(3.9249457421383394, 98.26615384615384, 'X[4] <= 0.5\\ngini = 0.032\\nsamples = 3075\\nvalue = [3025, 50]'),\n",
       " Text(3.733373990621334, 94.08461538461539, 'X[41] <= 0.5\\ngini = 0.025\\nsamples = 2353\\nvalue = [2323, 30]'),\n",
       " Text(3.5367216198781724, 89.90307692307692, 'X[2] <= 30.05\\ngini = 0.023\\nsamples = 2284\\nvalue = [2257, 27]'),\n",
       " Text(3.319816406442235, 85.72153846153847, 'X[69] <= 0.5\\ngini = 0.011\\nsamples = 1059\\nvalue = [1053, 6]'),\n",
       " Text(3.2457684568561627, 81.53999999999999, 'X[59] <= 0.5\\ngini = 0.006\\nsamples = 936\\nvalue = [933, 3]'),\n",
       " Text(3.2183432903428026, 77.35846153846154, 'X[31] <= 0.5\\ngini = 0.004\\nsamples = 914\\nvalue = [912, 2]'),\n",
       " Text(3.1964031571321145, 73.17692307692309, 'X[61] <= 0.5\\ngini = 0.002\\nsamples = 892\\nvalue = [891, 1]'),\n",
       " Text(3.1854330905267703, 68.99538461538461, 'gini = 0.0\\nsamples = 830\\nvalue = [830, 0]'),\n",
       " Text(3.2073732237374584, 68.99538461538461, 'X[1] <= 44502.0\\ngini = 0.032\\nsamples = 62\\nvalue = [61, 1]'),\n",
       " Text(3.1964031571321145, 64.81384615384616, 'gini = 0.0\\nsamples = 49\\nvalue = [49, 0]'),\n",
       " Text(3.2183432903428026, 64.81384615384616, 'X[6] <= 26.5\\ngini = 0.142\\nsamples = 13\\nvalue = [12, 1]'),\n",
       " Text(3.2073732237374584, 60.632307692307705, 'X[5] <= 13.5\\ngini = 0.375\\nsamples = 4\\nvalue = [3, 1]'),\n",
       " Text(3.1964031571321145, 56.450769230769225, 'gini = 0.0\\nsamples = 3\\nvalue = [3, 0]'),\n",
       " Text(3.2183432903428026, 56.450769230769225, 'gini = 0.0\\nsamples = 1\\nvalue = [0, 1]'),\n",
       " Text(3.2293133569481465, 60.632307692307705, 'gini = 0.0\\nsamples = 9\\nvalue = [9, 0]'),\n",
       " Text(3.2402834235534903, 73.17692307692309, 'X[5] <= 19.5\\ngini = 0.087\\nsamples = 22\\nvalue = [21, 1]'),\n",
       " Text(3.2293133569481465, 68.99538461538461, 'gini = 0.0\\nsamples = 20\\nvalue = [20, 0]'),\n",
       " Text(3.2512534901588346, 68.99538461538461, 'X[12] <= 0.5\\ngini = 0.5\\nsamples = 2\\nvalue = [1, 1]'),\n",
       " Text(3.2402834235534903, 64.81384615384616, 'gini = 0.0\\nsamples = 1\\nvalue = [1, 0]'),\n",
       " Text(3.2622235567641784, 64.81384615384616, 'gini = 0.0\\nsamples = 1\\nvalue = [0, 1]'),\n",
       " Text(3.2731936233695227, 77.35846153846154, 'X[17] <= 0.5\\ngini = 0.087\\nsamples = 22\\nvalue = [21, 1]'),\n",
       " Text(3.2622235567641784, 73.17692307692309, 'gini = 0.0\\nsamples = 19\\nvalue = [19, 0]'),\n",
       " Text(3.2841636899748665, 73.17692307692309, 'X[6] <= 32.0\\ngini = 0.444\\nsamples = 3\\nvalue = [2, 1]'),\n",
       " Text(3.2731936233695227, 68.99538461538461, 'gini = 0.0\\nsamples = 2\\nvalue = [2, 0]'),\n",
       " Text(3.295133756580211, 68.99538461538461, 'gini = 0.0\\nsamples = 1\\nvalue = [0, 1]'),\n",
       " Text(3.3938643560283066, 81.53999999999999, 'X[19] <= 0.5\\ngini = 0.048\\nsamples = 123\\nvalue = [120, 3]'),\n",
       " Text(3.3609541562122747, 77.35846153846154, 'X[5] <= 19.5\\ngini = 0.034\\nsamples = 117\\nvalue = [115, 2]'),\n",
       " Text(3.3280439563962427, 73.17692307692309, 'X[17] <= 0.5\\ngini = 0.019\\nsamples = 104\\nvalue = [103, 1]'),\n",
       " Text(3.3170738897908985, 68.99538461538461, 'gini = 0.0\\nsamples = 92\\nvalue = [92, 0]'),\n",
       " Text(3.3390140230015866, 68.99538461538461, 'X[1] <= 42100.0\\ngini = 0.153\\nsamples = 12\\nvalue = [11, 1]'),\n",
       " Text(3.3280439563962427, 64.81384615384616, 'gini = 0.0\\nsamples = 9\\nvalue = [9, 0]'),\n",
       " Text(3.349984089606931, 64.81384615384616, 'X[2] <= 10.95\\ngini = 0.444\\nsamples = 3\\nvalue = [2, 1]'),\n",
       " Text(3.3390140230015866, 60.632307692307705, 'gini = 0.0\\nsamples = 2\\nvalue = [2, 0]'),\n",
       " Text(3.3609541562122747, 60.632307692307705, 'gini = 0.0\\nsamples = 1\\nvalue = [0, 1]'),\n",
       " ...]"
      ]
     },
     "execution_count": 443,
     "metadata": {},
     "output_type": "execute_result"
    },
    {
     "name": "stdout",
     "output_type": "stream",
     "text": [
      "Error in callback <function flush_figures at 0x7fca298cf040> (for post_execute):\n"
     ]
    },
    {
     "ename": "KeyboardInterrupt",
     "evalue": "",
     "output_type": "error",
     "traceback": [
      "\u001b[0;31m---------------------------------------------------------------------------\u001b[0m",
      "\u001b[0;31mKeyboardInterrupt\u001b[0m                         Traceback (most recent call last)",
      "\u001b[0;32m/opt/anaconda3/envs/metis/lib/python3.8/site-packages/ipykernel/pylab/backend_inline.py\u001b[0m in \u001b[0;36mflush_figures\u001b[0;34m()\u001b[0m\n\u001b[1;32m    118\u001b[0m         \u001b[0;31m# ignore the tracking, just draw and close all figures\u001b[0m\u001b[0;34m\u001b[0m\u001b[0;34m\u001b[0m\u001b[0;34m\u001b[0m\u001b[0m\n\u001b[1;32m    119\u001b[0m         \u001b[0;32mtry\u001b[0m\u001b[0;34m:\u001b[0m\u001b[0;34m\u001b[0m\u001b[0;34m\u001b[0m\u001b[0m\n\u001b[0;32m--> 120\u001b[0;31m             \u001b[0;32mreturn\u001b[0m \u001b[0mshow\u001b[0m\u001b[0;34m(\u001b[0m\u001b[0;32mTrue\u001b[0m\u001b[0;34m)\u001b[0m\u001b[0;34m\u001b[0m\u001b[0;34m\u001b[0m\u001b[0m\n\u001b[0m\u001b[1;32m    121\u001b[0m         \u001b[0;32mexcept\u001b[0m \u001b[0mException\u001b[0m \u001b[0;32mas\u001b[0m \u001b[0me\u001b[0m\u001b[0;34m:\u001b[0m\u001b[0;34m\u001b[0m\u001b[0;34m\u001b[0m\u001b[0m\n\u001b[1;32m    122\u001b[0m             \u001b[0;31m# safely show traceback if in IPython, else raise\u001b[0m\u001b[0;34m\u001b[0m\u001b[0;34m\u001b[0m\u001b[0;34m\u001b[0m\u001b[0m\n",
      "\u001b[0;32m/opt/anaconda3/envs/metis/lib/python3.8/site-packages/ipykernel/pylab/backend_inline.py\u001b[0m in \u001b[0;36mshow\u001b[0;34m(close, block)\u001b[0m\n\u001b[1;32m     38\u001b[0m     \u001b[0;32mtry\u001b[0m\u001b[0;34m:\u001b[0m\u001b[0;34m\u001b[0m\u001b[0;34m\u001b[0m\u001b[0m\n\u001b[1;32m     39\u001b[0m         \u001b[0;32mfor\u001b[0m \u001b[0mfigure_manager\u001b[0m \u001b[0;32min\u001b[0m \u001b[0mGcf\u001b[0m\u001b[0;34m.\u001b[0m\u001b[0mget_all_fig_managers\u001b[0m\u001b[0;34m(\u001b[0m\u001b[0;34m)\u001b[0m\u001b[0;34m:\u001b[0m\u001b[0;34m\u001b[0m\u001b[0;34m\u001b[0m\u001b[0m\n\u001b[0;32m---> 40\u001b[0;31m             display(\n\u001b[0m\u001b[1;32m     41\u001b[0m                 \u001b[0mfigure_manager\u001b[0m\u001b[0;34m.\u001b[0m\u001b[0mcanvas\u001b[0m\u001b[0;34m.\u001b[0m\u001b[0mfigure\u001b[0m\u001b[0;34m,\u001b[0m\u001b[0;34m\u001b[0m\u001b[0;34m\u001b[0m\u001b[0m\n\u001b[1;32m     42\u001b[0m                 \u001b[0mmetadata\u001b[0m\u001b[0;34m=\u001b[0m\u001b[0m_fetch_figure_metadata\u001b[0m\u001b[0;34m(\u001b[0m\u001b[0mfigure_manager\u001b[0m\u001b[0;34m.\u001b[0m\u001b[0mcanvas\u001b[0m\u001b[0;34m.\u001b[0m\u001b[0mfigure\u001b[0m\u001b[0;34m)\u001b[0m\u001b[0;34m\u001b[0m\u001b[0;34m\u001b[0m\u001b[0m\n",
      "\u001b[0;32m/opt/anaconda3/envs/metis/lib/python3.8/site-packages/IPython/core/display.py\u001b[0m in \u001b[0;36mdisplay\u001b[0;34m(include, exclude, metadata, transient, display_id, *objs, **kwargs)\u001b[0m\n\u001b[1;32m    311\u001b[0m             \u001b[0mpublish_display_data\u001b[0m\u001b[0;34m(\u001b[0m\u001b[0mdata\u001b[0m\u001b[0;34m=\u001b[0m\u001b[0mobj\u001b[0m\u001b[0;34m,\u001b[0m \u001b[0mmetadata\u001b[0m\u001b[0;34m=\u001b[0m\u001b[0mmetadata\u001b[0m\u001b[0;34m,\u001b[0m \u001b[0;34m**\u001b[0m\u001b[0mkwargs\u001b[0m\u001b[0;34m)\u001b[0m\u001b[0;34m\u001b[0m\u001b[0;34m\u001b[0m\u001b[0m\n\u001b[1;32m    312\u001b[0m         \u001b[0;32melse\u001b[0m\u001b[0;34m:\u001b[0m\u001b[0;34m\u001b[0m\u001b[0;34m\u001b[0m\u001b[0m\n\u001b[0;32m--> 313\u001b[0;31m             \u001b[0mformat_dict\u001b[0m\u001b[0;34m,\u001b[0m \u001b[0mmd_dict\u001b[0m \u001b[0;34m=\u001b[0m \u001b[0mformat\u001b[0m\u001b[0;34m(\u001b[0m\u001b[0mobj\u001b[0m\u001b[0;34m,\u001b[0m \u001b[0minclude\u001b[0m\u001b[0;34m=\u001b[0m\u001b[0minclude\u001b[0m\u001b[0;34m,\u001b[0m \u001b[0mexclude\u001b[0m\u001b[0;34m=\u001b[0m\u001b[0mexclude\u001b[0m\u001b[0;34m)\u001b[0m\u001b[0;34m\u001b[0m\u001b[0;34m\u001b[0m\u001b[0m\n\u001b[0m\u001b[1;32m    314\u001b[0m             \u001b[0;32mif\u001b[0m \u001b[0;32mnot\u001b[0m \u001b[0mformat_dict\u001b[0m\u001b[0;34m:\u001b[0m\u001b[0;34m\u001b[0m\u001b[0;34m\u001b[0m\u001b[0m\n\u001b[1;32m    315\u001b[0m                 \u001b[0;31m# nothing to display (e.g. _ipython_display_ took over)\u001b[0m\u001b[0;34m\u001b[0m\u001b[0;34m\u001b[0m\u001b[0;34m\u001b[0m\u001b[0m\n",
      "\u001b[0;32m/opt/anaconda3/envs/metis/lib/python3.8/site-packages/IPython/core/formatters.py\u001b[0m in \u001b[0;36mformat\u001b[0;34m(self, obj, include, exclude)\u001b[0m\n\u001b[1;32m    178\u001b[0m             \u001b[0mmd\u001b[0m \u001b[0;34m=\u001b[0m \u001b[0;32mNone\u001b[0m\u001b[0;34m\u001b[0m\u001b[0;34m\u001b[0m\u001b[0m\n\u001b[1;32m    179\u001b[0m             \u001b[0;32mtry\u001b[0m\u001b[0;34m:\u001b[0m\u001b[0;34m\u001b[0m\u001b[0;34m\u001b[0m\u001b[0m\n\u001b[0;32m--> 180\u001b[0;31m                 \u001b[0mdata\u001b[0m \u001b[0;34m=\u001b[0m \u001b[0mformatter\u001b[0m\u001b[0;34m(\u001b[0m\u001b[0mobj\u001b[0m\u001b[0;34m)\u001b[0m\u001b[0;34m\u001b[0m\u001b[0;34m\u001b[0m\u001b[0m\n\u001b[0m\u001b[1;32m    181\u001b[0m             \u001b[0;32mexcept\u001b[0m\u001b[0;34m:\u001b[0m\u001b[0;34m\u001b[0m\u001b[0;34m\u001b[0m\u001b[0m\n\u001b[1;32m    182\u001b[0m                 \u001b[0;31m# FIXME: log the exception\u001b[0m\u001b[0;34m\u001b[0m\u001b[0;34m\u001b[0m\u001b[0;34m\u001b[0m\u001b[0m\n",
      "\u001b[0;32m<decorator-gen-2>\u001b[0m in \u001b[0;36m__call__\u001b[0;34m(self, obj)\u001b[0m\n",
      "\u001b[0;32m/opt/anaconda3/envs/metis/lib/python3.8/site-packages/IPython/core/formatters.py\u001b[0m in \u001b[0;36mcatch_format_error\u001b[0;34m(method, self, *args, **kwargs)\u001b[0m\n\u001b[1;32m    222\u001b[0m     \u001b[0;34m\"\"\"show traceback on failed format call\"\"\"\u001b[0m\u001b[0;34m\u001b[0m\u001b[0;34m\u001b[0m\u001b[0m\n\u001b[1;32m    223\u001b[0m     \u001b[0;32mtry\u001b[0m\u001b[0;34m:\u001b[0m\u001b[0;34m\u001b[0m\u001b[0;34m\u001b[0m\u001b[0m\n\u001b[0;32m--> 224\u001b[0;31m         \u001b[0mr\u001b[0m \u001b[0;34m=\u001b[0m \u001b[0mmethod\u001b[0m\u001b[0;34m(\u001b[0m\u001b[0mself\u001b[0m\u001b[0;34m,\u001b[0m \u001b[0;34m*\u001b[0m\u001b[0margs\u001b[0m\u001b[0;34m,\u001b[0m \u001b[0;34m**\u001b[0m\u001b[0mkwargs\u001b[0m\u001b[0;34m)\u001b[0m\u001b[0;34m\u001b[0m\u001b[0;34m\u001b[0m\u001b[0m\n\u001b[0m\u001b[1;32m    225\u001b[0m     \u001b[0;32mexcept\u001b[0m \u001b[0mNotImplementedError\u001b[0m\u001b[0;34m:\u001b[0m\u001b[0;34m\u001b[0m\u001b[0;34m\u001b[0m\u001b[0m\n\u001b[1;32m    226\u001b[0m         \u001b[0;31m# don't warn on NotImplementedErrors\u001b[0m\u001b[0;34m\u001b[0m\u001b[0;34m\u001b[0m\u001b[0;34m\u001b[0m\u001b[0m\n",
      "\u001b[0;32m/opt/anaconda3/envs/metis/lib/python3.8/site-packages/IPython/core/formatters.py\u001b[0m in \u001b[0;36m__call__\u001b[0;34m(self, obj)\u001b[0m\n\u001b[1;32m    339\u001b[0m                 \u001b[0;32mpass\u001b[0m\u001b[0;34m\u001b[0m\u001b[0;34m\u001b[0m\u001b[0m\n\u001b[1;32m    340\u001b[0m             \u001b[0;32melse\u001b[0m\u001b[0;34m:\u001b[0m\u001b[0;34m\u001b[0m\u001b[0;34m\u001b[0m\u001b[0m\n\u001b[0;32m--> 341\u001b[0;31m                 \u001b[0;32mreturn\u001b[0m \u001b[0mprinter\u001b[0m\u001b[0;34m(\u001b[0m\u001b[0mobj\u001b[0m\u001b[0;34m)\u001b[0m\u001b[0;34m\u001b[0m\u001b[0;34m\u001b[0m\u001b[0m\n\u001b[0m\u001b[1;32m    342\u001b[0m             \u001b[0;31m# Finally look for special method names\u001b[0m\u001b[0;34m\u001b[0m\u001b[0;34m\u001b[0m\u001b[0;34m\u001b[0m\u001b[0m\n\u001b[1;32m    343\u001b[0m             \u001b[0mmethod\u001b[0m \u001b[0;34m=\u001b[0m \u001b[0mget_real_method\u001b[0m\u001b[0;34m(\u001b[0m\u001b[0mobj\u001b[0m\u001b[0;34m,\u001b[0m \u001b[0mself\u001b[0m\u001b[0;34m.\u001b[0m\u001b[0mprint_method\u001b[0m\u001b[0;34m)\u001b[0m\u001b[0;34m\u001b[0m\u001b[0;34m\u001b[0m\u001b[0m\n",
      "\u001b[0;32m/opt/anaconda3/envs/metis/lib/python3.8/site-packages/IPython/core/pylabtools.py\u001b[0m in \u001b[0;36m<lambda>\u001b[0;34m(fig)\u001b[0m\n\u001b[1;32m    246\u001b[0m \u001b[0;34m\u001b[0m\u001b[0m\n\u001b[1;32m    247\u001b[0m     \u001b[0;32mif\u001b[0m \u001b[0;34m'png'\u001b[0m \u001b[0;32min\u001b[0m \u001b[0mformats\u001b[0m\u001b[0;34m:\u001b[0m\u001b[0;34m\u001b[0m\u001b[0;34m\u001b[0m\u001b[0m\n\u001b[0;32m--> 248\u001b[0;31m         \u001b[0mpng_formatter\u001b[0m\u001b[0;34m.\u001b[0m\u001b[0mfor_type\u001b[0m\u001b[0;34m(\u001b[0m\u001b[0mFigure\u001b[0m\u001b[0;34m,\u001b[0m \u001b[0;32mlambda\u001b[0m \u001b[0mfig\u001b[0m\u001b[0;34m:\u001b[0m \u001b[0mprint_figure\u001b[0m\u001b[0;34m(\u001b[0m\u001b[0mfig\u001b[0m\u001b[0;34m,\u001b[0m \u001b[0;34m'png'\u001b[0m\u001b[0;34m,\u001b[0m \u001b[0;34m**\u001b[0m\u001b[0mkwargs\u001b[0m\u001b[0;34m)\u001b[0m\u001b[0;34m)\u001b[0m\u001b[0;34m\u001b[0m\u001b[0;34m\u001b[0m\u001b[0m\n\u001b[0m\u001b[1;32m    249\u001b[0m     \u001b[0;32mif\u001b[0m \u001b[0;34m'retina'\u001b[0m \u001b[0;32min\u001b[0m \u001b[0mformats\u001b[0m \u001b[0;32mor\u001b[0m \u001b[0;34m'png2x'\u001b[0m \u001b[0;32min\u001b[0m \u001b[0mformats\u001b[0m\u001b[0;34m:\u001b[0m\u001b[0;34m\u001b[0m\u001b[0;34m\u001b[0m\u001b[0m\n\u001b[1;32m    250\u001b[0m         \u001b[0mpng_formatter\u001b[0m\u001b[0;34m.\u001b[0m\u001b[0mfor_type\u001b[0m\u001b[0;34m(\u001b[0m\u001b[0mFigure\u001b[0m\u001b[0;34m,\u001b[0m \u001b[0;32mlambda\u001b[0m \u001b[0mfig\u001b[0m\u001b[0;34m:\u001b[0m \u001b[0mretina_figure\u001b[0m\u001b[0;34m(\u001b[0m\u001b[0mfig\u001b[0m\u001b[0;34m,\u001b[0m \u001b[0;34m**\u001b[0m\u001b[0mkwargs\u001b[0m\u001b[0;34m)\u001b[0m\u001b[0;34m)\u001b[0m\u001b[0;34m\u001b[0m\u001b[0;34m\u001b[0m\u001b[0m\n",
      "\u001b[0;32m/opt/anaconda3/envs/metis/lib/python3.8/site-packages/IPython/core/pylabtools.py\u001b[0m in \u001b[0;36mprint_figure\u001b[0;34m(fig, fmt, bbox_inches, **kwargs)\u001b[0m\n\u001b[1;32m    130\u001b[0m         \u001b[0mFigureCanvasBase\u001b[0m\u001b[0;34m(\u001b[0m\u001b[0mfig\u001b[0m\u001b[0;34m)\u001b[0m\u001b[0;34m\u001b[0m\u001b[0;34m\u001b[0m\u001b[0m\n\u001b[1;32m    131\u001b[0m \u001b[0;34m\u001b[0m\u001b[0m\n\u001b[0;32m--> 132\u001b[0;31m     \u001b[0mfig\u001b[0m\u001b[0;34m.\u001b[0m\u001b[0mcanvas\u001b[0m\u001b[0;34m.\u001b[0m\u001b[0mprint_figure\u001b[0m\u001b[0;34m(\u001b[0m\u001b[0mbytes_io\u001b[0m\u001b[0;34m,\u001b[0m \u001b[0;34m**\u001b[0m\u001b[0mkw\u001b[0m\u001b[0;34m)\u001b[0m\u001b[0;34m\u001b[0m\u001b[0;34m\u001b[0m\u001b[0m\n\u001b[0m\u001b[1;32m    133\u001b[0m     \u001b[0mdata\u001b[0m \u001b[0;34m=\u001b[0m \u001b[0mbytes_io\u001b[0m\u001b[0;34m.\u001b[0m\u001b[0mgetvalue\u001b[0m\u001b[0;34m(\u001b[0m\u001b[0;34m)\u001b[0m\u001b[0;34m\u001b[0m\u001b[0;34m\u001b[0m\u001b[0m\n\u001b[1;32m    134\u001b[0m     \u001b[0;32mif\u001b[0m \u001b[0mfmt\u001b[0m \u001b[0;34m==\u001b[0m \u001b[0;34m'svg'\u001b[0m\u001b[0;34m:\u001b[0m\u001b[0;34m\u001b[0m\u001b[0;34m\u001b[0m\u001b[0m\n",
      "\u001b[0;32m/opt/anaconda3/envs/metis/lib/python3.8/site-packages/matplotlib/backend_bases.py\u001b[0m in \u001b[0;36mprint_figure\u001b[0;34m(self, filename, dpi, facecolor, edgecolor, orientation, format, bbox_inches, pad_inches, bbox_extra_artists, backend, **kwargs)\u001b[0m\n\u001b[1;32m   2208\u001b[0m \u001b[0;34m\u001b[0m\u001b[0m\n\u001b[1;32m   2209\u001b[0m             \u001b[0;32mtry\u001b[0m\u001b[0;34m:\u001b[0m\u001b[0;34m\u001b[0m\u001b[0;34m\u001b[0m\u001b[0m\n\u001b[0;32m-> 2210\u001b[0;31m                 result = print_method(\n\u001b[0m\u001b[1;32m   2211\u001b[0m                     \u001b[0mfilename\u001b[0m\u001b[0;34m,\u001b[0m\u001b[0;34m\u001b[0m\u001b[0;34m\u001b[0m\u001b[0m\n\u001b[1;32m   2212\u001b[0m                     \u001b[0mdpi\u001b[0m\u001b[0;34m=\u001b[0m\u001b[0mdpi\u001b[0m\u001b[0;34m,\u001b[0m\u001b[0;34m\u001b[0m\u001b[0;34m\u001b[0m\u001b[0m\n",
      "\u001b[0;32m/opt/anaconda3/envs/metis/lib/python3.8/site-packages/matplotlib/backend_bases.py\u001b[0m in \u001b[0;36mwrapper\u001b[0;34m(*args, **kwargs)\u001b[0m\n\u001b[1;32m   1637\u001b[0m             \u001b[0mkwargs\u001b[0m\u001b[0;34m.\u001b[0m\u001b[0mpop\u001b[0m\u001b[0;34m(\u001b[0m\u001b[0marg\u001b[0m\u001b[0;34m)\u001b[0m\u001b[0;34m\u001b[0m\u001b[0;34m\u001b[0m\u001b[0m\n\u001b[1;32m   1638\u001b[0m \u001b[0;34m\u001b[0m\u001b[0m\n\u001b[0;32m-> 1639\u001b[0;31m         \u001b[0;32mreturn\u001b[0m \u001b[0mfunc\u001b[0m\u001b[0;34m(\u001b[0m\u001b[0;34m*\u001b[0m\u001b[0margs\u001b[0m\u001b[0;34m,\u001b[0m \u001b[0;34m**\u001b[0m\u001b[0mkwargs\u001b[0m\u001b[0;34m)\u001b[0m\u001b[0;34m\u001b[0m\u001b[0;34m\u001b[0m\u001b[0m\n\u001b[0m\u001b[1;32m   1640\u001b[0m \u001b[0;34m\u001b[0m\u001b[0m\n\u001b[1;32m   1641\u001b[0m     \u001b[0;32mreturn\u001b[0m \u001b[0mwrapper\u001b[0m\u001b[0;34m\u001b[0m\u001b[0;34m\u001b[0m\u001b[0m\n",
      "\u001b[0;32m/opt/anaconda3/envs/metis/lib/python3.8/site-packages/matplotlib/backends/backend_agg.py\u001b[0m in \u001b[0;36mprint_png\u001b[0;34m(self, filename_or_obj, metadata, pil_kwargs, *args)\u001b[0m\n\u001b[1;32m    507\u001b[0m             \u001b[0;34m*\u001b[0m\u001b[0mmetadata\u001b[0m\u001b[0;34m*\u001b[0m\u001b[0;34m,\u001b[0m \u001b[0mincluding\u001b[0m \u001b[0mthe\u001b[0m \u001b[0mdefault\u001b[0m \u001b[0;34m'Software'\u001b[0m \u001b[0mkey\u001b[0m\u001b[0;34m.\u001b[0m\u001b[0;34m\u001b[0m\u001b[0;34m\u001b[0m\u001b[0m\n\u001b[1;32m    508\u001b[0m         \"\"\"\n\u001b[0;32m--> 509\u001b[0;31m         \u001b[0mFigureCanvasAgg\u001b[0m\u001b[0;34m.\u001b[0m\u001b[0mdraw\u001b[0m\u001b[0;34m(\u001b[0m\u001b[0mself\u001b[0m\u001b[0;34m)\u001b[0m\u001b[0;34m\u001b[0m\u001b[0;34m\u001b[0m\u001b[0m\n\u001b[0m\u001b[1;32m    510\u001b[0m         mpl.image.imsave(\n\u001b[1;32m    511\u001b[0m             \u001b[0mfilename_or_obj\u001b[0m\u001b[0;34m,\u001b[0m \u001b[0mself\u001b[0m\u001b[0;34m.\u001b[0m\u001b[0mbuffer_rgba\u001b[0m\u001b[0;34m(\u001b[0m\u001b[0;34m)\u001b[0m\u001b[0;34m,\u001b[0m \u001b[0mformat\u001b[0m\u001b[0;34m=\u001b[0m\u001b[0;34m\"png\"\u001b[0m\u001b[0;34m,\u001b[0m \u001b[0morigin\u001b[0m\u001b[0;34m=\u001b[0m\u001b[0;34m\"upper\"\u001b[0m\u001b[0;34m,\u001b[0m\u001b[0;34m\u001b[0m\u001b[0;34m\u001b[0m\u001b[0m\n",
      "\u001b[0;32m/opt/anaconda3/envs/metis/lib/python3.8/site-packages/matplotlib/backends/backend_agg.py\u001b[0m in \u001b[0;36mdraw\u001b[0;34m(self)\u001b[0m\n\u001b[1;32m    405\u001b[0m              (self.toolbar._wait_cursor_for_draw_cm() if self.toolbar\n\u001b[1;32m    406\u001b[0m               else nullcontext()):\n\u001b[0;32m--> 407\u001b[0;31m             \u001b[0mself\u001b[0m\u001b[0;34m.\u001b[0m\u001b[0mfigure\u001b[0m\u001b[0;34m.\u001b[0m\u001b[0mdraw\u001b[0m\u001b[0;34m(\u001b[0m\u001b[0mself\u001b[0m\u001b[0;34m.\u001b[0m\u001b[0mrenderer\u001b[0m\u001b[0;34m)\u001b[0m\u001b[0;34m\u001b[0m\u001b[0;34m\u001b[0m\u001b[0m\n\u001b[0m\u001b[1;32m    408\u001b[0m             \u001b[0;31m# A GUI class may be need to update a window using this draw, so\u001b[0m\u001b[0;34m\u001b[0m\u001b[0;34m\u001b[0m\u001b[0;34m\u001b[0m\u001b[0m\n\u001b[1;32m    409\u001b[0m             \u001b[0;31m# don't forget to call the superclass.\u001b[0m\u001b[0;34m\u001b[0m\u001b[0;34m\u001b[0m\u001b[0;34m\u001b[0m\u001b[0m\n",
      "\u001b[0;32m/opt/anaconda3/envs/metis/lib/python3.8/site-packages/matplotlib/artist.py\u001b[0m in \u001b[0;36mdraw_wrapper\u001b[0;34m(artist, renderer, *args, **kwargs)\u001b[0m\n\u001b[1;32m     39\u001b[0m                 \u001b[0mrenderer\u001b[0m\u001b[0;34m.\u001b[0m\u001b[0mstart_filter\u001b[0m\u001b[0;34m(\u001b[0m\u001b[0;34m)\u001b[0m\u001b[0;34m\u001b[0m\u001b[0;34m\u001b[0m\u001b[0m\n\u001b[1;32m     40\u001b[0m \u001b[0;34m\u001b[0m\u001b[0m\n\u001b[0;32m---> 41\u001b[0;31m             \u001b[0;32mreturn\u001b[0m \u001b[0mdraw\u001b[0m\u001b[0;34m(\u001b[0m\u001b[0martist\u001b[0m\u001b[0;34m,\u001b[0m \u001b[0mrenderer\u001b[0m\u001b[0;34m,\u001b[0m \u001b[0;34m*\u001b[0m\u001b[0margs\u001b[0m\u001b[0;34m,\u001b[0m \u001b[0;34m**\u001b[0m\u001b[0mkwargs\u001b[0m\u001b[0;34m)\u001b[0m\u001b[0;34m\u001b[0m\u001b[0;34m\u001b[0m\u001b[0m\n\u001b[0m\u001b[1;32m     42\u001b[0m         \u001b[0;32mfinally\u001b[0m\u001b[0;34m:\u001b[0m\u001b[0;34m\u001b[0m\u001b[0;34m\u001b[0m\u001b[0m\n\u001b[1;32m     43\u001b[0m             \u001b[0;32mif\u001b[0m \u001b[0martist\u001b[0m\u001b[0;34m.\u001b[0m\u001b[0mget_agg_filter\u001b[0m\u001b[0;34m(\u001b[0m\u001b[0;34m)\u001b[0m \u001b[0;32mis\u001b[0m \u001b[0;32mnot\u001b[0m \u001b[0;32mNone\u001b[0m\u001b[0;34m:\u001b[0m\u001b[0;34m\u001b[0m\u001b[0;34m\u001b[0m\u001b[0m\n",
      "\u001b[0;32m/opt/anaconda3/envs/metis/lib/python3.8/site-packages/matplotlib/figure.py\u001b[0m in \u001b[0;36mdraw\u001b[0;34m(self, renderer)\u001b[0m\n\u001b[1;32m   1861\u001b[0m \u001b[0;34m\u001b[0m\u001b[0m\n\u001b[1;32m   1862\u001b[0m             \u001b[0mself\u001b[0m\u001b[0;34m.\u001b[0m\u001b[0mpatch\u001b[0m\u001b[0;34m.\u001b[0m\u001b[0mdraw\u001b[0m\u001b[0;34m(\u001b[0m\u001b[0mrenderer\u001b[0m\u001b[0;34m)\u001b[0m\u001b[0;34m\u001b[0m\u001b[0;34m\u001b[0m\u001b[0m\n\u001b[0;32m-> 1863\u001b[0;31m             mimage._draw_list_compositing_images(\n\u001b[0m\u001b[1;32m   1864\u001b[0m                 renderer, self, artists, self.suppressComposite)\n\u001b[1;32m   1865\u001b[0m \u001b[0;34m\u001b[0m\u001b[0m\n",
      "\u001b[0;32m/opt/anaconda3/envs/metis/lib/python3.8/site-packages/matplotlib/image.py\u001b[0m in \u001b[0;36m_draw_list_compositing_images\u001b[0;34m(renderer, parent, artists, suppress_composite)\u001b[0m\n\u001b[1;32m    129\u001b[0m     \u001b[0;32mif\u001b[0m \u001b[0mnot_composite\u001b[0m \u001b[0;32mor\u001b[0m \u001b[0;32mnot\u001b[0m \u001b[0mhas_images\u001b[0m\u001b[0;34m:\u001b[0m\u001b[0;34m\u001b[0m\u001b[0;34m\u001b[0m\u001b[0m\n\u001b[1;32m    130\u001b[0m         \u001b[0;32mfor\u001b[0m \u001b[0ma\u001b[0m \u001b[0;32min\u001b[0m \u001b[0martists\u001b[0m\u001b[0;34m:\u001b[0m\u001b[0;34m\u001b[0m\u001b[0;34m\u001b[0m\u001b[0m\n\u001b[0;32m--> 131\u001b[0;31m             \u001b[0ma\u001b[0m\u001b[0;34m.\u001b[0m\u001b[0mdraw\u001b[0m\u001b[0;34m(\u001b[0m\u001b[0mrenderer\u001b[0m\u001b[0;34m)\u001b[0m\u001b[0;34m\u001b[0m\u001b[0;34m\u001b[0m\u001b[0m\n\u001b[0m\u001b[1;32m    132\u001b[0m     \u001b[0;32melse\u001b[0m\u001b[0;34m:\u001b[0m\u001b[0;34m\u001b[0m\u001b[0;34m\u001b[0m\u001b[0m\n\u001b[1;32m    133\u001b[0m         \u001b[0;31m# Composite any adjacent images together\u001b[0m\u001b[0;34m\u001b[0m\u001b[0;34m\u001b[0m\u001b[0;34m\u001b[0m\u001b[0m\n",
      "\u001b[0;32m/opt/anaconda3/envs/metis/lib/python3.8/site-packages/matplotlib/artist.py\u001b[0m in \u001b[0;36mdraw_wrapper\u001b[0;34m(artist, renderer, *args, **kwargs)\u001b[0m\n\u001b[1;32m     39\u001b[0m                 \u001b[0mrenderer\u001b[0m\u001b[0;34m.\u001b[0m\u001b[0mstart_filter\u001b[0m\u001b[0;34m(\u001b[0m\u001b[0;34m)\u001b[0m\u001b[0;34m\u001b[0m\u001b[0;34m\u001b[0m\u001b[0m\n\u001b[1;32m     40\u001b[0m \u001b[0;34m\u001b[0m\u001b[0m\n\u001b[0;32m---> 41\u001b[0;31m             \u001b[0;32mreturn\u001b[0m \u001b[0mdraw\u001b[0m\u001b[0;34m(\u001b[0m\u001b[0martist\u001b[0m\u001b[0;34m,\u001b[0m \u001b[0mrenderer\u001b[0m\u001b[0;34m,\u001b[0m \u001b[0;34m*\u001b[0m\u001b[0margs\u001b[0m\u001b[0;34m,\u001b[0m \u001b[0;34m**\u001b[0m\u001b[0mkwargs\u001b[0m\u001b[0;34m)\u001b[0m\u001b[0;34m\u001b[0m\u001b[0;34m\u001b[0m\u001b[0m\n\u001b[0m\u001b[1;32m     42\u001b[0m         \u001b[0;32mfinally\u001b[0m\u001b[0;34m:\u001b[0m\u001b[0;34m\u001b[0m\u001b[0;34m\u001b[0m\u001b[0m\n\u001b[1;32m     43\u001b[0m             \u001b[0;32mif\u001b[0m \u001b[0martist\u001b[0m\u001b[0;34m.\u001b[0m\u001b[0mget_agg_filter\u001b[0m\u001b[0;34m(\u001b[0m\u001b[0;34m)\u001b[0m \u001b[0;32mis\u001b[0m \u001b[0;32mnot\u001b[0m \u001b[0;32mNone\u001b[0m\u001b[0;34m:\u001b[0m\u001b[0;34m\u001b[0m\u001b[0;34m\u001b[0m\u001b[0m\n",
      "\u001b[0;32m/opt/anaconda3/envs/metis/lib/python3.8/site-packages/matplotlib/cbook/deprecation.py\u001b[0m in \u001b[0;36mwrapper\u001b[0;34m(*inner_args, **inner_kwargs)\u001b[0m\n\u001b[1;32m    409\u001b[0m                          \u001b[0;32melse\u001b[0m \u001b[0mdeprecation_addendum\u001b[0m\u001b[0;34m,\u001b[0m\u001b[0;34m\u001b[0m\u001b[0;34m\u001b[0m\u001b[0m\n\u001b[1;32m    410\u001b[0m                 **kwargs)\n\u001b[0;32m--> 411\u001b[0;31m         \u001b[0;32mreturn\u001b[0m \u001b[0mfunc\u001b[0m\u001b[0;34m(\u001b[0m\u001b[0;34m*\u001b[0m\u001b[0minner_args\u001b[0m\u001b[0;34m,\u001b[0m \u001b[0;34m**\u001b[0m\u001b[0minner_kwargs\u001b[0m\u001b[0;34m)\u001b[0m\u001b[0;34m\u001b[0m\u001b[0;34m\u001b[0m\u001b[0m\n\u001b[0m\u001b[1;32m    412\u001b[0m \u001b[0;34m\u001b[0m\u001b[0m\n\u001b[1;32m    413\u001b[0m     \u001b[0;32mreturn\u001b[0m \u001b[0mwrapper\u001b[0m\u001b[0;34m\u001b[0m\u001b[0;34m\u001b[0m\u001b[0m\n",
      "\u001b[0;32m/opt/anaconda3/envs/metis/lib/python3.8/site-packages/matplotlib/axes/_base.py\u001b[0m in \u001b[0;36mdraw\u001b[0;34m(self, renderer, inframe)\u001b[0m\n\u001b[1;32m   2745\u001b[0m             \u001b[0mrenderer\u001b[0m\u001b[0;34m.\u001b[0m\u001b[0mstop_rasterizing\u001b[0m\u001b[0;34m(\u001b[0m\u001b[0;34m)\u001b[0m\u001b[0;34m\u001b[0m\u001b[0;34m\u001b[0m\u001b[0m\n\u001b[1;32m   2746\u001b[0m \u001b[0;34m\u001b[0m\u001b[0m\n\u001b[0;32m-> 2747\u001b[0;31m         \u001b[0mmimage\u001b[0m\u001b[0;34m.\u001b[0m\u001b[0m_draw_list_compositing_images\u001b[0m\u001b[0;34m(\u001b[0m\u001b[0mrenderer\u001b[0m\u001b[0;34m,\u001b[0m \u001b[0mself\u001b[0m\u001b[0;34m,\u001b[0m \u001b[0martists\u001b[0m\u001b[0;34m)\u001b[0m\u001b[0;34m\u001b[0m\u001b[0;34m\u001b[0m\u001b[0m\n\u001b[0m\u001b[1;32m   2748\u001b[0m \u001b[0;34m\u001b[0m\u001b[0m\n\u001b[1;32m   2749\u001b[0m         \u001b[0mrenderer\u001b[0m\u001b[0;34m.\u001b[0m\u001b[0mclose_group\u001b[0m\u001b[0;34m(\u001b[0m\u001b[0;34m'axes'\u001b[0m\u001b[0;34m)\u001b[0m\u001b[0;34m\u001b[0m\u001b[0;34m\u001b[0m\u001b[0m\n",
      "\u001b[0;32m/opt/anaconda3/envs/metis/lib/python3.8/site-packages/matplotlib/image.py\u001b[0m in \u001b[0;36m_draw_list_compositing_images\u001b[0;34m(renderer, parent, artists, suppress_composite)\u001b[0m\n\u001b[1;32m    129\u001b[0m     \u001b[0;32mif\u001b[0m \u001b[0mnot_composite\u001b[0m \u001b[0;32mor\u001b[0m \u001b[0;32mnot\u001b[0m \u001b[0mhas_images\u001b[0m\u001b[0;34m:\u001b[0m\u001b[0;34m\u001b[0m\u001b[0;34m\u001b[0m\u001b[0m\n\u001b[1;32m    130\u001b[0m         \u001b[0;32mfor\u001b[0m \u001b[0ma\u001b[0m \u001b[0;32min\u001b[0m \u001b[0martists\u001b[0m\u001b[0;34m:\u001b[0m\u001b[0;34m\u001b[0m\u001b[0;34m\u001b[0m\u001b[0m\n\u001b[0;32m--> 131\u001b[0;31m             \u001b[0ma\u001b[0m\u001b[0;34m.\u001b[0m\u001b[0mdraw\u001b[0m\u001b[0;34m(\u001b[0m\u001b[0mrenderer\u001b[0m\u001b[0;34m)\u001b[0m\u001b[0;34m\u001b[0m\u001b[0;34m\u001b[0m\u001b[0m\n\u001b[0m\u001b[1;32m    132\u001b[0m     \u001b[0;32melse\u001b[0m\u001b[0;34m:\u001b[0m\u001b[0;34m\u001b[0m\u001b[0;34m\u001b[0m\u001b[0m\n\u001b[1;32m    133\u001b[0m         \u001b[0;31m# Composite any adjacent images together\u001b[0m\u001b[0;34m\u001b[0m\u001b[0;34m\u001b[0m\u001b[0;34m\u001b[0m\u001b[0m\n",
      "\u001b[0;32m/opt/anaconda3/envs/metis/lib/python3.8/site-packages/matplotlib/artist.py\u001b[0m in \u001b[0;36mdraw_wrapper\u001b[0;34m(artist, renderer, *args, **kwargs)\u001b[0m\n\u001b[1;32m     39\u001b[0m                 \u001b[0mrenderer\u001b[0m\u001b[0;34m.\u001b[0m\u001b[0mstart_filter\u001b[0m\u001b[0;34m(\u001b[0m\u001b[0;34m)\u001b[0m\u001b[0;34m\u001b[0m\u001b[0;34m\u001b[0m\u001b[0m\n\u001b[1;32m     40\u001b[0m \u001b[0;34m\u001b[0m\u001b[0m\n\u001b[0;32m---> 41\u001b[0;31m             \u001b[0;32mreturn\u001b[0m \u001b[0mdraw\u001b[0m\u001b[0;34m(\u001b[0m\u001b[0martist\u001b[0m\u001b[0;34m,\u001b[0m \u001b[0mrenderer\u001b[0m\u001b[0;34m,\u001b[0m \u001b[0;34m*\u001b[0m\u001b[0margs\u001b[0m\u001b[0;34m,\u001b[0m \u001b[0;34m**\u001b[0m\u001b[0mkwargs\u001b[0m\u001b[0;34m)\u001b[0m\u001b[0;34m\u001b[0m\u001b[0;34m\u001b[0m\u001b[0m\n\u001b[0m\u001b[1;32m     42\u001b[0m         \u001b[0;32mfinally\u001b[0m\u001b[0;34m:\u001b[0m\u001b[0;34m\u001b[0m\u001b[0;34m\u001b[0m\u001b[0m\n\u001b[1;32m     43\u001b[0m             \u001b[0;32mif\u001b[0m \u001b[0martist\u001b[0m\u001b[0;34m.\u001b[0m\u001b[0mget_agg_filter\u001b[0m\u001b[0;34m(\u001b[0m\u001b[0;34m)\u001b[0m \u001b[0;32mis\u001b[0m \u001b[0;32mnot\u001b[0m \u001b[0;32mNone\u001b[0m\u001b[0;34m:\u001b[0m\u001b[0;34m\u001b[0m\u001b[0;34m\u001b[0m\u001b[0m\n",
      "\u001b[0;32m/opt/anaconda3/envs/metis/lib/python3.8/site-packages/matplotlib/text.py\u001b[0m in \u001b[0;36mdraw\u001b[0;34m(self, renderer)\u001b[0m\n\u001b[1;32m   1898\u001b[0m         \u001b[0;31m# Draw text, including FancyBboxPatch, after FancyArrowPatch.\u001b[0m\u001b[0;34m\u001b[0m\u001b[0;34m\u001b[0m\u001b[0;34m\u001b[0m\u001b[0m\n\u001b[1;32m   1899\u001b[0m         \u001b[0;31m# Otherwise, a wedge arrowstyle can land partly on top of the Bbox.\u001b[0m\u001b[0;34m\u001b[0m\u001b[0;34m\u001b[0m\u001b[0;34m\u001b[0m\u001b[0m\n\u001b[0;32m-> 1900\u001b[0;31m         \u001b[0mText\u001b[0m\u001b[0;34m.\u001b[0m\u001b[0mdraw\u001b[0m\u001b[0;34m(\u001b[0m\u001b[0mself\u001b[0m\u001b[0;34m,\u001b[0m \u001b[0mrenderer\u001b[0m\u001b[0;34m)\u001b[0m\u001b[0;34m\u001b[0m\u001b[0;34m\u001b[0m\u001b[0m\n\u001b[0m\u001b[1;32m   1901\u001b[0m \u001b[0;34m\u001b[0m\u001b[0m\n\u001b[1;32m   1902\u001b[0m     \u001b[0;32mdef\u001b[0m \u001b[0mget_window_extent\u001b[0m\u001b[0;34m(\u001b[0m\u001b[0mself\u001b[0m\u001b[0;34m,\u001b[0m \u001b[0mrenderer\u001b[0m\u001b[0;34m=\u001b[0m\u001b[0;32mNone\u001b[0m\u001b[0;34m)\u001b[0m\u001b[0;34m:\u001b[0m\u001b[0;34m\u001b[0m\u001b[0;34m\u001b[0m\u001b[0m\n",
      "\u001b[0;32m/opt/anaconda3/envs/metis/lib/python3.8/site-packages/matplotlib/artist.py\u001b[0m in \u001b[0;36mdraw_wrapper\u001b[0;34m(artist, renderer, *args, **kwargs)\u001b[0m\n\u001b[1;32m     39\u001b[0m                 \u001b[0mrenderer\u001b[0m\u001b[0;34m.\u001b[0m\u001b[0mstart_filter\u001b[0m\u001b[0;34m(\u001b[0m\u001b[0;34m)\u001b[0m\u001b[0;34m\u001b[0m\u001b[0;34m\u001b[0m\u001b[0m\n\u001b[1;32m     40\u001b[0m \u001b[0;34m\u001b[0m\u001b[0m\n\u001b[0;32m---> 41\u001b[0;31m             \u001b[0;32mreturn\u001b[0m \u001b[0mdraw\u001b[0m\u001b[0;34m(\u001b[0m\u001b[0martist\u001b[0m\u001b[0;34m,\u001b[0m \u001b[0mrenderer\u001b[0m\u001b[0;34m,\u001b[0m \u001b[0;34m*\u001b[0m\u001b[0margs\u001b[0m\u001b[0;34m,\u001b[0m \u001b[0;34m**\u001b[0m\u001b[0mkwargs\u001b[0m\u001b[0;34m)\u001b[0m\u001b[0;34m\u001b[0m\u001b[0;34m\u001b[0m\u001b[0m\n\u001b[0m\u001b[1;32m     42\u001b[0m         \u001b[0;32mfinally\u001b[0m\u001b[0;34m:\u001b[0m\u001b[0;34m\u001b[0m\u001b[0;34m\u001b[0m\u001b[0m\n\u001b[1;32m     43\u001b[0m             \u001b[0;32mif\u001b[0m \u001b[0martist\u001b[0m\u001b[0;34m.\u001b[0m\u001b[0mget_agg_filter\u001b[0m\u001b[0;34m(\u001b[0m\u001b[0;34m)\u001b[0m \u001b[0;32mis\u001b[0m \u001b[0;32mnot\u001b[0m \u001b[0;32mNone\u001b[0m\u001b[0;34m:\u001b[0m\u001b[0;34m\u001b[0m\u001b[0;34m\u001b[0m\u001b[0m\n",
      "\u001b[0;32m/opt/anaconda3/envs/metis/lib/python3.8/site-packages/matplotlib/text.py\u001b[0m in \u001b[0;36mdraw\u001b[0;34m(self, renderer)\u001b[0m\n\u001b[1;32m    725\u001b[0m                                           mtext=mtext)\n\u001b[1;32m    726\u001b[0m                 \u001b[0;32melse\u001b[0m\u001b[0;34m:\u001b[0m\u001b[0;34m\u001b[0m\u001b[0;34m\u001b[0m\u001b[0m\n\u001b[0;32m--> 727\u001b[0;31m                     textrenderer.draw_text(gc, x, y, clean_line,\n\u001b[0m\u001b[1;32m    728\u001b[0m                                            \u001b[0mtextobj\u001b[0m\u001b[0;34m.\u001b[0m\u001b[0m_fontproperties\u001b[0m\u001b[0;34m,\u001b[0m \u001b[0mangle\u001b[0m\u001b[0;34m,\u001b[0m\u001b[0;34m\u001b[0m\u001b[0;34m\u001b[0m\u001b[0m\n\u001b[1;32m    729\u001b[0m                                            ismath=ismath, mtext=mtext)\n",
      "\u001b[0;32m/opt/anaconda3/envs/metis/lib/python3.8/site-packages/matplotlib/backends/backend_agg.py\u001b[0m in \u001b[0;36mdraw_text\u001b[0;34m(self, gc, x, y, s, prop, angle, ismath, mtext)\u001b[0m\n\u001b[1;32m    199\u001b[0m         \u001b[0;31m# We pass '0' for angle here, since it will be rotated (in raster\u001b[0m\u001b[0;34m\u001b[0m\u001b[0;34m\u001b[0m\u001b[0;34m\u001b[0m\u001b[0m\n\u001b[1;32m    200\u001b[0m         \u001b[0;31m# space) in the following call to draw_text_image).\u001b[0m\u001b[0;34m\u001b[0m\u001b[0;34m\u001b[0m\u001b[0;34m\u001b[0m\u001b[0m\n\u001b[0;32m--> 201\u001b[0;31m         \u001b[0mfont\u001b[0m\u001b[0;34m.\u001b[0m\u001b[0mset_text\u001b[0m\u001b[0;34m(\u001b[0m\u001b[0ms\u001b[0m\u001b[0;34m,\u001b[0m \u001b[0;36m0\u001b[0m\u001b[0;34m,\u001b[0m \u001b[0mflags\u001b[0m\u001b[0;34m=\u001b[0m\u001b[0mflags\u001b[0m\u001b[0;34m)\u001b[0m\u001b[0;34m\u001b[0m\u001b[0;34m\u001b[0m\u001b[0m\n\u001b[0m\u001b[1;32m    202\u001b[0m         font.draw_glyphs_to_bitmap(\n\u001b[1;32m    203\u001b[0m             antialiased=mpl.rcParams['text.antialiased'])\n",
      "\u001b[0;31mKeyboardInterrupt\u001b[0m: "
     ]
    }
   ],
   "source": [
    "plot_tree(dt)"
   ]
  },
  {
   "cell_type": "code",
   "execution_count": 434,
   "id": "danish-mention",
   "metadata": {},
   "outputs": [
    {
     "data": {
      "text/plain": [
       "0    505279\n",
       "1     27148\n",
       "Name: y, dtype: int64"
      ]
     },
     "execution_count": 434,
     "metadata": {},
     "output_type": "execute_result"
    }
   ],
   "source": [
    "y_train.value_counts()"
   ]
  },
  {
   "cell_type": "code",
   "execution_count": 446,
   "id": "successful-tunisia",
   "metadata": {},
   "outputs": [
    {
     "name": "stdout",
     "output_type": "stream",
     "text": [
      "0.9999492888226931\n"
     ]
    }
   ],
   "source": [
    "rf = RandomForestClassifier()\n",
    "rf.fit(X_train, y_train)\n",
    "print(rf.score(X_train, y_train))"
   ]
  },
  {
   "cell_type": "code",
   "execution_count": 431,
   "id": "gentle-learning",
   "metadata": {},
   "outputs": [
    {
     "name": "stdout",
     "output_type": "stream",
     "text": [
      "\n",
      "Training:\n",
      "Accuracy:  0.9999211159464114\n",
      "Precision: 1.0\n",
      "Recall:    0.9984529247090025\n",
      "F1:        0.9992258635307996\n",
      "Fbeta:     0.9987619566979618\n",
      "\n",
      "Validation:\n",
      "Accuracy:  0.9999211159464114\n",
      "Precision: 1.0\n",
      "Recall:    0.9984529247090025\n",
      "F1:        0.9992258635307996\n",
      "Fbeta:     0.9987619566979618\n"
     ]
    },
    {
     "data": {
      "image/png": "[encoded data removed]",
      "text/plain": [
       "<Figure size 432x432 with 4 Axes>"
      ]
     },
     "metadata": {},
     "output_type": "display_data"
    }
   ],
   "source": [
    "y_preds_rf = rf.predict(X_train)\n",
    "y_preds_rf2 = rf.predict(X_val)\n",
    "APRF2(y_train, y_preds_rf, y_val, y_preds_rf2)"
   ]
  },
  {
   "cell_type": "code",
   "execution_count": null,
   "id": "suited-clearing",
   "metadata": {},
   "outputs": [],
   "source": []
  },
  {
   "cell_type": "code",
   "execution_count": 85,
   "id": "chemical-houston",
   "metadata": {
    "collapsed": true
   },
   "outputs": [
    {
     "ename": "KeyboardInterrupt",
     "evalue": "",
     "output_type": "error",
     "traceback": [
      "\u001b[0;31m---------------------------------------------------------------------------\u001b[0m",
      "\u001b[0;31mKeyboardInterrupt\u001b[0m                         Traceback (most recent call last)",
      "\u001b[0;32m<ipython-input-85-15f32635d187>\u001b[0m in \u001b[0;36m<module>\u001b[0;34m\u001b[0m\n\u001b[1;32m      2\u001b[0m \u001b[0;34m\u001b[0m\u001b[0m\n\u001b[1;32m      3\u001b[0m \u001b[0mknn\u001b[0m\u001b[0;34m.\u001b[0m\u001b[0mfit\u001b[0m\u001b[0;34m(\u001b[0m\u001b[0mX_train\u001b[0m\u001b[0;34m,\u001b[0m \u001b[0my_train\u001b[0m\u001b[0;34m)\u001b[0m\u001b[0;34m\u001b[0m\u001b[0;34m\u001b[0m\u001b[0m\n\u001b[0;32m----> 4\u001b[0;31m \u001b[0mknn\u001b[0m\u001b[0;34m.\u001b[0m\u001b[0mscore\u001b[0m\u001b[0;34m(\u001b[0m\u001b[0mX_train\u001b[0m\u001b[0;34m,\u001b[0m \u001b[0my_train\u001b[0m\u001b[0;34m)\u001b[0m\u001b[0;34m\u001b[0m\u001b[0;34m\u001b[0m\u001b[0m\n\u001b[0m\u001b[1;32m      5\u001b[0m \u001b[0;34m\u001b[0m\u001b[0m\n\u001b[1;32m      6\u001b[0m \u001b[0my_preds_knn\u001b[0m \u001b[0;34m=\u001b[0m \u001b[0mknn\u001b[0m\u001b[0;34m.\u001b[0m\u001b[0mpredict\u001b[0m\u001b[0;34m(\u001b[0m\u001b[0mX_train\u001b[0m\u001b[0;34m)\u001b[0m\u001b[0;34m\u001b[0m\u001b[0;34m\u001b[0m\u001b[0m\n",
      "\u001b[0;32m/opt/anaconda3/envs/metis/lib/python3.8/site-packages/sklearn/base.py\u001b[0m in \u001b[0;36mscore\u001b[0;34m(self, X, y, sample_weight)\u001b[0m\n\u001b[1;32m    498\u001b[0m         \"\"\"\n\u001b[1;32m    499\u001b[0m         \u001b[0;32mfrom\u001b[0m \u001b[0;34m.\u001b[0m\u001b[0mmetrics\u001b[0m \u001b[0;32mimport\u001b[0m \u001b[0maccuracy_score\u001b[0m\u001b[0;34m\u001b[0m\u001b[0;34m\u001b[0m\u001b[0m\n\u001b[0;32m--> 500\u001b[0;31m         \u001b[0;32mreturn\u001b[0m \u001b[0maccuracy_score\u001b[0m\u001b[0;34m(\u001b[0m\u001b[0my\u001b[0m\u001b[0;34m,\u001b[0m \u001b[0mself\u001b[0m\u001b[0;34m.\u001b[0m\u001b[0mpredict\u001b[0m\u001b[0;34m(\u001b[0m\u001b[0mX\u001b[0m\u001b[0;34m)\u001b[0m\u001b[0;34m,\u001b[0m \u001b[0msample_weight\u001b[0m\u001b[0;34m=\u001b[0m\u001b[0msample_weight\u001b[0m\u001b[0;34m)\u001b[0m\u001b[0;34m\u001b[0m\u001b[0;34m\u001b[0m\u001b[0m\n\u001b[0m\u001b[1;32m    501\u001b[0m \u001b[0;34m\u001b[0m\u001b[0m\n\u001b[1;32m    502\u001b[0m     \u001b[0;32mdef\u001b[0m \u001b[0m_more_tags\u001b[0m\u001b[0;34m(\u001b[0m\u001b[0mself\u001b[0m\u001b[0;34m)\u001b[0m\u001b[0;34m:\u001b[0m\u001b[0;34m\u001b[0m\u001b[0;34m\u001b[0m\u001b[0m\n",
      "\u001b[0;32m/opt/anaconda3/envs/metis/lib/python3.8/site-packages/sklearn/neighbors/_classification.py\u001b[0m in \u001b[0;36mpredict\u001b[0;34m(self, X)\u001b[0m\n\u001b[1;32m    195\u001b[0m         \u001b[0mX\u001b[0m \u001b[0;34m=\u001b[0m \u001b[0mcheck_array\u001b[0m\u001b[0;34m(\u001b[0m\u001b[0mX\u001b[0m\u001b[0;34m,\u001b[0m \u001b[0maccept_sparse\u001b[0m\u001b[0;34m=\u001b[0m\u001b[0;34m'csr'\u001b[0m\u001b[0;34m)\u001b[0m\u001b[0;34m\u001b[0m\u001b[0;34m\u001b[0m\u001b[0m\n\u001b[1;32m    196\u001b[0m \u001b[0;34m\u001b[0m\u001b[0m\n\u001b[0;32m--> 197\u001b[0;31m         \u001b[0mneigh_dist\u001b[0m\u001b[0;34m,\u001b[0m \u001b[0mneigh_ind\u001b[0m \u001b[0;34m=\u001b[0m \u001b[0mself\u001b[0m\u001b[0;34m.\u001b[0m\u001b[0mkneighbors\u001b[0m\u001b[0;34m(\u001b[0m\u001b[0mX\u001b[0m\u001b[0;34m)\u001b[0m\u001b[0;34m\u001b[0m\u001b[0;34m\u001b[0m\u001b[0m\n\u001b[0m\u001b[1;32m    198\u001b[0m         \u001b[0mclasses_\u001b[0m \u001b[0;34m=\u001b[0m \u001b[0mself\u001b[0m\u001b[0;34m.\u001b[0m\u001b[0mclasses_\u001b[0m\u001b[0;34m\u001b[0m\u001b[0;34m\u001b[0m\u001b[0m\n\u001b[1;32m    199\u001b[0m         \u001b[0m_y\u001b[0m \u001b[0;34m=\u001b[0m \u001b[0mself\u001b[0m\u001b[0;34m.\u001b[0m\u001b[0m_y\u001b[0m\u001b[0;34m\u001b[0m\u001b[0;34m\u001b[0m\u001b[0m\n",
      "\u001b[0;32m/opt/anaconda3/envs/metis/lib/python3.8/site-packages/sklearn/neighbors/_base.py\u001b[0m in \u001b[0;36mkneighbors\u001b[0;34m(self, X, n_neighbors, return_distance)\u001b[0m\n\u001b[1;32m    703\u001b[0m                 \u001b[0mkwds\u001b[0m \u001b[0;34m=\u001b[0m \u001b[0mself\u001b[0m\u001b[0;34m.\u001b[0m\u001b[0meffective_metric_params_\u001b[0m\u001b[0;34m\u001b[0m\u001b[0;34m\u001b[0m\u001b[0m\n\u001b[1;32m    704\u001b[0m \u001b[0;34m\u001b[0m\u001b[0m\n\u001b[0;32m--> 705\u001b[0;31m             chunked_results = list(pairwise_distances_chunked(\n\u001b[0m\u001b[1;32m    706\u001b[0m                 \u001b[0mX\u001b[0m\u001b[0;34m,\u001b[0m \u001b[0mself\u001b[0m\u001b[0;34m.\u001b[0m\u001b[0m_fit_X\u001b[0m\u001b[0;34m,\u001b[0m \u001b[0mreduce_func\u001b[0m\u001b[0;34m=\u001b[0m\u001b[0mreduce_func\u001b[0m\u001b[0;34m,\u001b[0m\u001b[0;34m\u001b[0m\u001b[0;34m\u001b[0m\u001b[0m\n\u001b[1;32m    707\u001b[0m                 \u001b[0mmetric\u001b[0m\u001b[0;34m=\u001b[0m\u001b[0mself\u001b[0m\u001b[0;34m.\u001b[0m\u001b[0meffective_metric_\u001b[0m\u001b[0;34m,\u001b[0m \u001b[0mn_jobs\u001b[0m\u001b[0;34m=\u001b[0m\u001b[0mn_jobs\u001b[0m\u001b[0;34m,\u001b[0m\u001b[0;34m\u001b[0m\u001b[0;34m\u001b[0m\u001b[0m\n",
      "\u001b[0;32m/opt/anaconda3/envs/metis/lib/python3.8/site-packages/sklearn/metrics/pairwise.py\u001b[0m in \u001b[0;36mpairwise_distances_chunked\u001b[0;34m(X, Y, reduce_func, metric, n_jobs, working_memory, **kwds)\u001b[0m\n\u001b[1;32m   1621\u001b[0m         \u001b[0;32melse\u001b[0m\u001b[0;34m:\u001b[0m\u001b[0;34m\u001b[0m\u001b[0;34m\u001b[0m\u001b[0m\n\u001b[1;32m   1622\u001b[0m             \u001b[0mX_chunk\u001b[0m \u001b[0;34m=\u001b[0m \u001b[0mX\u001b[0m\u001b[0;34m[\u001b[0m\u001b[0msl\u001b[0m\u001b[0;34m]\u001b[0m\u001b[0;34m\u001b[0m\u001b[0;34m\u001b[0m\u001b[0m\n\u001b[0;32m-> 1623\u001b[0;31m         D_chunk = pairwise_distances(X_chunk, Y, metric=metric,\n\u001b[0m\u001b[1;32m   1624\u001b[0m                                      n_jobs=n_jobs, **kwds)\n\u001b[1;32m   1625\u001b[0m         if ((X is Y or Y is None)\n",
      "\u001b[0;32m/opt/anaconda3/envs/metis/lib/python3.8/site-packages/sklearn/utils/validation.py\u001b[0m in \u001b[0;36minner_f\u001b[0;34m(*args, **kwargs)\u001b[0m\n\u001b[1;32m     61\u001b[0m             \u001b[0mextra_args\u001b[0m \u001b[0;34m=\u001b[0m \u001b[0mlen\u001b[0m\u001b[0;34m(\u001b[0m\u001b[0margs\u001b[0m\u001b[0;34m)\u001b[0m \u001b[0;34m-\u001b[0m \u001b[0mlen\u001b[0m\u001b[0;34m(\u001b[0m\u001b[0mall_args\u001b[0m\u001b[0;34m)\u001b[0m\u001b[0;34m\u001b[0m\u001b[0;34m\u001b[0m\u001b[0m\n\u001b[1;32m     62\u001b[0m             \u001b[0;32mif\u001b[0m \u001b[0mextra_args\u001b[0m \u001b[0;34m<=\u001b[0m \u001b[0;36m0\u001b[0m\u001b[0;34m:\u001b[0m\u001b[0;34m\u001b[0m\u001b[0;34m\u001b[0m\u001b[0m\n\u001b[0;32m---> 63\u001b[0;31m                 \u001b[0;32mreturn\u001b[0m \u001b[0mf\u001b[0m\u001b[0;34m(\u001b[0m\u001b[0;34m*\u001b[0m\u001b[0margs\u001b[0m\u001b[0;34m,\u001b[0m \u001b[0;34m**\u001b[0m\u001b[0mkwargs\u001b[0m\u001b[0;34m)\u001b[0m\u001b[0;34m\u001b[0m\u001b[0;34m\u001b[0m\u001b[0m\n\u001b[0m\u001b[1;32m     64\u001b[0m \u001b[0;34m\u001b[0m\u001b[0m\n\u001b[1;32m     65\u001b[0m             \u001b[0;31m# extra_args > 0\u001b[0m\u001b[0;34m\u001b[0m\u001b[0;34m\u001b[0m\u001b[0;34m\u001b[0m\u001b[0m\n",
      "\u001b[0;32m/opt/anaconda3/envs/metis/lib/python3.8/site-packages/sklearn/metrics/pairwise.py\u001b[0m in \u001b[0;36mpairwise_distances\u001b[0;34m(X, Y, metric, n_jobs, force_all_finite, **kwds)\u001b[0m\n\u001b[1;32m   1788\u001b[0m         \u001b[0mfunc\u001b[0m \u001b[0;34m=\u001b[0m \u001b[0mpartial\u001b[0m\u001b[0;34m(\u001b[0m\u001b[0mdistance\u001b[0m\u001b[0;34m.\u001b[0m\u001b[0mcdist\u001b[0m\u001b[0;34m,\u001b[0m \u001b[0mmetric\u001b[0m\u001b[0;34m=\u001b[0m\u001b[0mmetric\u001b[0m\u001b[0;34m,\u001b[0m \u001b[0;34m**\u001b[0m\u001b[0mkwds\u001b[0m\u001b[0;34m)\u001b[0m\u001b[0;34m\u001b[0m\u001b[0;34m\u001b[0m\u001b[0m\n\u001b[1;32m   1789\u001b[0m \u001b[0;34m\u001b[0m\u001b[0m\n\u001b[0;32m-> 1790\u001b[0;31m     \u001b[0;32mreturn\u001b[0m \u001b[0m_parallel_pairwise\u001b[0m\u001b[0;34m(\u001b[0m\u001b[0mX\u001b[0m\u001b[0;34m,\u001b[0m \u001b[0mY\u001b[0m\u001b[0;34m,\u001b[0m \u001b[0mfunc\u001b[0m\u001b[0;34m,\u001b[0m \u001b[0mn_jobs\u001b[0m\u001b[0;34m,\u001b[0m \u001b[0;34m**\u001b[0m\u001b[0mkwds\u001b[0m\u001b[0;34m)\u001b[0m\u001b[0;34m\u001b[0m\u001b[0;34m\u001b[0m\u001b[0m\n\u001b[0m\u001b[1;32m   1791\u001b[0m \u001b[0;34m\u001b[0m\u001b[0m\n\u001b[1;32m   1792\u001b[0m \u001b[0;34m\u001b[0m\u001b[0m\n",
      "\u001b[0;32m/opt/anaconda3/envs/metis/lib/python3.8/site-packages/sklearn/metrics/pairwise.py\u001b[0m in \u001b[0;36m_parallel_pairwise\u001b[0;34m(X, Y, func, n_jobs, **kwds)\u001b[0m\n\u001b[1;32m   1357\u001b[0m \u001b[0;34m\u001b[0m\u001b[0m\n\u001b[1;32m   1358\u001b[0m     \u001b[0;32mif\u001b[0m \u001b[0meffective_n_jobs\u001b[0m\u001b[0;34m(\u001b[0m\u001b[0mn_jobs\u001b[0m\u001b[0;34m)\u001b[0m \u001b[0;34m==\u001b[0m \u001b[0;36m1\u001b[0m\u001b[0;34m:\u001b[0m\u001b[0;34m\u001b[0m\u001b[0;34m\u001b[0m\u001b[0m\n\u001b[0;32m-> 1359\u001b[0;31m         \u001b[0;32mreturn\u001b[0m \u001b[0mfunc\u001b[0m\u001b[0;34m(\u001b[0m\u001b[0mX\u001b[0m\u001b[0;34m,\u001b[0m \u001b[0mY\u001b[0m\u001b[0;34m,\u001b[0m \u001b[0;34m**\u001b[0m\u001b[0mkwds\u001b[0m\u001b[0;34m)\u001b[0m\u001b[0;34m\u001b[0m\u001b[0;34m\u001b[0m\u001b[0m\n\u001b[0m\u001b[1;32m   1360\u001b[0m \u001b[0;34m\u001b[0m\u001b[0m\n\u001b[1;32m   1361\u001b[0m     \u001b[0;31m# enforce a threading backend to prevent data communication overhead\u001b[0m\u001b[0;34m\u001b[0m\u001b[0;34m\u001b[0m\u001b[0;34m\u001b[0m\u001b[0m\n",
      "\u001b[0;32m/opt/anaconda3/envs/metis/lib/python3.8/site-packages/sklearn/utils/validation.py\u001b[0m in \u001b[0;36minner_f\u001b[0;34m(*args, **kwargs)\u001b[0m\n\u001b[1;32m     61\u001b[0m             \u001b[0mextra_args\u001b[0m \u001b[0;34m=\u001b[0m \u001b[0mlen\u001b[0m\u001b[0;34m(\u001b[0m\u001b[0margs\u001b[0m\u001b[0;34m)\u001b[0m \u001b[0;34m-\u001b[0m \u001b[0mlen\u001b[0m\u001b[0;34m(\u001b[0m\u001b[0mall_args\u001b[0m\u001b[0;34m)\u001b[0m\u001b[0;34m\u001b[0m\u001b[0;34m\u001b[0m\u001b[0m\n\u001b[1;32m     62\u001b[0m             \u001b[0;32mif\u001b[0m \u001b[0mextra_args\u001b[0m \u001b[0;34m<=\u001b[0m \u001b[0;36m0\u001b[0m\u001b[0;34m:\u001b[0m\u001b[0;34m\u001b[0m\u001b[0;34m\u001b[0m\u001b[0m\n\u001b[0;32m---> 63\u001b[0;31m                 \u001b[0;32mreturn\u001b[0m \u001b[0mf\u001b[0m\u001b[0;34m(\u001b[0m\u001b[0;34m*\u001b[0m\u001b[0margs\u001b[0m\u001b[0;34m,\u001b[0m \u001b[0;34m**\u001b[0m\u001b[0mkwargs\u001b[0m\u001b[0;34m)\u001b[0m\u001b[0;34m\u001b[0m\u001b[0;34m\u001b[0m\u001b[0m\n\u001b[0m\u001b[1;32m     64\u001b[0m \u001b[0;34m\u001b[0m\u001b[0m\n\u001b[1;32m     65\u001b[0m             \u001b[0;31m# extra_args > 0\u001b[0m\u001b[0;34m\u001b[0m\u001b[0;34m\u001b[0m\u001b[0;34m\u001b[0m\u001b[0m\n",
      "\u001b[0;32m/opt/anaconda3/envs/metis/lib/python3.8/site-packages/sklearn/metrics/pairwise.py\u001b[0m in \u001b[0;36meuclidean_distances\u001b[0;34m(X, Y, Y_norm_squared, squared, X_norm_squared)\u001b[0m\n\u001b[1;32m    313\u001b[0m         \u001b[0mdistances\u001b[0m \u001b[0;34m=\u001b[0m \u001b[0;34m-\u001b[0m \u001b[0;36m2\u001b[0m \u001b[0;34m*\u001b[0m \u001b[0msafe_sparse_dot\u001b[0m\u001b[0;34m(\u001b[0m\u001b[0mX\u001b[0m\u001b[0;34m,\u001b[0m \u001b[0mY\u001b[0m\u001b[0;34m.\u001b[0m\u001b[0mT\u001b[0m\u001b[0;34m,\u001b[0m \u001b[0mdense_output\u001b[0m\u001b[0;34m=\u001b[0m\u001b[0;32mTrue\u001b[0m\u001b[0;34m)\u001b[0m\u001b[0;34m\u001b[0m\u001b[0;34m\u001b[0m\u001b[0m\n\u001b[1;32m    314\u001b[0m         \u001b[0mdistances\u001b[0m \u001b[0;34m+=\u001b[0m \u001b[0mXX\u001b[0m\u001b[0;34m\u001b[0m\u001b[0;34m\u001b[0m\u001b[0m\n\u001b[0;32m--> 315\u001b[0;31m         \u001b[0mdistances\u001b[0m \u001b[0;34m+=\u001b[0m \u001b[0mYY\u001b[0m\u001b[0;34m\u001b[0m\u001b[0;34m\u001b[0m\u001b[0m\n\u001b[0m\u001b[1;32m    316\u001b[0m     \u001b[0mnp\u001b[0m\u001b[0;34m.\u001b[0m\u001b[0mmaximum\u001b[0m\u001b[0;34m(\u001b[0m\u001b[0mdistances\u001b[0m\u001b[0;34m,\u001b[0m \u001b[0;36m0\u001b[0m\u001b[0;34m,\u001b[0m \u001b[0mout\u001b[0m\u001b[0;34m=\u001b[0m\u001b[0mdistances\u001b[0m\u001b[0;34m)\u001b[0m\u001b[0;34m\u001b[0m\u001b[0;34m\u001b[0m\u001b[0m\n\u001b[1;32m    317\u001b[0m \u001b[0;34m\u001b[0m\u001b[0m\n",
      "\u001b[0;31mKeyboardInterrupt\u001b[0m: "
     ]
    }
   ],
   "source": [
    "knn = KNeighborsClassifier(n_neighbors=3)\n",
    "\n",
    "knn.fit(X_train, y_train)\n",
    "knn.score(X_train, y_train)\n",
    "\n",
    "y_preds_knn = knn.predict(X_train)\n",
    "y_preds_knn2 = knn.predict(X_val)\n",
    "\n",
    "\n",
    "APRF2(y_train, y_preds_knn, y_val, y_preds_knn2)\n"
   ]
  },
  {
   "cell_type": "code",
   "execution_count": null,
   "id": "expanded-demonstration",
   "metadata": {},
   "outputs": [],
   "source": [
    "knn = KNeighborsClassifier(n_neighbors=3)\n",
    "\n",
    "ss = StandardScaler()\n",
    "X_train_scaled = ss.fit_transform(X_train)\n",
    "\n",
    "knn.fit(X_train_scaled, y_train)\n",
    "knn.score(X_train_scaled, y_train)\n",
    "\n",
    "y_preds_knn = knn.predict(X_train_scaled)\n",
    "\n",
    "APRF(y_train, y_preds_knn)\n"
   ]
  },
  {
   "cell_type": "code",
   "execution_count": 342,
   "id": "coordinate-cosmetic",
   "metadata": {},
   "outputs": [
    {
     "name": "stdout",
     "output_type": "stream",
     "text": [
      "[00:45:08] WARNING: ../src/learner.cc:1061: Starting in XGBoost 1.3.0, the default evaluation metric used with the objective 'binary:logistic' was changed from 'error' to 'logloss'. Explicitly set eval_metric if you'd like to restore the old behavior.\n"
     ]
    }
   ],
   "source": [
    "clf = XGBClassifier(use_label_encoder=False)\n",
    "clf.fit(X_train, y_train)\n",
    "y_pred = clf.predict(X_train)"
   ]
  },
  {
   "cell_type": "code",
   "execution_count": 343,
   "id": "specialized-collect",
   "metadata": {},
   "outputs": [
    {
     "name": "stdout",
     "output_type": "stream",
     "text": [
      "\n",
      "Training:\n",
      "Accuracy:  0.9492118168312276\n",
      "Precision: 0.8962962962962963\n",
      "Recall:    0.004457050243111832\n",
      "F1:        0.008869992302899242\n",
      "Fbeta:     0.005564395228416125\n",
      "\n",
      "Validation:\n",
      "Accuracy:  0.9489902860105028\n",
      "Precision: 0.45454545454545453\n",
      "Recall:    0.0016574585635359116\n",
      "F1:        0.0033028734999449526\n",
      "Fbeta:     0.0020699362459636246\n"
     ]
    },
    {
     "data": {
      "image/png": "[encoded data removed]",
      "text/plain": [
       "<Figure size 432x432 with 4 Axes>"
      ]
     },
     "metadata": {
      "needs_background": "light"
     },
     "output_type": "display_data"
    }
   ],
   "source": [
    "y_pred2 = clf.predict(X_val)\n",
    "\n",
    "APRF2(y_train, y_pred, y_val, y_pred2)"
   ]
  },
  {
   "cell_type": "code",
   "execution_count": 346,
   "id": "informational-holmes",
   "metadata": {},
   "outputs": [
    {
     "data": {
      "text/plain": [
       "Text(0.5, 1.0, '2-class Precision-Recall curve: AP=0.18')"
      ]
     },
     "execution_count": 346,
     "metadata": {},
     "output_type": "execute_result"
    },
    {
     "data": {
      "image/png": "[encoded data removed]",
      "text/plain": [
       "<Figure size 432x288 with 1 Axes>"
      ]
     },
     "metadata": {
      "needs_background": "light"
     },
     "output_type": "display_data"
    }
   ],
   "source": [
    "from sklearn.metrics import precision_recall_curve\n",
    "from sklearn.metrics import plot_precision_recall_curve\n",
    "from sklearn.metrics import average_precision_score\n",
    "\n",
    "average_precision = average_precision_score(y_train, clf.predict_proba(X_train)[:,1])\n",
    "\n",
    "disp = plot_precision_recall_curve(clf, X_train, y_train)\n",
    "disp.ax_.set_title('2-class Precision-Recall curve: '\n",
    "                   'AP={0:0.2f}'.format(average_precision))"
   ]
  },
  {
   "cell_type": "code",
   "execution_count": null,
   "id": "declared-cycling",
   "metadata": {},
   "outputs": [],
   "source": [
    "# ss = StandardScaler()\n",
    "# X_train_scaled = ss.fit_transform(X_train)\n",
    "\n",
    "weights = {1:20, 0:1}\n",
    "\n",
    "lm = LogisticRegression(C=1000, class_weight = weights, max_iter=200)\n",
    "#lm = LogisticRegression(C=1000)\n",
    "\n",
    "ss = StandardScaler()\n",
    "X_train_scaled = ss.fit_transform(X_train)\n",
    "X_val_scaled = ss.transform(X_val)\n",
    "\n",
    "lm.fit(X_train_scaled, y_train)\n",
    "\n",
    "lm.score(X_train_scaled, y_train)"
   ]
  },
  {
   "cell_type": "code",
   "execution_count": 402,
   "id": "matched-arbor",
   "metadata": {},
   "outputs": [
    {
     "name": "stdout",
     "output_type": "stream",
     "text": [
      "ROC AUC   0.6706032356760118\n",
      "ROC AUC   0.6706032356760118\n",
      "\n",
      "Training:\n",
      "Accuracy:  0.8316670642172542\n",
      "Precision: 0.10770930918863257\n",
      "Recall:    0.3159348754972742\n",
      "F1:        0.1606495659258843\n",
      "Fbeta:     0.2278414433942717\n",
      "\n",
      "Validation:\n",
      "Accuracy:  0.8316670642172542\n",
      "Precision: 0.10770930918863257\n",
      "Recall:    0.3159348754972742\n",
      "F1:        0.1606495659258843\n",
      "Fbeta:     0.2278414433942717\n"
     ]
    },
    {
     "data": {
      "image/png": "[encoded data removed]",
      "text/plain": [
       "<Figure size 432x432 with 4 Axes>"
      ]
     },
     "metadata": {},
     "output_type": "display_data"
    }
   ],
   "source": [
    "y_preds = lm.predict(X_train_scaled)\n",
    "y_preds2 = lm.predict(X_val_scaled)\n",
    "\n",
    "y_preds = lm.predict_proba(X_train_scaled)[:,1] >= 0.625\n",
    "y_preds2 = lm.predict_proba(X_val_scaled)[:,1] >= 0.625\n",
    "\n",
    "print('ROC AUC   {}'.format(roc_auc_score(y_train, lm.predict_proba(X_train_scaled)[:,1])))\n",
    "print('ROC AUC   {}'.format(roc_auc_score(y_val, lm.predict_proba(X_val_scaled)[:,1])))\n",
    "\n",
    "\n",
    "APRF2(y_train, y_preds, y_val, y_preds2)"
   ]
  },
  {
   "cell_type": "code",
   "execution_count": 405,
   "id": "expensive-mambo",
   "metadata": {},
   "outputs": [
    {
     "name": "stdout",
     "output_type": "stream",
     "text": [
      "Logistic Regression Model best F1 score 0.268 at prob decision threshold >= 0.512\n"
     ]
    },
    {
     "data": {
      "image/png": "[encoded data removed]",
      "text/plain": [
       "<Figure size 432x288 with 1 Axes>"
      ]
     },
     "metadata": {},
     "output_type": "display_data"
    }
   ],
   "source": [
    "thresh_ps = np.linspace(.10,.90,100)\n",
    "\n",
    "beta = 2\n",
    "\n",
    "model_val_probs = lm.predict_proba(X_train_scaled)[:,1] # positive class probs, same basic logistic model we fit in section 2 \n",
    "\n",
    "f1_scores, prec_scores, rec_scores, acc_scores, f1b_scores = [], [], [], [], []\n",
    "for p in thresh_ps:\n",
    "    model_val_labels = model_val_probs >= p\n",
    "    f1_scores.append(f1_score(y_train, model_val_labels))    \n",
    "    prec_scores.append(precision_score(y_train, model_val_labels))\n",
    "    rec_scores.append(recall_score(y_train, model_val_labels))\n",
    "    acc_scores.append(accuracy_score(y_train, model_val_labels))\n",
    "    f1b_scores.append(fbeta_score(y_train, model_val_labels, beta=2))        \n",
    "    \n",
    "plt.plot(thresh_ps, f1_scores)\n",
    "plt.plot(thresh_ps, prec_scores)\n",
    "plt.plot(thresh_ps, rec_scores)\n",
    "plt.plot(thresh_ps, acc_scores)\n",
    "plt.plot(thresh_ps, f1b_scores)\n",
    "\n",
    "plt.title('Metric Scores vs. Positive Class Decision Probability Threshold')\n",
    "plt.legend(['F1','Precision','Recall','Accuracy',f'F1_beta({beta})'], bbox_to_anchor=(1.05, 0), loc='lower left')\n",
    "plt.xlabel('P threshold')\n",
    "plt.ylabel('Metric score')\n",
    "\n",
    "best_f1_score = np.max(f1b_scores) \n",
    "best_thresh_p = thresh_ps[np.argmax(f1b_scores)]\n",
    "\n",
    "print('Logistic Regression Model best F1 score %.3f at prob decision threshold >= %.3f' \n",
    "      % (best_f1_score, best_thresh_p))"
   ]
  },
  {
   "cell_type": "code",
   "execution_count": 367,
   "id": "regional-office",
   "metadata": {},
   "outputs": [
    {
     "data": {
      "text/plain": [
       "<sklearn.metrics._plot.roc_curve.RocCurveDisplay at 0x7fc9efb6e790>"
      ]
     },
     "execution_count": 367,
     "metadata": {},
     "output_type": "execute_result"
    },
    {
     "data": {
      "image/png": "[encoded data removed]",
      "text/plain": [
       "<Figure size 432x288 with 1 Axes>"
      ]
     },
     "metadata": {},
     "output_type": "display_data"
    }
   ],
   "source": [
    "y_pred_proba = lm.predict_proba(X_test)[:,1]\n",
    "#fpr, tpr, thresholds = roc_curve(y_test, y_pred_proba)\n",
    "\n",
    "plot_roc_curve(lm, X_train, y_train)"
   ]
  },
  {
   "cell_type": "code",
   "execution_count": 445,
   "id": "developed-sailing",
   "metadata": {},
   "outputs": [
    {
     "name": "stdout",
     "output_type": "stream",
     "text": [
      "ROC AUC   0.670669817805761\n",
      "ROC AUC   0.6745045334597164\n",
      "\n",
      "Training:\n",
      "Accuracy:  0.6276578761032029\n",
      "Precision: 0.08211335648724825\n",
      "Recall:    0.6191984676587594\n",
      "F1:        0.14499816703685334\n",
      "Fbeta:     0.26826551423674394\n",
      "\n",
      "Validation:\n",
      "Accuracy:  0.6281412698054948\n",
      "Precision: 0.0824338593300874\n",
      "Recall:    0.6211049723756906\n",
      "F1:        0.1455501178176545\n",
      "Fbeta:     0.26923592750124536\n"
     ]
    },
    {
     "data": {
      "image/png": "[encoded data removed]",
      "text/plain": [
       "<Figure size 432x432 with 4 Axes>"
      ]
     },
     "metadata": {
      "needs_background": "light"
     },
     "output_type": "display_data"
    }
   ],
   "source": [
    "# ss = StandardScaler()\n",
    "# X_train_scaled = ss.fit_transform(X_train)\n",
    "\n",
    "lm = LogisticRegression(C=1000, class_weight='balanced' )\n",
    "\n",
    "ss = StandardScaler()\n",
    "X_train_scaled = ss.fit_transform(X_train)\n",
    "X_val_scaled = ss.transform(X_val)\n",
    "\n",
    "lm.fit(X_train_scaled, y_train)\n",
    "\n",
    "lm.score(X_train_scaled, y_train)\n",
    "\n",
    "y_preds = lm.predict(X_train_scaled)\n",
    "y_preds2 = lm.predict(X_val_scaled)\n",
    "\n",
    "print('ROC AUC   {}'.format(roc_auc_score(y_train, lm.predict_proba(X_train_scaled)[:,1])))\n",
    "print('ROC AUC   {}'.format(roc_auc_score(y_val, lm.predict_proba(X_val_scaled)[:,1])))\n",
    "\n",
    "\n",
    "APRF2(y_train, y_preds, y_val, y_preds2)"
   ]
  },
  {
   "cell_type": "code",
   "execution_count": 202,
   "id": "honey-copyright",
   "metadata": {},
   "outputs": [
    {
     "name": "stdout",
     "output_type": "stream",
     "text": [
      "['addr_state_AL', 'addr_state_AR', 'addr_state_AZ', 'addr_state_CA', 'addr_state_CO', 'addr_state_CT', 'addr_state_DC', 'addr_state_DE', 'addr_state_FL', 'addr_state_GA', 'addr_state_HI', 'addr_state_IA', 'addr_state_ID', 'addr_state_IL', 'addr_state_IN', 'addr_state_KS', 'addr_state_KY', 'addr_state_LA', 'addr_state_MA', 'addr_state_MD', 'addr_state_ME', 'addr_state_MI', 'addr_state_MN', 'addr_state_MO', 'addr_state_MS', 'addr_state_MT', 'addr_state_NC', 'addr_state_ND', 'addr_state_NE', 'addr_state_NH', 'addr_state_NJ', 'addr_state_NM', 'addr_state_NV', 'addr_state_NY', 'addr_state_OH', 'addr_state_OK', 'addr_state_OR', 'addr_state_PA', 'addr_state_RI', 'addr_state_SC', 'addr_state_SD', 'addr_state_TN', 'addr_state_TX', 'addr_state_UT', 'addr_state_VA', 'addr_state_VT', 'addr_state_WA', 'addr_state_WI', 'addr_state_WV', 'addr_state_WY', 'purpose_credit_card', 'purpose_debt_consolidation', 'purpose_educational', 'purpose_home_improvement', 'purpose_house', 'purpose_major_purchase', 'purpose_medical', 'purpose_moving', 'purpose_other', 'purpose_renewable_energy', 'purpose_small_business', 'purpose_vacation', 'purpose_wedding', 'verification_status_Source Verified', 'verification_status_Verified', 'home_ownership2_OTHER', 'home_ownership2_OWN', 'home_ownership2_RENT']\n"
     ]
    },
    {
     "data": {
      "text/plain": [
       "BernoulliNB()"
      ]
     },
     "execution_count": 202,
     "metadata": {},
     "output_type": "execute_result"
    }
   ],
   "source": [
    "# binary_X = ['term2',\n",
    "#        'home_ownership2_OTHER', 'home_ownership2_OWN', 'home_ownership2_RENT',\n",
    "#        'verification_status_Source Verified', 'verification_status_Verified',\n",
    "#        'purpose_credit_card', 'purpose_debt_consolidation',\n",
    "#        'purpose_educational', 'purpose_home_improvement', 'purpose_house',\n",
    "#        'purpose_major_purchase', 'purpose_medical', 'purpose_moving',\n",
    "#        'purpose_other', 'purpose_renewable_energy', 'purpose_small_business',\n",
    "#        'purpose_vacation', 'purpose_wedding']\n",
    "\n",
    "binary_X = getdummycols(X, ['addr_', 'purpose_', 'verification_status_','home_ownership2_'])\n",
    "print(binary_X)\n",
    "\n",
    "bnb = BernoulliNB()\n",
    "bnb.fit(X_train[binary_X], y_train)\n"
   ]
  },
  {
   "cell_type": "code",
   "execution_count": 356,
   "id": "regulation-expression",
   "metadata": {},
   "outputs": [
    {
     "name": "stdout",
     "output_type": "stream",
     "text": [
      "\n",
      "Training:\n",
      "Accuracy:  0.9490089721219999\n",
      "Precision: 0.0\n",
      "Recall:    0.0\n",
      "F1:        0.0\n",
      "Fbeta:     0.0\n",
      "\n",
      "Validation:\n",
      "Accuracy:  0.9490071897045235\n",
      "Precision: 0.0\n",
      "Recall:    0.0\n",
      "F1:        0.0\n",
      "Fbeta:     0.0\n"
     ]
    },
    {
     "data": {
      "image/png": "[encoded data removed]",
      "text/plain": [
       "<Figure size 432x432 with 4 Axes>"
      ]
     },
     "metadata": {
      "needs_background": "light"
     },
     "output_type": "display_data"
    }
   ],
   "source": [
    "y_preds = bnb.predict(X_train[binary_X])\n",
    "y_preds2 = bnb.predict(X_val[binary_X])\n",
    "\n",
    "\n",
    "APRF2(y_train, y_preds, y_val, y_preds2)"
   ]
  },
  {
   "cell_type": "code",
   "execution_count": null,
   "id": "metric-producer",
   "metadata": {},
   "outputs": [],
   "source": []
  },
  {
   "cell_type": "code",
   "execution_count": null,
   "id": "actual-radius",
   "metadata": {},
   "outputs": [],
   "source": [
    "loans.head()"
   ]
  },
  {
   "cell_type": "code",
   "execution_count": null,
   "id": "creative-argument",
   "metadata": {},
   "outputs": [],
   "source": [
    "loans.info()"
   ]
  },
  {
   "cell_type": "code",
   "execution_count": null,
   "id": "confident-effect",
   "metadata": {},
   "outputs": [],
   "source": [
    "loans.open_acc.describe()"
   ]
  },
  {
   "cell_type": "code",
   "execution_count": null,
   "id": "lucky-disease",
   "metadata": {},
   "outputs": [],
   "source": [
    "sns.pairplot(loans, )"
   ]
  },
  {
   "cell_type": "code",
   "execution_count": null,
   "id": "exact-composer",
   "metadata": {},
   "outputs": [],
   "source": [
    "sns.boxplot(x='open_acc', hue='loan_status', data = loans)"
   ]
  },
  {
   "cell_type": "code",
   "execution_count": null,
   "id": "dramatic-inside",
   "metadata": {},
   "outputs": [],
   "source": [
    "loans.home_ownership.value_counts(dropna=False)"
   ]
  },
  {
   "cell_type": "code",
   "execution_count": null,
   "id": "tutorial-promotion",
   "metadata": {},
   "outputs": [],
   "source": [
    "loans.grade.value_counts()"
   ]
  },
  {
   "cell_type": "code",
   "execution_count": null,
   "id": "chinese-analysis",
   "metadata": {},
   "outputs": [],
   "source": [
    "mapper =  {y:x for x,y in enumerate(\"ABCDEFG\")}\n",
    "mapper"
   ]
  },
  {
   "cell_type": "code",
   "execution_count": null,
   "id": "perfect-combat",
   "metadata": {},
   "outputs": [],
   "source": [
    "loans[\"grade2\"] = loans.grade.map(mapper)"
   ]
  },
  {
   "cell_type": "code",
   "execution_count": null,
   "id": "amateur-gothic",
   "metadata": {},
   "outputs": [],
   "source": [
    "loans.grade2.value_counts()"
   ]
  },
  {
   "cell_type": "code",
   "execution_count": null,
   "id": "scenic-person",
   "metadata": {},
   "outputs": [],
   "source": [
    "#X = loans.drop(columns=\"y\")\n",
    "X = loans[['loan_amnt', 'int_rate']] "
   ]
  },
  {
   "cell_type": "code",
   "execution_count": null,
   "id": "expired-credits",
   "metadata": {},
   "outputs": [],
   "source": [
    "X_train, X_test, y_train, y_test = train_test_split(X, loans.y, test_size=0.2, random_state=13)"
   ]
  },
  {
   "cell_type": "code",
   "execution_count": null,
   "id": "parental-wireless",
   "metadata": {},
   "outputs": [],
   "source": [
    "X_train.shape, X_test.shape, y_train.shape, y_test.shape"
   ]
  },
  {
   "cell_type": "code",
   "execution_count": null,
   "id": "legislative-biology",
   "metadata": {},
   "outputs": [],
   "source": []
  },
  {
   "cell_type": "code",
   "execution_count": null,
   "id": "adverse-lesbian",
   "metadata": {},
   "outputs": [],
   "source": []
  },
  {
   "cell_type": "code",
   "execution_count": null,
   "id": "vertical-glass",
   "metadata": {},
   "outputs": [],
   "source": [
    "def plot_features(df, sample_size=500):\n",
    "    \n",
    "#    sample = (df.drop(['product_id','user_id','latest_cart'],axis=1)\n",
    " #               .sample(1000, random_state=44)) \n",
    "    sample = df.sample(1000, random_state= 42)\n",
    "    sns.pairplot(sample, hue='y', plot_kws=dict(alpha=.3, edgecolor='none'))"
   ]
  },
  {
   "cell_type": "code",
   "execution_count": null,
   "id": "alive-spyware",
   "metadata": {},
   "outputs": [],
   "source": [
    "plot_features(loans[['y', 'annual_inc', 'delinq_2yrs', 'total_acc', 'revol_util', 'revol_bal']])"
   ]
  },
  {
   "cell_type": "code",
   "execution_count": null,
   "id": "straight-ontario",
   "metadata": {},
   "outputs": [],
   "source": []
  },
  {
   "cell_type": "code",
   "execution_count": null,
   "id": "public-jacksonville",
   "metadata": {},
   "outputs": [],
   "source": [
    "loans.annual_inc.hist(bins= 100)\n"
   ]
  },
  {
   "cell_type": "code",
   "execution_count": null,
   "id": "super-consumption",
   "metadata": {},
   "outputs": [],
   "source": [
    "loans.annual_inc.value_counts(dropna=False)"
   ]
  },
  {
   "cell_type": "code",
   "execution_count": null,
   "id": "adapted-diagnosis",
   "metadata": {},
   "outputs": [],
   "source": [
    "loans.annual_inc.mean()"
   ]
  },
  {
   "cell_type": "code",
   "execution_count": null,
   "id": "specific-knife",
   "metadata": {},
   "outputs": [],
   "source": [
    "loans[loans.y == 0].annual_inc.mean(), loans[loans.y == 1].annual_inc.mean()"
   ]
  },
  {
   "cell_type": "code",
   "execution_count": null,
   "id": "australian-insulin",
   "metadata": {},
   "outputs": [],
   "source": [
    "loans[loans.y == 0].total_acc.mean(), loans[loans.y == 1].total_acc.mean()"
   ]
  },
  {
   "cell_type": "code",
   "execution_count": null,
   "id": "informational-lawrence",
   "metadata": {},
   "outputs": [],
   "source": [
    "loans[loans.y == 0].open_acc.mean(), loans[loans.y == 1].open_acc.mean()"
   ]
  },
  {
   "cell_type": "code",
   "execution_count": null,
   "id": "faced-wednesday",
   "metadata": {},
   "outputs": [],
   "source": [
    "loans[loans.y == 0].revol_util.mean(), loans[loans.y == 1].revol_util.mean()"
   ]
  },
  {
   "cell_type": "code",
   "execution_count": null,
   "id": "viral-sentence",
   "metadata": {},
   "outputs": [],
   "source": [
    "loans[loans.y == 0].delinq_2yrs.mean(), loans[loans.y == 1].delinq_2yrs.mean()"
   ]
  },
  {
   "cell_type": "code",
   "execution_count": 1,
   "id": "annual-manor",
   "metadata": {},
   "outputs": [
    {
     "name": "stdout",
     "output_type": "stream",
     "text": [
      "Feature:\tNonDefault\t\tDefault\t\tAll\t\tDifference\n"
     ]
    },
    {
     "ename": "NameError",
     "evalue": "name 'np' is not defined",
     "output_type": "error",
     "traceback": [
      "\u001b[0;31m---------------------------------------------------------------------------\u001b[0m",
      "\u001b[0;31mNameError\u001b[0m                                 Traceback (most recent call last)",
      "\u001b[0;32m<ipython-input-1-099427b8737f>\u001b[0m in \u001b[0;36m<module>\u001b[0;34m\u001b[0m\n\u001b[1;32m      5\u001b[0m \u001b[0mprint\u001b[0m\u001b[0;34m(\u001b[0m\u001b[0;34m\"Feature:\\tNonDefault\\t\\tDefault\\t\\tAll\\t\\tDifference\"\u001b[0m\u001b[0;34m)\u001b[0m\u001b[0;34m\u001b[0m\u001b[0;34m\u001b[0m\u001b[0m\n\u001b[1;32m      6\u001b[0m \u001b[0;32mfor\u001b[0m \u001b[0mi\u001b[0m \u001b[0;32min\u001b[0m \u001b[0mfeats\u001b[0m\u001b[0;34m:\u001b[0m\u001b[0;34m\u001b[0m\u001b[0;34m\u001b[0m\u001b[0m\n\u001b[0;32m----> 7\u001b[0;31m     \u001b[0mdefault\u001b[0m \u001b[0;34m=\u001b[0m \u001b[0mnp\u001b[0m\u001b[0;34m.\u001b[0m\u001b[0mround\u001b[0m\u001b[0;34m(\u001b[0m\u001b[0mloans\u001b[0m\u001b[0;34m[\u001b[0m\u001b[0mloans\u001b[0m\u001b[0;34m.\u001b[0m\u001b[0my\u001b[0m \u001b[0;34m==\u001b[0m \u001b[0;36m1\u001b[0m\u001b[0;34m]\u001b[0m\u001b[0;34m[\u001b[0m\u001b[0mi\u001b[0m\u001b[0;34m]\u001b[0m\u001b[0;34m.\u001b[0m\u001b[0mmean\u001b[0m\u001b[0;34m(\u001b[0m\u001b[0;34m)\u001b[0m\u001b[0;34m,\u001b[0m\u001b[0;36m2\u001b[0m\u001b[0;34m)\u001b[0m\u001b[0;34m\u001b[0m\u001b[0;34m\u001b[0m\u001b[0m\n\u001b[0m\u001b[1;32m      8\u001b[0m     \u001b[0mnondefault\u001b[0m \u001b[0;34m=\u001b[0m \u001b[0mnp\u001b[0m\u001b[0;34m.\u001b[0m\u001b[0mround\u001b[0m\u001b[0;34m(\u001b[0m\u001b[0mloans\u001b[0m\u001b[0;34m[\u001b[0m\u001b[0mloans\u001b[0m\u001b[0;34m.\u001b[0m\u001b[0my\u001b[0m \u001b[0;34m==\u001b[0m \u001b[0;36m0\u001b[0m\u001b[0;34m]\u001b[0m\u001b[0;34m[\u001b[0m\u001b[0mi\u001b[0m\u001b[0;34m]\u001b[0m\u001b[0;34m.\u001b[0m\u001b[0mmean\u001b[0m\u001b[0;34m(\u001b[0m\u001b[0;34m)\u001b[0m\u001b[0;34m,\u001b[0m\u001b[0;36m2\u001b[0m\u001b[0;34m)\u001b[0m\u001b[0;34m\u001b[0m\u001b[0;34m\u001b[0m\u001b[0m\n\u001b[1;32m      9\u001b[0m     \u001b[0mtotal\u001b[0m \u001b[0;34m=\u001b[0m \u001b[0mnp\u001b[0m\u001b[0;34m.\u001b[0m\u001b[0mround\u001b[0m\u001b[0;34m(\u001b[0m\u001b[0mloans\u001b[0m\u001b[0;34m[\u001b[0m\u001b[0mi\u001b[0m\u001b[0;34m]\u001b[0m\u001b[0;34m.\u001b[0m\u001b[0mmean\u001b[0m\u001b[0;34m(\u001b[0m\u001b[0;34m)\u001b[0m\u001b[0;34m,\u001b[0m\u001b[0;36m2\u001b[0m\u001b[0;34m)\u001b[0m\u001b[0;34m\u001b[0m\u001b[0;34m\u001b[0m\u001b[0m\n",
      "\u001b[0;31mNameError\u001b[0m: name 'np' is not defined"
     ]
    }
   ],
   "source": [
    "# check split by mean over features\n",
    "feats = ['annual_inc', 'total_acc', 'open_acc', 'revol_util',\n",
    "         'delinq_2yrs', 'home_ownership']\n",
    "\n",
    "print(\"Feature:\\tNonDefault\\t\\tDefault\\t\\tAll\\t\\tDifference\")\n",
    "for i in feats:\n",
    "    default = np.round(loans[loans.y == 1][i].mean(),2)\n",
    "    nondefault = np.round(loans[loans.y == 0][i].mean(),2)\n",
    "    total = np.round(loans[i].mean(),2)\n",
    "    diff = np.round((default - nondefault) / nondefault,2)\n",
    "    print(f\"'{i}':\\t{default}\\t\\t{nondefault}\\t\\t{total}\\t\\t{diff}\")\n",
    "    \n",
    "    \n",
    "    "
   ]
  },
  {
   "cell_type": "code",
   "execution_count": null,
   "id": "original-richmond",
   "metadata": {},
   "outputs": [],
   "source": [
    "loans[['home_ownership','y']].value_counts()"
   ]
  },
  {
   "cell_type": "code",
   "execution_count": null,
   "id": "split-contractor",
   "metadata": {},
   "outputs": [],
   "source": [
    "loans.home_ownership.value_counts(dropna=False)"
   ]
  },
  {
   "cell_type": "code",
   "execution_count": null,
   "id": "noble-coverage",
   "metadata": {},
   "outputs": [],
   "source": [
    "mapper = {'MORTGAGE':'MORTGAGE',\n",
    "          'RENT':'RENT',\n",
    "          'OWN':'OWN',\n",
    "          'NONE':'OTHER',\n",
    "          'ANY':'OTHER',\n",
    "          'OTHER':'OTHER'}\n",
    "loans['home_ownership2'] = loans['home_ownership'].map(mapper)"
   ]
  },
  {
   "cell_type": "code",
   "execution_count": null,
   "id": "treated-falls",
   "metadata": {},
   "outputs": [],
   "source": [
    "loans.home_ownership2.value_counts()"
   ]
  },
  {
   "cell_type": "code",
   "execution_count": null,
   "id": "micro-methodology",
   "metadata": {},
   "outputs": [],
   "source": [
    "loans[['home_ownership2','y']].value_counts()"
   ]
  },
  {
   "cell_type": "code",
   "execution_count": null,
   "id": "ceramic-religion",
   "metadata": {},
   "outputs": [],
   "source": [
    "loans[['home_ownership','y']].value_counts()\n",
    "\n",
    "\n"
   ]
  },
  {
   "cell_type": "code",
   "execution_count": null,
   "id": "driven-moisture",
   "metadata": {},
   "outputs": [],
   "source": [
    "sns.kdeplot(data=loans, x='open_acc', hue='y')"
   ]
  },
  {
   "cell_type": "code",
   "execution_count": null,
   "id": "young-steal",
   "metadata": {},
   "outputs": [],
   "source": [
    "loans.purpose.value_counts(dropna=False)"
   ]
  },
  {
   "cell_type": "code",
   "execution_count": null,
   "id": "duplicate-valuable",
   "metadata": {
    "scrolled": true
   },
   "outputs": [],
   "source": [
    "sns.countplot(data=loans, y='purpose', hue='y')"
   ]
  },
  {
   "cell_type": "code",
   "execution_count": 123,
   "id": "opened-situation",
   "metadata": {},
   "outputs": [
    {
     "name": "stdout",
     "output_type": "stream",
     "text": [
      "<class 'pandas.core.frame.DataFrame'>\n",
      "RangeIndex: 887379 entries, 0 to 887378\n",
      "Data columns (total 73 columns):\n",
      " #   Column                               Non-Null Count   Dtype  \n",
      "---  ------                               --------------   -----  \n",
      " 0   loan_amnt                            887379 non-null  float64\n",
      " 1   annual_inc                           887379 non-null  float64\n",
      " 2   revol_util                           887379 non-null  float64\n",
      " 3   delinq_2yrs                          887379 non-null  float64\n",
      " 4   term2                                887379 non-null  int64  \n",
      " 5   home_ownership2_OTHER                887379 non-null  uint8  \n",
      " 6   home_ownership2_OWN                  887379 non-null  uint8  \n",
      " 7   home_ownership2_RENT                 887379 non-null  uint8  \n",
      " 8   verification_status_Source Verified  887379 non-null  uint8  \n",
      " 9   verification_status_Verified         887379 non-null  uint8  \n",
      " 10  purpose_credit_card                  887379 non-null  uint8  \n",
      " 11  purpose_debt_consolidation           887379 non-null  uint8  \n",
      " 12  purpose_educational                  887379 non-null  uint8  \n",
      " 13  purpose_home_improvement             887379 non-null  uint8  \n",
      " 14  purpose_house                        887379 non-null  uint8  \n",
      " 15  purpose_major_purchase               887379 non-null  uint8  \n",
      " 16  purpose_medical                      887379 non-null  uint8  \n",
      " 17  purpose_moving                       887379 non-null  uint8  \n",
      " 18  purpose_other                        887379 non-null  uint8  \n",
      " 19  purpose_renewable_energy             887379 non-null  uint8  \n",
      " 20  purpose_small_business               887379 non-null  uint8  \n",
      " 21  purpose_vacation                     887379 non-null  uint8  \n",
      " 22  purpose_wedding                      887379 non-null  uint8  \n",
      " 23  addr_state_AL                        887379 non-null  uint8  \n",
      " 24  addr_state_AR                        887379 non-null  uint8  \n",
      " 25  addr_state_AZ                        887379 non-null  uint8  \n",
      " 26  addr_state_CA                        887379 non-null  uint8  \n",
      " 27  addr_state_CO                        887379 non-null  uint8  \n",
      " 28  addr_state_CT                        887379 non-null  uint8  \n",
      " 29  addr_state_DC                        887379 non-null  uint8  \n",
      " 30  addr_state_DE                        887379 non-null  uint8  \n",
      " 31  addr_state_FL                        887379 non-null  uint8  \n",
      " 32  addr_state_GA                        887379 non-null  uint8  \n",
      " 33  addr_state_HI                        887379 non-null  uint8  \n",
      " 34  addr_state_IA                        887379 non-null  uint8  \n",
      " 35  addr_state_ID                        887379 non-null  uint8  \n",
      " 36  addr_state_IL                        887379 non-null  uint8  \n",
      " 37  addr_state_IN                        887379 non-null  uint8  \n",
      " 38  addr_state_KS                        887379 non-null  uint8  \n",
      " 39  addr_state_KY                        887379 non-null  uint8  \n",
      " 40  addr_state_LA                        887379 non-null  uint8  \n",
      " 41  addr_state_MA                        887379 non-null  uint8  \n",
      " 42  addr_state_MD                        887379 non-null  uint8  \n",
      " 43  addr_state_ME                        887379 non-null  uint8  \n",
      " 44  addr_state_MI                        887379 non-null  uint8  \n",
      " 45  addr_state_MN                        887379 non-null  uint8  \n",
      " 46  addr_state_MO                        887379 non-null  uint8  \n",
      " 47  addr_state_MS                        887379 non-null  uint8  \n",
      " 48  addr_state_MT                        887379 non-null  uint8  \n",
      " 49  addr_state_NC                        887379 non-null  uint8  \n",
      " 50  addr_state_ND                        887379 non-null  uint8  \n",
      " 51  addr_state_NE                        887379 non-null  uint8  \n",
      " 52  addr_state_NH                        887379 non-null  uint8  \n",
      " 53  addr_state_NJ                        887379 non-null  uint8  \n",
      " 54  addr_state_NM                        887379 non-null  uint8  \n",
      " 55  addr_state_NV                        887379 non-null  uint8  \n",
      " 56  addr_state_NY                        887379 non-null  uint8  \n",
      " 57  addr_state_OH                        887379 non-null  uint8  \n",
      " 58  addr_state_OK                        887379 non-null  uint8  \n",
      " 59  addr_state_OR                        887379 non-null  uint8  \n",
      " 60  addr_state_PA                        887379 non-null  uint8  \n",
      " 61  addr_state_RI                        887379 non-null  uint8  \n",
      " 62  addr_state_SC                        887379 non-null  uint8  \n",
      " 63  addr_state_SD                        887379 non-null  uint8  \n",
      " 64  addr_state_TN                        887379 non-null  uint8  \n",
      " 65  addr_state_TX                        887379 non-null  uint8  \n",
      " 66  addr_state_UT                        887379 non-null  uint8  \n",
      " 67  addr_state_VA                        887379 non-null  uint8  \n",
      " 68  addr_state_VT                        887379 non-null  uint8  \n",
      " 69  addr_state_WA                        887379 non-null  uint8  \n",
      " 70  addr_state_WI                        887379 non-null  uint8  \n",
      " 71  addr_state_WV                        887379 non-null  uint8  \n",
      " 72  addr_state_WY                        887379 non-null  uint8  \n",
      "dtypes: float64(4), int64(1), uint8(68)\n",
      "memory usage: 91.4 MB\n"
     ]
    }
   ],
   "source": [
    "X.info()"
   ]
  },
  {
   "cell_type": "code",
   "execution_count": 406,
   "id": "assured-paris",
   "metadata": {},
   "outputs": [
    {
     "name": "stdout",
     "output_type": "stream",
     "text": [
      "(776759, 77)\n",
      "(776759, 77)\n",
      "Simple Logistic Regression; Test F1: 0.000, Test AUC: 0.544\n",
      "Simple Logistic Regression; Test F1: 0.000, Test AUC: 0.544\n",
      "Logistic Regression on Oversampled Train Data; Test F1: 0.009, Test AUC: 0.595\n"
     ]
    }
   ],
   "source": [
    "\n",
    "import imblearn.over_sampling\n",
    "\n",
    "# setup for the ratio argument of RandomOverSampler initialization\n",
    "n_pos = np.sum(y_train == 1)\n",
    "n_neg = np.sum(y_train == 0)\n",
    "ratio = {1 : n_pos * 10, 0 : n_neg} \n",
    "\n",
    "# randomly oversample positive samples: create 4x as many \n",
    "ROS = imblearn.over_sampling.RandomOverSampler(sampling_strategy = ratio, random_state=42) \n",
    "    \n",
    "X_tr_rs, y_tr_rs = ROS.fit_resample(X_train, y_train)\n",
    "\n",
    "print(X_tr_rs.shape)\n",
    "print(X_tr_rs.shape)\n",
    "\n",
    "lr = LogisticRegression(solver='liblinear') \n",
    "lr.fit(X_train, y_train)\n",
    "\n",
    "print('Simple Logistic Regression; Test F1: %.3f, Test AUC: %.3f' % \\\n",
    "      (fbeta_score(y_tr_rs, lr.predict(X_tr_rs), beta=2), roc_auc_score(y_tr_rs, lr.predict_proba(X_tr_rs)[:,1]))) \n",
    "print('Simple Logistic Regression; Test F1: %.3f, Test AUC: %.3f' % \\\n",
    "      (fbeta_score(y_val, lr.predict(X_val), beta=2), roc_auc_score(y_val, lr.predict_proba(X_val)[:,1]))) \n",
    "\n",
    "\n",
    "\n",
    "lr_os = LogisticRegression(solver='liblinear') \n",
    "lr_os.fit(X_tr_rs, y_tr_rs)\n",
    "\n",
    "print('Logistic Regression on Oversampled Train Data; Test F1: %.3f, Test AUC: %.3f' % \\\n",
    "      (fbeta_score(y_val, lr_os.predict(X_val), beta=2), roc_auc_score(y_val, lr_os.predict_proba(X_val)[:,1])))"
   ]
  },
  {
   "cell_type": "code",
   "execution_count": 176,
   "id": "seasonal-economics",
   "metadata": {},
   "outputs": [
    {
     "data": {
      "text/plain": [
       "108592"
      ]
     },
     "execution_count": 176,
     "metadata": {},
     "output_type": "execute_result"
    }
   ],
   "source": [
    "sum(y_tr_rs)\n"
   ]
  },
  {
   "cell_type": "code",
   "execution_count": 407,
   "id": "weekly-standard",
   "metadata": {},
   "outputs": [
    {
     "name": "stdout",
     "output_type": "stream",
     "text": [
      "Logistic Regression on SMOTE Train Data; Test F1: 0.007, Test AUC: 0.589\n"
     ]
    }
   ],
   "source": [
    "smote = imblearn.over_sampling.SMOTE(sampling_strategy=ratio, random_state = 42)\n",
    "    \n",
    "X_tr_smote, y_tr_smote = smote.fit_resample(X_train, y_train)\n",
    "\n",
    "lr_smote = LogisticRegression(solver='liblinear') \n",
    "lr_smote.fit(X_tr_smote, y_tr_smote)\n",
    "\n",
    "print('Logistic Regression on SMOTE Train Data; Test F1: %.3f, Test AUC: %.3f' % \\\n",
    "      (f1_score(y_train, lr_smote.predict(X_train)), roc_auc_score(y_train, lr_smote.predict_proba(X_train)[:,1])))"
   ]
  },
  {
   "cell_type": "code",
   "execution_count": null,
   "id": "limited-franchise",
   "metadata": {},
   "outputs": [],
   "source": []
  },
  {
   "cell_type": "code",
   "execution_count": null,
   "id": "tracked-horizon",
   "metadata": {},
   "outputs": [],
   "source": []
  },
  {
   "cell_type": "code",
   "execution_count": null,
   "id": "better-daily",
   "metadata": {},
   "outputs": [],
   "source": []
  },
  {
   "cell_type": "code",
   "execution_count": 425,
   "id": "expanded-fitting",
   "metadata": {},
   "outputs": [
    {
     "name": "stdout",
     "output_type": "stream",
     "text": [
      "\n",
      "Training:\n",
      "Accuracy:  0.9487747823523162\n",
      "Precision: 0.9785107000200834\n",
      "Recall:    0.8076101370266686\n",
      "F1:        0.8848843192848278\n",
      "Fbeta:     0.8368416432249224\n",
      "\n",
      "Validation:\n",
      "Accuracy:  0.9439528799253231\n",
      "Precision: 0.06353322528363047\n",
      "Recall:    0.0072196846913216445\n",
      "F1:        0.012965964343598056\n",
      "Fbeta:     0.008775307359617469\n"
     ]
    },
    {
     "data": {
      "image/png": "[encoded data removed]",
      "text/plain": [
       "<Figure size 432x432 with 4 Axes>"
      ]
     },
     "metadata": {},
     "output_type": "display_data"
    }
   ],
   "source": [
    "# ss = StandardScaler()\n",
    "# X_train_scaled = ss.fit_transform(X_train)\n",
    "\n",
    "#lm = LogisticRegression(C=1000, class_weight='balanced' )\n",
    "lm = LogisticRegression(C=1000)\n",
    "# setup for the ratio argument of RandomOverSampler initialization\n",
    "n_pos = np.sum(y_train == 1)\n",
    "n_neg = np.sum(y_train == 0)\n",
    "ratio = {1 : n_pos * 6, 0 : n_neg} \n",
    "\n",
    "smote = imblearn.over_sampling.SMOTE(sampling_strategy=ratio, random_state = 42)\n",
    "    \n",
    "X_tr_smote, y_tr_smote = smote.fit_resample(X_train, y_train)\n",
    "\n",
    "ss = StandardScaler()\n",
    "X_train_scaled = ss.fit_transform(X_tr_smote)\n",
    "X_val_scaled = ss.transform(X_val)\n",
    "\n",
    "\n",
    "\n",
    "lm.fit(X_train_scaled, y_tr_smote)\n",
    "\n",
    "y_preds = lm.predict(X_train_scaled)\n",
    "y_preds2 = lm.predict(X_val_scaled)\n",
    "\n",
    "\n",
    "APRF2(y_tr_smote, y_preds, y_val, y_preds2)"
   ]
  },
  {
   "cell_type": "code",
   "execution_count": 421,
   "id": "immediate-steel",
   "metadata": {},
   "outputs": [
    {
     "data": {
      "text/plain": [
       "0    505279\n",
       "1    108592\n",
       "Name: y, dtype: int64"
      ]
     },
     "execution_count": 421,
     "metadata": {},
     "output_type": "execute_result"
    }
   ],
   "source": [
    "y_tr_smote.value_counts()"
   ]
  },
  {
   "cell_type": "code",
   "execution_count": 215,
   "id": "excited-survey",
   "metadata": {
    "collapsed": true
   },
   "outputs": [
    {
     "name": "stdout",
     "output_type": "stream",
     "text": [
      "<class 'pandas.core.frame.DataFrame'>\n",
      "RangeIndex: 887379 entries, 0 to 887378\n",
      "Data columns (total 77 columns):\n",
      " #   Column                       Non-Null Count   Dtype  \n",
      "---  ------                       --------------   -----  \n",
      " 0   id                           887379 non-null  int64  \n",
      " 1   member_id                    887379 non-null  int64  \n",
      " 2   loan_amnt                    887379 non-null  float64\n",
      " 3   funded_amnt                  887379 non-null  float64\n",
      " 4   funded_amnt_inv              887379 non-null  float64\n",
      " 5   term                         887379 non-null  object \n",
      " 6   int_rate                     887379 non-null  float64\n",
      " 7   installment                  887379 non-null  float64\n",
      " 8   grade                        887379 non-null  object \n",
      " 9   sub_grade                    887379 non-null  object \n",
      " 10  emp_title                    835917 non-null  object \n",
      " 11  emp_length                   842554 non-null  object \n",
      " 12  home_ownership               887379 non-null  object \n",
      " 13  annual_inc                   887375 non-null  float64\n",
      " 14  verification_status          887379 non-null  object \n",
      " 15  issue_d                      887379 non-null  object \n",
      " 16  loan_status                  887379 non-null  object \n",
      " 17  pymnt_plan                   887379 non-null  object \n",
      " 18  url                          887379 non-null  object \n",
      " 19  desc                         126028 non-null  object \n",
      " 20  purpose                      887379 non-null  object \n",
      " 21  title                        887227 non-null  object \n",
      " 22  zip_code                     887379 non-null  object \n",
      " 23  addr_state                   887379 non-null  object \n",
      " 24  dti                          887379 non-null  float64\n",
      " 25  delinq_2yrs                  887350 non-null  float64\n",
      " 26  earliest_cr_line             887350 non-null  object \n",
      " 27  inq_last_6mths               887350 non-null  float64\n",
      " 28  mths_since_last_delinq       433067 non-null  float64\n",
      " 29  mths_since_last_record       137053 non-null  float64\n",
      " 30  open_acc                     887350 non-null  float64\n",
      " 31  pub_rec                      887350 non-null  float64\n",
      " 32  revol_bal                    887379 non-null  float64\n",
      " 33  revol_util                   886877 non-null  float64\n",
      " 34  total_acc                    887350 non-null  float64\n",
      " 35  initial_list_status          887379 non-null  object \n",
      " 36  out_prncp                    887379 non-null  float64\n",
      " 37  out_prncp_inv                887379 non-null  float64\n",
      " 38  total_pymnt                  887379 non-null  float64\n",
      " 39  total_pymnt_inv              887379 non-null  float64\n",
      " 40  total_rec_prncp              887379 non-null  float64\n",
      " 41  total_rec_int                887379 non-null  float64\n",
      " 42  total_rec_late_fee           887379 non-null  float64\n",
      " 43  recoveries                   887379 non-null  float64\n",
      " 44  collection_recovery_fee      887379 non-null  float64\n",
      " 45  last_pymnt_d                 869720 non-null  object \n",
      " 46  last_pymnt_amnt              887379 non-null  float64\n",
      " 47  next_pymnt_d                 634408 non-null  object \n",
      " 48  last_credit_pull_d           887326 non-null  object \n",
      " 49  collections_12_mths_ex_med   887234 non-null  float64\n",
      " 50  mths_since_last_major_derog  221703 non-null  float64\n",
      " 51  policy_code                  887379 non-null  float64\n",
      " 52  application_type             887379 non-null  object \n",
      " 53  annual_inc_joint             511 non-null     float64\n",
      " 54  dti_joint                    509 non-null     float64\n",
      " 55  verification_status_joint    511 non-null     object \n",
      " 56  acc_now_delinq               887350 non-null  float64\n",
      " 57  tot_coll_amt                 817103 non-null  float64\n",
      " 58  tot_cur_bal                  817103 non-null  float64\n",
      " 59  open_acc_6m                  21372 non-null   float64\n",
      " 60  open_il_6m                   21372 non-null   float64\n",
      " 61  open_il_12m                  21372 non-null   float64\n",
      " 62  open_il_24m                  21372 non-null   float64\n",
      " 63  mths_since_rcnt_il           20810 non-null   float64\n",
      " 64  total_bal_il                 21372 non-null   float64\n",
      " 65  il_util                      18617 non-null   float64\n",
      " 66  open_rv_12m                  21372 non-null   float64\n",
      " 67  open_rv_24m                  21372 non-null   float64\n",
      " 68  max_bal_bc                   21372 non-null   float64\n",
      " 69  all_util                     21372 non-null   float64\n",
      " 70  total_rev_hi_lim             817103 non-null  float64\n",
      " 71  inq_fi                       21372 non-null   float64\n",
      " 72  total_cu_tl                  21372 non-null   float64\n",
      " 73  inq_last_12m                 21372 non-null   float64\n",
      " 74  y                            887379 non-null  int64  \n",
      " 75  home_ownership2              887379 non-null  object \n",
      " 76  term2                        887379 non-null  int64  \n",
      "dtypes: float64(49), int64(4), object(24)\n",
      "memory usage: 521.3+ MB\n"
     ]
    }
   ],
   "source": [
    "loans.info()"
   ]
  },
  {
   "cell_type": "code",
   "execution_count": 222,
   "id": "smooth-gibson",
   "metadata": {},
   "outputs": [
    {
     "data": {
      "text/html": [
       "<div>\n",
       "<style scoped>\n",
       "    .dataframe tbody tr th:only-of-type {\n",
       "        vertical-align: middle;\n",
       "    }\n",
       "\n",
       "    .dataframe tbody tr th {\n",
       "        vertical-align: top;\n",
       "    }\n",
       "\n",
       "    .dataframe thead th {\n",
       "        text-align: right;\n",
       "    }\n",
       "</style>\n",
       "<table border=\"1\" class=\"dataframe\">\n",
       "  <thead>\n",
       "    <tr style=\"text-align: right;\">\n",
       "      <th></th>\n",
       "      <th>index</th>\n",
       "      <th>count</th>\n",
       "      <th>pct</th>\n",
       "    </tr>\n",
       "  </thead>\n",
       "  <tbody>\n",
       "    <tr>\n",
       "      <th>0</th>\n",
       "      <td>19.20</td>\n",
       "      <td>684</td>\n",
       "      <td>0.000771</td>\n",
       "    </tr>\n",
       "    <tr>\n",
       "      <th>1</th>\n",
       "      <td>14.40</td>\n",
       "      <td>674</td>\n",
       "      <td>0.000760</td>\n",
       "    </tr>\n",
       "    <tr>\n",
       "      <th>2</th>\n",
       "      <td>18.00</td>\n",
       "      <td>661</td>\n",
       "      <td>0.000745</td>\n",
       "    </tr>\n",
       "    <tr>\n",
       "      <th>3</th>\n",
       "      <td>13.20</td>\n",
       "      <td>638</td>\n",
       "      <td>0.000719</td>\n",
       "    </tr>\n",
       "    <tr>\n",
       "      <th>4</th>\n",
       "      <td>16.80</td>\n",
       "      <td>632</td>\n",
       "      <td>0.000712</td>\n",
       "    </tr>\n",
       "    <tr>\n",
       "      <th>...</th>\n",
       "      <td>...</td>\n",
       "      <td>...</td>\n",
       "      <td>...</td>\n",
       "    </tr>\n",
       "    <tr>\n",
       "      <th>4081</th>\n",
       "      <td>54.36</td>\n",
       "      <td>1</td>\n",
       "      <td>0.000001</td>\n",
       "    </tr>\n",
       "    <tr>\n",
       "      <th>4082</th>\n",
       "      <td>63.64</td>\n",
       "      <td>1</td>\n",
       "      <td>0.000001</td>\n",
       "    </tr>\n",
       "    <tr>\n",
       "      <th>4083</th>\n",
       "      <td>42.10</td>\n",
       "      <td>1</td>\n",
       "      <td>0.000001</td>\n",
       "    </tr>\n",
       "    <tr>\n",
       "      <th>4084</th>\n",
       "      <td>61.21</td>\n",
       "      <td>1</td>\n",
       "      <td>0.000001</td>\n",
       "    </tr>\n",
       "    <tr>\n",
       "      <th>4085</th>\n",
       "      <td>44.40</td>\n",
       "      <td>1</td>\n",
       "      <td>0.000001</td>\n",
       "    </tr>\n",
       "  </tbody>\n",
       "</table>\n",
       "<p>4086 rows × 3 columns</p>\n",
       "</div>"
      ],
      "text/plain": [
       "      index  count       pct\n",
       "0     19.20    684  0.000771\n",
       "1     14.40    674  0.000760\n",
       "2     18.00    661  0.000745\n",
       "3     13.20    638  0.000719\n",
       "4     16.80    632  0.000712\n",
       "...     ...    ...       ...\n",
       "4081  54.36      1  0.000001\n",
       "4082  63.64      1  0.000001\n",
       "4083  42.10      1  0.000001\n",
       "4084  61.21      1  0.000001\n",
       "4085  44.40      1  0.000001\n",
       "\n",
       "[4086 rows x 3 columns]"
      ]
     },
     "execution_count": 222,
     "metadata": {},
     "output_type": "execute_result"
    }
   ],
   "source": [
    "vcounts('dti')"
   ]
  },
  {
   "cell_type": "code",
   "execution_count": 221,
   "id": "silver-cornell",
   "metadata": {},
   "outputs": [
    {
     "data": {
      "text/plain": [
       "emp_length  y\n",
       "10+ years   0    278436\n",
       "2 years     0     74837\n",
       "< 1 year    0     66752\n",
       "3 years     0     66492\n",
       "1 year      0     54131\n",
       "5 years     0     52501\n",
       "4 years     0     49754\n",
       "7 years     0     41992\n",
       "8 years     0     41801\n",
       "6 years     0     40255\n",
       "9 years     0     32880\n",
       "10+ years   1     13133\n",
       "2 years     1      4033\n",
       "< 1 year    1      3853\n",
       "3 years     1      3534\n",
       "5 years     1      3203\n",
       "1 year      1      2964\n",
       "4 years     1      2775\n",
       "6 years     1      2695\n",
       "7 years     1      2602\n",
       "8 years     1      2154\n",
       "9 years     1      1777\n",
       "dtype: int64"
      ]
     },
     "execution_count": 221,
     "metadata": {},
     "output_type": "execute_result"
    }
   ],
   "source": [
    "loans[['emp_length','y']].value_counts()"
   ]
  },
  {
   "cell_type": "code",
   "execution_count": 228,
   "id": "unknown-press",
   "metadata": {},
   "outputs": [
    {
     "data": {
      "text/html": [
       "<div>\n",
       "<style scoped>\n",
       "    .dataframe tbody tr th:only-of-type {\n",
       "        vertical-align: middle;\n",
       "    }\n",
       "\n",
       "    .dataframe tbody tr th {\n",
       "        vertical-align: top;\n",
       "    }\n",
       "\n",
       "    .dataframe thead th {\n",
       "        text-align: right;\n",
       "    }\n",
       "</style>\n",
       "<table border=\"1\" class=\"dataframe\">\n",
       "  <thead>\n",
       "    <tr style=\"text-align: right;\">\n",
       "      <th></th>\n",
       "      <th>index</th>\n",
       "      <th>count</th>\n",
       "      <th>pct</th>\n",
       "    </tr>\n",
       "  </thead>\n",
       "  <tbody>\n",
       "    <tr>\n",
       "      <th>0</th>\n",
       "      <td>1.0</td>\n",
       "      <td>887379</td>\n",
       "      <td>1.0</td>\n",
       "    </tr>\n",
       "  </tbody>\n",
       "</table>\n",
       "</div>"
      ],
      "text/plain": [
       "   index   count  pct\n",
       "0    1.0  887379  1.0"
      ]
     },
     "execution_count": 228,
     "metadata": {},
     "output_type": "execute_result"
    }
   ],
   "source": [
    "vcounts('policy_code')"
   ]
  },
  {
   "cell_type": "code",
   "execution_count": 230,
   "id": "overhead-conspiracy",
   "metadata": {
    "scrolled": true
   },
   "outputs": [
    {
     "data": {
      "text/html": [
       "<div>\n",
       "<style scoped>\n",
       "    .dataframe tbody tr th:only-of-type {\n",
       "        vertical-align: middle;\n",
       "    }\n",
       "\n",
       "    .dataframe tbody tr th {\n",
       "        vertical-align: top;\n",
       "    }\n",
       "\n",
       "    .dataframe thead th {\n",
       "        text-align: right;\n",
       "    }\n",
       "</style>\n",
       "<table border=\"1\" class=\"dataframe\">\n",
       "  <thead>\n",
       "    <tr style=\"text-align: right;\">\n",
       "      <th></th>\n",
       "      <th>index</th>\n",
       "      <th>count</th>\n",
       "      <th>pct</th>\n",
       "    </tr>\n",
       "  </thead>\n",
       "  <tbody>\n",
       "    <tr>\n",
       "      <th>0</th>\n",
       "      <td>INDIVIDUAL</td>\n",
       "      <td>886868</td>\n",
       "      <td>0.999424</td>\n",
       "    </tr>\n",
       "    <tr>\n",
       "      <th>1</th>\n",
       "      <td>JOINT</td>\n",
       "      <td>511</td>\n",
       "      <td>0.000576</td>\n",
       "    </tr>\n",
       "  </tbody>\n",
       "</table>\n",
       "</div>"
      ],
      "text/plain": [
       "        index   count       pct\n",
       "0  INDIVIDUAL  886868  0.999424\n",
       "1       JOINT     511  0.000576"
      ]
     },
     "execution_count": 230,
     "metadata": {},
     "output_type": "execute_result"
    }
   ],
   "source": [
    "vcounts('application_type')"
   ]
  },
  {
   "cell_type": "code",
   "execution_count": 527,
   "id": "genetic-consumer",
   "metadata": {},
   "outputs": [
    {
     "data": {
      "image/png": "[encoded data removed]",
      "text/plain": [
       "<Figure size 432x288 with 1 Axes>"
      ]
     },
     "metadata": {},
     "output_type": "display_data"
    }
   ],
   "source": [
    "plt.pie(x=y.value_counts(),labels=['All other status', 'Default'],\n",
    "        explode=[0.05]*2, autopct=\"%.1f%%\", pctdistance=0.5);\n",
    "plt.title('Loans by Status', fontsize=14)\n",
    "#plt.xlabel(fontcolor=2)\n",
    "sns.set_theme('talk')\n",
    "sns.set_"
   ]
  },
  {
   "cell_type": "code",
   "execution_count": 540,
   "id": "latin-fiction",
   "metadata": {},
   "outputs": [
    {
     "data": {
      "image/png": "[encoded data removed]",
      "text/plain": [
       "<Figure size 360x360 with 1 Axes>"
      ]
     },
     "metadata": {},
     "output_type": "display_data"
    }
   ],
   "source": [
    "plt.figure(figsize=(5,5))\n",
    "\n",
    "mapper = {0: \"Non-Default\", 1:'Default'}\n",
    "loans['ylabel'] = loans.y.map(mapper)\n",
    "sns.countplot(data=loans, x='ylabel')\n",
    "plt.xlabel('Loan Status')\n",
    "plt.ylabel(\"Loans\")\n",
    "plt.title('Loans by Status', fontsize=16)\n",
    "#plt.annotate(xy=(0.70,200000), text=f\"High Class\\n Imbalance!\" )\n",
    "\n",
    "sns.set_theme('talk')\n",
    "sns.set_style('white')\n",
    "plt.savefig(\"presentation/loans_imbalance.png\")\n"
   ]
  },
  {
   "cell_type": "code",
   "execution_count": 469,
   "id": "gothic-master",
   "metadata": {},
   "outputs": [
    {
     "data": {
      "text/plain": [
       "0         0\n",
       "1         1\n",
       "2         0\n",
       "3         0\n",
       "4         0\n",
       "         ..\n",
       "887374    0\n",
       "887375    0\n",
       "887376    0\n",
       "887377    0\n",
       "887378    0\n",
       "Name: y, Length: 887379, dtype: int64"
      ]
     },
     "execution_count": 469,
     "metadata": {},
     "output_type": "execute_result"
    }
   ],
   "source": [
    "y\n"
   ]
  },
  {
   "cell_type": "code",
   "execution_count": null,
   "id": "mathematical-thesaurus",
   "metadata": {},
   "outputs": [],
   "source": [
    "#Using matplotlib\n",
    "pie, ax = plt.subplots(figsize=[10,6])\n",
    "labels = data.keys()\n",
    "plt.pie(x=data, autopct=\"%.1f%%\", explode=[0.05]*4, labels=labels, pctdistance=0.5)\n",
    "plt.title(\"Delivery Tips by type\", fontsize=14);\n",
    "#pie.savefig(\"DeliveryPieChart.png\")"
   ]
  },
  {
   "cell_type": "code",
   "execution_count": 507,
   "id": "outside-detroit",
   "metadata": {},
   "outputs": [
    {
     "data": {
      "text/plain": [
       "887379"
      ]
     },
     "execution_count": 507,
     "metadata": {},
     "output_type": "execute_result"
    }
   ],
   "source": [
    "len(loans)\n"
   ]
  },
  {
   "cell_type": "code",
   "execution_count": 508,
   "id": "living-introduction",
   "metadata": {},
   "outputs": [
    {
     "data": {
      "text/plain": [
       "78"
      ]
     },
     "execution_count": 508,
     "metadata": {},
     "output_type": "execute_result"
    }
   ],
   "source": [
    "loans.columns.size"
   ]
  },
  {
   "cell_type": "code",
   "execution_count": 509,
   "id": "defensive-engine",
   "metadata": {},
   "outputs": [
    {
     "data": {
      "text/plain": [
       "Index(['id', 'member_id', 'loan_amnt', 'funded_amnt', 'funded_amnt_inv',\n",
       "       'term', 'int_rate', 'installment', 'grade', 'sub_grade', 'emp_title',\n",
       "       'emp_length', 'home_ownership', 'annual_inc', 'verification_status',\n",
       "       'issue_d', 'loan_status', 'pymnt_plan', 'url', 'desc', 'purpose',\n",
       "       'title', 'zip_code', 'addr_state', 'dti', 'delinq_2yrs',\n",
       "       'earliest_cr_line', 'inq_last_6mths', 'mths_since_last_delinq',\n",
       "       'mths_since_last_record', 'open_acc', 'pub_rec', 'revol_bal',\n",
       "       'revol_util', 'total_acc', 'initial_list_status', 'out_prncp',\n",
       "       'out_prncp_inv', 'total_pymnt', 'total_pymnt_inv', 'total_rec_prncp',\n",
       "       'total_rec_int', 'total_rec_late_fee', 'recoveries',\n",
       "       'collection_recovery_fee', 'last_pymnt_d', 'last_pymnt_amnt',\n",
       "       'next_pymnt_d', 'last_credit_pull_d', 'collections_12_mths_ex_med',\n",
       "       'mths_since_last_major_derog', 'policy_code', 'application_type',\n",
       "       'annual_inc_joint', 'dti_joint', 'verification_status_joint',\n",
       "       'acc_now_delinq', 'tot_coll_amt', 'tot_cur_bal', 'open_acc_6m',\n",
       "       'open_il_6m', 'open_il_12m', 'open_il_24m', 'mths_since_rcnt_il',\n",
       "       'total_bal_il', 'il_util', 'open_rv_12m', 'open_rv_24m', 'max_bal_bc',\n",
       "       'all_util', 'total_rev_hi_lim', 'inq_fi', 'total_cu_tl', 'inq_last_12m',\n",
       "       'y', 'home_ownership2', 'term2', 'ylabel'],\n",
       "      dtype='object')"
      ]
     },
     "execution_count": 509,
     "metadata": {},
     "output_type": "execute_result"
    }
   ],
   "source": [
    "loans.columns\n"
   ]
  },
  {
   "cell_type": "code",
   "execution_count": 553,
   "id": "silent-halloween",
   "metadata": {},
   "outputs": [
    {
     "ename": "TypeError",
     "evalue": "value_counts() got an unexpected keyword argument 'dropna'",
     "output_type": "error",
     "traceback": [
      "\u001b[0;31m---------------------------------------------------------------------------\u001b[0m",
      "\u001b[0;31mTypeError\u001b[0m                                 Traceback (most recent call last)",
      "\u001b[0;32m<ipython-input-553-6af44d00233f>\u001b[0m in \u001b[0;36m<module>\u001b[0;34m\u001b[0m\n\u001b[0;32m----> 1\u001b[0;31m \u001b[0mloans\u001b[0m\u001b[0;34m.\u001b[0m\u001b[0mloc\u001b[0m\u001b[0;34m[\u001b[0m\u001b[0;34m:\u001b[0m\u001b[0;34m,\u001b[0m\u001b[0;34m[\u001b[0m\u001b[0;34m'emp_length'\u001b[0m\u001b[0;34m,\u001b[0m\u001b[0;34m'y'\u001b[0m\u001b[0;34m]\u001b[0m\u001b[0;34m]\u001b[0m\u001b[0;34m.\u001b[0m\u001b[0mvalue_counts\u001b[0m\u001b[0;34m(\u001b[0m\u001b[0mdropna\u001b[0m \u001b[0;34m=\u001b[0m \u001b[0;32mFalse\u001b[0m\u001b[0;34m)\u001b[0m\u001b[0;34m\u001b[0m\u001b[0;34m\u001b[0m\u001b[0m\n\u001b[0m",
      "\u001b[0;31mTypeError\u001b[0m: value_counts() got an unexpected keyword argument 'dropna'"
     ]
    }
   ],
   "source": []
  },
  {
   "cell_type": "code",
   "execution_count": 516,
   "id": "perceived-football",
   "metadata": {},
   "outputs": [],
   "source": [
    "grp = loans.groupby('zip_code')['zip_code'].count()"
   ]
  },
  {
   "cell_type": "code",
   "execution_count": 518,
   "id": "southeast-treat",
   "metadata": {},
   "outputs": [
    {
     "data": {
      "text/plain": [
       "zip_code\n",
       "945xx    9770\n",
       "750xx    9417\n",
       "112xx    9272\n",
       "606xx    8641\n",
       "300xx    8126\n",
       "         ... \n",
       "909xx       1\n",
       "621xx       1\n",
       "643xx       1\n",
       "649xx       1\n",
       "514xx       1\n",
       "Name: zip_code, Length: 935, dtype: int64"
      ]
     },
     "execution_count": 518,
     "metadata": {},
     "output_type": "execute_result"
    }
   ],
   "source": [
    "grp.sort_values(ascending=False)"
   ]
  },
  {
   "cell_type": "code",
   "execution_count": 524,
   "id": "crazy-fairy",
   "metadata": {},
   "outputs": [
    {
     "data": {
      "text/plain": [
       "zip_code\n",
       "010xx    1477\n",
       "015xx    1345\n",
       "017xx    1091\n",
       "018xx    2214\n",
       "019xx    1581\n",
       "         ... \n",
       "983xx    2192\n",
       "984xx    1141\n",
       "985xx    1252\n",
       "986xx    1767\n",
       "995xx    1053\n",
       "Name: zip_code, Length: 277, dtype: int64"
      ]
     },
     "execution_count": 524,
     "metadata": {},
     "output_type": "execute_result"
    }
   ],
   "source": [
    "grp[grp > 1000]"
   ]
  },
  {
   "cell_type": "code",
   "execution_count": 549,
   "id": "spanish-divorce",
   "metadata": {},
   "outputs": [
    {
     "name": "stdout",
     "output_type": "stream",
     "text": [
      "<class 'pandas.core.frame.DataFrame'>\n",
      "RangeIndex: 887379 entries, 0 to 887378\n",
      "Data columns (total 78 columns):\n",
      " #   Column                       Non-Null Count   Dtype  \n",
      "---  ------                       --------------   -----  \n",
      " 0   id                           887379 non-null  int64  \n",
      " 1   member_id                    887379 non-null  int64  \n",
      " 2   loan_amnt                    887379 non-null  float64\n",
      " 3   funded_amnt                  887379 non-null  float64\n",
      " 4   funded_amnt_inv              887379 non-null  float64\n",
      " 5   term                         887379 non-null  object \n",
      " 6   int_rate                     887379 non-null  float64\n",
      " 7   installment                  887379 non-null  float64\n",
      " 8   grade                        887379 non-null  object \n",
      " 9   sub_grade                    887379 non-null  object \n",
      " 10  emp_title                    835917 non-null  object \n",
      " 11  emp_length                   842554 non-null  object \n",
      " 12  home_ownership               887379 non-null  object \n",
      " 13  annual_inc                   887375 non-null  float64\n",
      " 14  verification_status          887379 non-null  object \n",
      " 15  issue_d                      887379 non-null  object \n",
      " 16  loan_status                  887379 non-null  object \n",
      " 17  pymnt_plan                   887379 non-null  object \n",
      " 18  url                          887379 non-null  object \n",
      " 19  desc                         126028 non-null  object \n",
      " 20  purpose                      887379 non-null  object \n",
      " 21  title                        887227 non-null  object \n",
      " 22  zip_code                     887379 non-null  object \n",
      " 23  addr_state                   887379 non-null  object \n",
      " 24  dti                          887379 non-null  float64\n",
      " 25  delinq_2yrs                  887350 non-null  float64\n",
      " 26  earliest_cr_line             887350 non-null  object \n",
      " 27  inq_last_6mths               887350 non-null  float64\n",
      " 28  mths_since_last_delinq       433067 non-null  float64\n",
      " 29  mths_since_last_record       137053 non-null  float64\n",
      " 30  open_acc                     887350 non-null  float64\n",
      " 31  pub_rec                      887350 non-null  float64\n",
      " 32  revol_bal                    887379 non-null  float64\n",
      " 33  revol_util                   886877 non-null  float64\n",
      " 34  total_acc                    887350 non-null  float64\n",
      " 35  initial_list_status          887379 non-null  object \n",
      " 36  out_prncp                    887379 non-null  float64\n",
      " 37  out_prncp_inv                887379 non-null  float64\n",
      " 38  total_pymnt                  887379 non-null  float64\n",
      " 39  total_pymnt_inv              887379 non-null  float64\n",
      " 40  total_rec_prncp              887379 non-null  float64\n",
      " 41  total_rec_int                887379 non-null  float64\n",
      " 42  total_rec_late_fee           887379 non-null  float64\n",
      " 43  recoveries                   887379 non-null  float64\n",
      " 44  collection_recovery_fee      887379 non-null  float64\n",
      " 45  last_pymnt_d                 869720 non-null  object \n",
      " 46  last_pymnt_amnt              887379 non-null  float64\n",
      " 47  next_pymnt_d                 634408 non-null  object \n",
      " 48  last_credit_pull_d           887326 non-null  object \n",
      " 49  collections_12_mths_ex_med   887234 non-null  float64\n",
      " 50  mths_since_last_major_derog  221703 non-null  float64\n",
      " 51  policy_code                  887379 non-null  float64\n",
      " 52  application_type             887379 non-null  object \n",
      " 53  annual_inc_joint             511 non-null     float64\n",
      " 54  dti_joint                    509 non-null     float64\n",
      " 55  verification_status_joint    511 non-null     object \n",
      " 56  acc_now_delinq               887350 non-null  float64\n",
      " 57  tot_coll_amt                 817103 non-null  float64\n",
      " 58  tot_cur_bal                  817103 non-null  float64\n",
      " 59  open_acc_6m                  21372 non-null   float64\n",
      " 60  open_il_6m                   21372 non-null   float64\n",
      " 61  open_il_12m                  21372 non-null   float64\n",
      " 62  open_il_24m                  21372 non-null   float64\n",
      " 63  mths_since_rcnt_il           20810 non-null   float64\n",
      " 64  total_bal_il                 21372 non-null   float64\n",
      " 65  il_util                      18617 non-null   float64\n",
      " 66  open_rv_12m                  21372 non-null   float64\n",
      " 67  open_rv_24m                  21372 non-null   float64\n",
      " 68  max_bal_bc                   21372 non-null   float64\n",
      " 69  all_util                     21372 non-null   float64\n",
      " 70  total_rev_hi_lim             817103 non-null  float64\n",
      " 71  inq_fi                       21372 non-null   float64\n",
      " 72  total_cu_tl                  21372 non-null   float64\n",
      " 73  inq_last_12m                 21372 non-null   float64\n",
      " 74  y                            887379 non-null  int64  \n",
      " 75  home_ownership2              887379 non-null  object \n",
      " 76  term2                        887379 non-null  int64  \n",
      " 77  ylabel                       887379 non-null  object \n",
      "dtypes: float64(49), int64(4), object(25)\n",
      "memory usage: 528.1+ MB\n"
     ]
    }
   ],
   "source": [
    "loans.info()\n"
   ]
  },
  {
   "cell_type": "code",
   "execution_count": null,
   "id": "saving-campaign",
   "metadata": {},
   "outputs": [],
   "source": []
  }
 ],
 "metadata": {
  "kernelspec": {
   "display_name": "Python [conda env:metis] *",
   "language": "python",
   "name": "conda-env-metis-py"
  },
  "language_info": {
   "codemirror_mode": {
    "name": "ipython",
    "version": 3
   },
   "file_extension": ".py",
   "mimetype": "text/x-python",
   "name": "python",
   "nbconvert_exporter": "python",
   "pygments_lexer": "ipython3",
   "version": "3.8.8"
  }
 },
 "nbformat": 4,
 "nbformat_minor": 5
}
